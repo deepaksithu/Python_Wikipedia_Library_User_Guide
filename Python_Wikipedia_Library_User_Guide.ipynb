{
 "cells": [
  {
   "cell_type": "markdown",
   "metadata": {},
   "source": [
    "# Python Wikipedia Library User Guide"
   ]
  },
  {
   "cell_type": "markdown",
   "metadata": {},
   "source": [
    "## Deepak Sithu"
   ]
  },
  {
   "cell_type": "markdown",
   "metadata": {},
   "source": [
    "## Table of Contents\n",
    "- [Overview](#overview)\n",
    "- [Initial Exploration](#exploration)\n",
    "- [Data Wrangling](#wrangling)\n",
    "- [Data Cleaning](#cleaning)\n",
    "- [Analysis](#analysis)\n",
    "- [Conclusion](#conclusion)"
   ]
  },
  {
   "cell_type": "markdown",
   "metadata": {},
   "source": [
    "## Overview <a class=\"anchor\" id=\"overview\"></a>"
   ]
  },
  {
   "cell_type": "code",
   "execution_count": 18,
   "metadata": {},
   "outputs": [],
   "source": [
    "# import libraries\n",
    "import wikipedia as wiki"
   ]
  },
  {
   "cell_type": "code",
   "execution_count": 19,
   "metadata": {},
   "outputs": [
    {
     "name": "stdout",
     "output_type": "stream",
     "text": [
      "['Bill', 'The Bill', 'Bill Gates', 'Bill Clinton', 'Bill Simmons', 'Ill Bill', 'Bill Rieflin', 'Bill Moyers', 'Bill Hicks', 'Buffalo Bill']\n"
     ]
    }
   ],
   "source": [
    "# .search() method finds article titles containing a term\n",
    "print(wiki.search(\"Bill\"))"
   ]
  },
  {
   "cell_type": "code",
   "execution_count": 3,
   "metadata": {},
   "outputs": [
    {
     "name": "stdout",
     "output_type": "stream",
     "text": [
      "['Bill', 'The Bill']\n"
     ]
    }
   ],
   "source": [
    "# limit results of search\n",
    "print(wiki.search(\"Bill\", results = 2))"
   ]
  },
  {
   "cell_type": "code",
   "execution_count": 4,
   "metadata": {},
   "outputs": [
    {
     "name": "stdout",
     "output_type": "stream",
     "text": [
      "['Bill', 'The Bill', 'Bill Gates', 'Bill Clinton', 'Bill Simmons', 'Ill Bill', 'Bill Finger', 'Bill Nye', 'Bill Skarsgård', 'Bill Rieflin', 'Bill Blass', 'Bill Moyers', 'Bill Hicks', 'Buffalo Bill', 'Bill Doolin', 'Bill Fitch', 'Bill Wurtz', 'Appropriation bill', 'Bill of materials', 'Bill Wyman', 'Bill Shankly', 'Bill Bryson', 'Bill Cassidy', 'Bill Withers', 'Bill Bidwill', 'Bill Dundee', 'Bill Maher', 'Bill Hemmer', 'Bills, Bills, Bills', 'Bill Shorten', 'Bill of lading', 'Bill Plympton', 'Bill Monroe', 'Bill Oddie', 'Bill Fagerbakke', 'Bill Tilden', 'Heartbeat bill', 'Bill Haley', 'Bill Parcells', 'Bill of rights', 'Bill (weapon)', 'Bill James', 'Mr. Bill', 'Bill Engvall', 'Little Bill', 'Kill Bill: Volume 1', 'Bill Murray', 'Bill Kurtis', 'Bill Frist', 'Bill English', 'Bill W.', 'Bill Condon', 'Bill Laimbeer', 'Bill Kristol', 'Bill Ryan', 'Bill Medley', 'Bill Cosby', 'Bill Nelson', 'Bill Robinson', 'Private bill', 'Buffalo Bills', 'Bill Burr', 'Bill Payne', 'Bill Mumy', 'Bill Haywood', 'Bill Melendez', 'Bill Kreutzmann', 'Bill Nighy', 'Bill Belichick', 'Bathroom bill', 'Bill Cash', 'Bill Cowher', 'Bill Walton', 'Bill Kazmaier', 'Bill Weld', 'Bill Watterson', 'Bill Evans', 'Bill Mazeroski', 'Bill Marriott', 'Bill Mitchell', 'Bill Watts', 'Bill Bradley', 'Bill Paxton', 'Money bill', 'Bill Willingham', 'Bill Ayers', 'Bill Hader', 'Bill Pickett', 'Bill Frisell', 'Bill Schuette', 'Bill Oakley', 'Bill Sharman', 'Bill Pascrell', 'Bill Sikes', 'Bill of attainder', 'Bill Cartwright', 'Pecos Bill', 'Bill Self', 'Bill Moseley', 'Max Bill']\n"
     ]
    }
   ],
   "source": [
    "# increase results of search\n",
    "print(wiki.search(\"Bill\", results = 100))"
   ]
  },
  {
   "cell_type": "code",
   "execution_count": 5,
   "metadata": {},
   "outputs": [
    {
     "name": "stdout",
     "output_type": "stream",
     "text": [
      "buffalo bills\n"
     ]
    }
   ],
   "source": [
    "# .suggest() method finds article titles similar to term\n",
    "print(wiki.suggest('buffal bill'))"
   ]
  },
  {
   "cell_type": "code",
   "execution_count": 6,
   "metadata": {},
   "outputs": [
    {
     "name": "stdout",
     "output_type": "stream",
     "text": [
      "Kill Bill: Volume 1 is a 2003 American martial arts film written and directed by Quentin Tarantino. It stars Uma Thurman as the Bride, who swears revenge on a team of assassins (Lucy Liu, Michael Madsen, Daryl Hannah, and Vivica A. Fox) and their leader, Bill (David Carradine), after they try to kill her and her unborn child. Her journey takes her to Tokyo, where she battles the yakuza.\n",
      "Tarantino conceived Kill Bill as an homage to grindhouse cinema, including martial arts films, samurai cinema, blaxploitation films, and spaghetti Westerns. It features an anime sequence by Production I.G. It is the first of two Kill Bill films made in a single production; the films were originally set for a single release, but the film, with a runtime of over four hours, was divided in two. Volume 1 became Tarantino's highest-grossing film up to that point, earning over $180 million at the box office. Kill Bill: Volume 2 was released the next year, on April 16, 2004.\n"
     ]
    }
   ],
   "source": [
    "# .summary() method shows summary of requested article\n",
    "print(wiki.summary('Kill Bill'))"
   ]
  },
  {
   "cell_type": "code",
   "execution_count": 7,
   "metadata": {},
   "outputs": [
    {
     "name": "stdout",
     "output_type": "stream",
     "text": [
      "Eldrick Tont \"Tiger\" Woods (born December 30, 1975) is an American professional golfer. He is tied for first in PGA Tour wins and ranks second in men's major championships and also holds numerous golf records. Woods is widely regarded as one of the greatest golfers, and one of the most famous athletes of all time.\n"
     ]
    }
   ],
   "source": [
    "# limit summary by number of sentences\n",
    "print(wiki.summary('Tiger Woods', sentences = 3))"
   ]
  },
  {
   "cell_type": "code",
   "execution_count": 8,
   "metadata": {},
   "outputs": [
    {
     "name": "stderr",
     "output_type": "stream",
     "text": [
      "C:\\Users\\deepak\\Anaconda3\\lib\\site-packages\\wikipedia\\wikipedia.py:389: UserWarning: No parser was explicitly specified, so I'm using the best available HTML parser for this system (\"lxml\"). This usually isn't a problem, but if you run this code on another system, or in a different virtual environment, it may use a different parser and behave differently.\n",
      "\n",
      "The code that caused this warning is on line 389 of the file C:\\Users\\deepak\\Anaconda3\\lib\\site-packages\\wikipedia\\wikipedia.py. To get rid of this warning, pass the additional argument 'features=\"lxml\"' to the BeautifulSoup constructor.\n",
      "\n",
      "  lis = BeautifulSoup(html).find_all('li')\n"
     ]
    },
    {
     "ename": "DisambiguationError",
     "evalue": "\"Key\" may refer to: \nKey (cryptography)\nKey (lock)\nKey (map)\ntypewriter\ntest\nCay\nKey, Alabama\nKey, Ohio\nKey, West Virginia\nKeys, Oklahoma\nFlorida Keys\nKey, Iran\nKey Island\nKey (music)\nKey (instrument)\nkeyboard instruments\nKey (Meredith Monk album)\nKey (Son, Ambulance album)\nMaid in Japan\nKey (comics)\nThe Key (Elfgren and Strandberg novel)\nKey the Metal Idol\nKirby's Epic Yarn\n\"The Keys\" (Seinfeld)\nKey (entertainer)\nKey (surname)\nKeys (surname)\nKey (basketball)\nFrederick Keys\nKey (computing)\nKey (engineering)\nKeY\nKeynote\nTelegraph key\nKey (company)\ntruce term\nAmazon\nHouse of Keys\nSamara (fruit)\nAll pages with titles beginning with Key \nAll pages with titles containing Key\nKeay\nKeyes (disambiguation)\nKeying (disambiguation)\nQuay (disambiguation)\nQi (disambiguation)\nThe Key (disambiguation)\nThe Keys (disambiguation)",
     "output_type": "error",
     "traceback": [
      "\u001b[1;31m---------------------------------------------------------------------------\u001b[0m",
      "\u001b[1;31mDisambiguationError\u001b[0m                       Traceback (most recent call last)",
      "\u001b[1;32m<ipython-input-8-04637919c079>\u001b[0m in \u001b[0;36m<module>\u001b[1;34m\u001b[0m\n\u001b[0;32m      2\u001b[0m \u001b[1;31m# requested page doesn't exist or,\u001b[0m\u001b[1;33m\u001b[0m\u001b[1;33m\u001b[0m\u001b[1;33m\u001b[0m\u001b[0m\n\u001b[0;32m      3\u001b[0m \u001b[1;31m# request is disambiguous\u001b[0m\u001b[1;33m\u001b[0m\u001b[1;33m\u001b[0m\u001b[1;33m\u001b[0m\u001b[0m\n\u001b[1;32m----> 4\u001b[1;33m \u001b[0mprint\u001b[0m\u001b[1;33m(\u001b[0m\u001b[0mwiki\u001b[0m\u001b[1;33m.\u001b[0m\u001b[0msummary\u001b[0m\u001b[1;33m(\u001b[0m\u001b[1;34m'key'\u001b[0m\u001b[1;33m)\u001b[0m\u001b[1;33m)\u001b[0m\u001b[1;33m\u001b[0m\u001b[1;33m\u001b[0m\u001b[0m\n\u001b[0m",
      "\u001b[1;32m~\\Anaconda3\\lib\\site-packages\\wikipedia\\util.py\u001b[0m in \u001b[0;36m__call__\u001b[1;34m(self, *args, **kwargs)\u001b[0m\n\u001b[0;32m     26\u001b[0m       \u001b[0mret\u001b[0m \u001b[1;33m=\u001b[0m \u001b[0mself\u001b[0m\u001b[1;33m.\u001b[0m\u001b[0m_cache\u001b[0m\u001b[1;33m[\u001b[0m\u001b[0mkey\u001b[0m\u001b[1;33m]\u001b[0m\u001b[1;33m\u001b[0m\u001b[1;33m\u001b[0m\u001b[0m\n\u001b[0;32m     27\u001b[0m     \u001b[1;32melse\u001b[0m\u001b[1;33m:\u001b[0m\u001b[1;33m\u001b[0m\u001b[1;33m\u001b[0m\u001b[0m\n\u001b[1;32m---> 28\u001b[1;33m       \u001b[0mret\u001b[0m \u001b[1;33m=\u001b[0m \u001b[0mself\u001b[0m\u001b[1;33m.\u001b[0m\u001b[0m_cache\u001b[0m\u001b[1;33m[\u001b[0m\u001b[0mkey\u001b[0m\u001b[1;33m]\u001b[0m \u001b[1;33m=\u001b[0m \u001b[0mself\u001b[0m\u001b[1;33m.\u001b[0m\u001b[0mfn\u001b[0m\u001b[1;33m(\u001b[0m\u001b[1;33m*\u001b[0m\u001b[0margs\u001b[0m\u001b[1;33m,\u001b[0m \u001b[1;33m**\u001b[0m\u001b[0mkwargs\u001b[0m\u001b[1;33m)\u001b[0m\u001b[1;33m\u001b[0m\u001b[1;33m\u001b[0m\u001b[0m\n\u001b[0m\u001b[0;32m     29\u001b[0m \u001b[1;33m\u001b[0m\u001b[0m\n\u001b[0;32m     30\u001b[0m     \u001b[1;32mreturn\u001b[0m \u001b[0mret\u001b[0m\u001b[1;33m\u001b[0m\u001b[1;33m\u001b[0m\u001b[0m\n",
      "\u001b[1;32m~\\Anaconda3\\lib\\site-packages\\wikipedia\\wikipedia.py\u001b[0m in \u001b[0;36msummary\u001b[1;34m(title, sentences, chars, auto_suggest, redirect)\u001b[0m\n\u001b[0;32m    229\u001b[0m   \u001b[1;31m# use auto_suggest and redirect to get the correct article\u001b[0m\u001b[1;33m\u001b[0m\u001b[1;33m\u001b[0m\u001b[1;33m\u001b[0m\u001b[0m\n\u001b[0;32m    230\u001b[0m   \u001b[1;31m# also, use page's error checking to raise DisambiguationError if necessary\u001b[0m\u001b[1;33m\u001b[0m\u001b[1;33m\u001b[0m\u001b[1;33m\u001b[0m\u001b[0m\n\u001b[1;32m--> 231\u001b[1;33m   \u001b[0mpage_info\u001b[0m \u001b[1;33m=\u001b[0m \u001b[0mpage\u001b[0m\u001b[1;33m(\u001b[0m\u001b[0mtitle\u001b[0m\u001b[1;33m,\u001b[0m \u001b[0mauto_suggest\u001b[0m\u001b[1;33m=\u001b[0m\u001b[0mauto_suggest\u001b[0m\u001b[1;33m,\u001b[0m \u001b[0mredirect\u001b[0m\u001b[1;33m=\u001b[0m\u001b[0mredirect\u001b[0m\u001b[1;33m)\u001b[0m\u001b[1;33m\u001b[0m\u001b[1;33m\u001b[0m\u001b[0m\n\u001b[0m\u001b[0;32m    232\u001b[0m   \u001b[0mtitle\u001b[0m \u001b[1;33m=\u001b[0m \u001b[0mpage_info\u001b[0m\u001b[1;33m.\u001b[0m\u001b[0mtitle\u001b[0m\u001b[1;33m\u001b[0m\u001b[1;33m\u001b[0m\u001b[0m\n\u001b[0;32m    233\u001b[0m   \u001b[0mpageid\u001b[0m \u001b[1;33m=\u001b[0m \u001b[0mpage_info\u001b[0m\u001b[1;33m.\u001b[0m\u001b[0mpageid\u001b[0m\u001b[1;33m\u001b[0m\u001b[1;33m\u001b[0m\u001b[0m\n",
      "\u001b[1;32m~\\Anaconda3\\lib\\site-packages\\wikipedia\\wikipedia.py\u001b[0m in \u001b[0;36mpage\u001b[1;34m(title, pageid, auto_suggest, redirect, preload)\u001b[0m\n\u001b[0;32m    274\u001b[0m         \u001b[1;31m# if there is no suggestion or search results, the page doesn't exist\u001b[0m\u001b[1;33m\u001b[0m\u001b[1;33m\u001b[0m\u001b[1;33m\u001b[0m\u001b[0m\n\u001b[0;32m    275\u001b[0m         \u001b[1;32mraise\u001b[0m \u001b[0mPageError\u001b[0m\u001b[1;33m(\u001b[0m\u001b[0mtitle\u001b[0m\u001b[1;33m)\u001b[0m\u001b[1;33m\u001b[0m\u001b[1;33m\u001b[0m\u001b[0m\n\u001b[1;32m--> 276\u001b[1;33m     \u001b[1;32mreturn\u001b[0m \u001b[0mWikipediaPage\u001b[0m\u001b[1;33m(\u001b[0m\u001b[0mtitle\u001b[0m\u001b[1;33m,\u001b[0m \u001b[0mredirect\u001b[0m\u001b[1;33m=\u001b[0m\u001b[0mredirect\u001b[0m\u001b[1;33m,\u001b[0m \u001b[0mpreload\u001b[0m\u001b[1;33m=\u001b[0m\u001b[0mpreload\u001b[0m\u001b[1;33m)\u001b[0m\u001b[1;33m\u001b[0m\u001b[1;33m\u001b[0m\u001b[0m\n\u001b[0m\u001b[0;32m    277\u001b[0m   \u001b[1;32melif\u001b[0m \u001b[0mpageid\u001b[0m \u001b[1;32mis\u001b[0m \u001b[1;32mnot\u001b[0m \u001b[1;32mNone\u001b[0m\u001b[1;33m:\u001b[0m\u001b[1;33m\u001b[0m\u001b[1;33m\u001b[0m\u001b[0m\n\u001b[0;32m    278\u001b[0m     \u001b[1;32mreturn\u001b[0m \u001b[0mWikipediaPage\u001b[0m\u001b[1;33m(\u001b[0m\u001b[0mpageid\u001b[0m\u001b[1;33m=\u001b[0m\u001b[0mpageid\u001b[0m\u001b[1;33m,\u001b[0m \u001b[0mpreload\u001b[0m\u001b[1;33m=\u001b[0m\u001b[0mpreload\u001b[0m\u001b[1;33m)\u001b[0m\u001b[1;33m\u001b[0m\u001b[1;33m\u001b[0m\u001b[0m\n",
      "\u001b[1;32m~\\Anaconda3\\lib\\site-packages\\wikipedia\\wikipedia.py\u001b[0m in \u001b[0;36m__init__\u001b[1;34m(self, title, pageid, redirect, preload, original_title)\u001b[0m\n\u001b[0;32m    297\u001b[0m       \u001b[1;32mraise\u001b[0m \u001b[0mValueError\u001b[0m\u001b[1;33m(\u001b[0m\u001b[1;34m\"Either a title or a pageid must be specified\"\u001b[0m\u001b[1;33m)\u001b[0m\u001b[1;33m\u001b[0m\u001b[1;33m\u001b[0m\u001b[0m\n\u001b[0;32m    298\u001b[0m \u001b[1;33m\u001b[0m\u001b[0m\n\u001b[1;32m--> 299\u001b[1;33m     \u001b[0mself\u001b[0m\u001b[1;33m.\u001b[0m\u001b[0m__load\u001b[0m\u001b[1;33m(\u001b[0m\u001b[0mredirect\u001b[0m\u001b[1;33m=\u001b[0m\u001b[0mredirect\u001b[0m\u001b[1;33m,\u001b[0m \u001b[0mpreload\u001b[0m\u001b[1;33m=\u001b[0m\u001b[0mpreload\u001b[0m\u001b[1;33m)\u001b[0m\u001b[1;33m\u001b[0m\u001b[1;33m\u001b[0m\u001b[0m\n\u001b[0m\u001b[0;32m    300\u001b[0m \u001b[1;33m\u001b[0m\u001b[0m\n\u001b[0;32m    301\u001b[0m     \u001b[1;32mif\u001b[0m \u001b[0mpreload\u001b[0m\u001b[1;33m:\u001b[0m\u001b[1;33m\u001b[0m\u001b[1;33m\u001b[0m\u001b[0m\n",
      "\u001b[1;32m~\\Anaconda3\\lib\\site-packages\\wikipedia\\wikipedia.py\u001b[0m in \u001b[0;36m__load\u001b[1;34m(self, redirect, preload)\u001b[0m\n\u001b[0;32m    391\u001b[0m       \u001b[0mmay_refer_to\u001b[0m \u001b[1;33m=\u001b[0m \u001b[1;33m[\u001b[0m\u001b[0mli\u001b[0m\u001b[1;33m.\u001b[0m\u001b[0ma\u001b[0m\u001b[1;33m.\u001b[0m\u001b[0mget_text\u001b[0m\u001b[1;33m(\u001b[0m\u001b[1;33m)\u001b[0m \u001b[1;32mfor\u001b[0m \u001b[0mli\u001b[0m \u001b[1;32min\u001b[0m \u001b[0mfiltered_lis\u001b[0m \u001b[1;32mif\u001b[0m \u001b[0mli\u001b[0m\u001b[1;33m.\u001b[0m\u001b[0ma\u001b[0m\u001b[1;33m]\u001b[0m\u001b[1;33m\u001b[0m\u001b[1;33m\u001b[0m\u001b[0m\n\u001b[0;32m    392\u001b[0m \u001b[1;33m\u001b[0m\u001b[0m\n\u001b[1;32m--> 393\u001b[1;33m       \u001b[1;32mraise\u001b[0m \u001b[0mDisambiguationError\u001b[0m\u001b[1;33m(\u001b[0m\u001b[0mgetattr\u001b[0m\u001b[1;33m(\u001b[0m\u001b[0mself\u001b[0m\u001b[1;33m,\u001b[0m \u001b[1;34m'title'\u001b[0m\u001b[1;33m,\u001b[0m \u001b[0mpage\u001b[0m\u001b[1;33m[\u001b[0m\u001b[1;34m'title'\u001b[0m\u001b[1;33m]\u001b[0m\u001b[1;33m)\u001b[0m\u001b[1;33m,\u001b[0m \u001b[0mmay_refer_to\u001b[0m\u001b[1;33m)\u001b[0m\u001b[1;33m\u001b[0m\u001b[1;33m\u001b[0m\u001b[0m\n\u001b[0m\u001b[0;32m    394\u001b[0m \u001b[1;33m\u001b[0m\u001b[0m\n\u001b[0;32m    395\u001b[0m     \u001b[1;32melse\u001b[0m\u001b[1;33m:\u001b[0m\u001b[1;33m\u001b[0m\u001b[1;33m\u001b[0m\u001b[0m\n",
      "\u001b[1;31mDisambiguationError\u001b[0m: \"Key\" may refer to: \nKey (cryptography)\nKey (lock)\nKey (map)\ntypewriter\ntest\nCay\nKey, Alabama\nKey, Ohio\nKey, West Virginia\nKeys, Oklahoma\nFlorida Keys\nKey, Iran\nKey Island\nKey (music)\nKey (instrument)\nkeyboard instruments\nKey (Meredith Monk album)\nKey (Son, Ambulance album)\nMaid in Japan\nKey (comics)\nThe Key (Elfgren and Strandberg novel)\nKey the Metal Idol\nKirby's Epic Yarn\n\"The Keys\" (Seinfeld)\nKey (entertainer)\nKey (surname)\nKeys (surname)\nKey (basketball)\nFrederick Keys\nKey (computing)\nKey (engineering)\nKeY\nKeynote\nTelegraph key\nKey (company)\ntruce term\nAmazon\nHouse of Keys\nSamara (fruit)\nAll pages with titles beginning with Key \nAll pages with titles containing Key\nKeay\nKeyes (disambiguation)\nKeying (disambiguation)\nQuay (disambiguation)\nQi (disambiguation)\nThe Key (disambiguation)\nThe Keys (disambiguation)"
     ]
    }
   ],
   "source": [
    "# summary will raise 'DisambiguationError' if:\n",
    "# requested page doesn't exist or,\n",
    "# request is disambiguous\n",
    "print(wiki.summary('key'))"
   ]
  },
  {
   "cell_type": "code",
   "execution_count": 9,
   "metadata": {},
   "outputs": [
    {
     "name": "stdout",
     "output_type": "stream",
     "text": [
      "Public-key cryptography, or asymmetric cryptography, is a cryptographic system that uses pairs of keys: public keys which may be disseminated widely, and private keys which are known only to the owner. The generation of such keys depends on cryptographic algorithms based on mathematical problems to produce one-way functions. Effective security only requires keeping the private key private; the public key can be openly distributed without compromising security.In such a system, any person can encrypt a message using the receiver's public key, but that encrypted message can only be decrypted with the receiver's private key.\n",
      "Robust authentication is also possible. A sender can combine a message with a private key to create a short digital signature on the message.  Anyone with the sender's corresponding public key can combine the same message and the supposed digital signature associated with it to verify whether the signature was valid, i.e. made by the owner of the corresponding private key.Public key algorithms are fundamental security ingredients in modern cryptosystems, applications and protocols assuring the confidentiality, authenticity and non-repudiability of electronic communications and data storage. They underpin various Internet standards, such as  Transport Layer Security (TLS), S/MIME, PGP, and GPG. Some public key algorithms provide key distribution and secrecy (e.g., Diffie–Hellman key exchange), some provide digital signatures (e.g., Digital Signature Algorithm), and some provide both (e.g., RSA).\n",
      "\n",
      "\n"
     ]
    }
   ],
   "source": [
    "# to get summary of a specific 'key' article\n",
    "print(wiki.summary('key (cryptography)'))"
   ]
  },
  {
   "cell_type": "code",
   "execution_count": 10,
   "metadata": {},
   "outputs": [
    {
     "data": {
      "text/plain": [
       "<WikipediaPage 'Animal Crossing'>"
      ]
     },
     "execution_count": 10,
     "metadata": {},
     "output_type": "execute_result"
    }
   ],
   "source": [
    "# wiki.page() to create a WikipediaPage object\n",
    "# contains contents, categories, coordinates, images, links,\n",
    "# and other metadata from article page\n",
    "wiki.page('Animal Crossing')"
   ]
  },
  {
   "cell_type": "code",
   "execution_count": 11,
   "metadata": {},
   "outputs": [
    {
     "name": "stdout",
     "output_type": "stream",
     "text": [
      "Animal Crossing is a social simulation video game series developed and published by Nintendo and created by Katsuya Eguchi. In Animal Crossing, the player character is a human who lives in a village inhabited by various anthropomorphic animals, carrying out various activities such as fishing, bug catching, and fossil hunting. The series is notable for its open-ended gameplay and extensive use of the video game consoles' internal clock and calendar to simulate real passage of time.\n",
      "Five Animal Crossing games have been released worldwide, one each for the Nintendo 64/iQue Player (enhanced and reissued for the GameCube), Nintendo DS, Wii, Nintendo 3DS and Nintendo Switch. The series has been both critically and commercially successful and has sold over 30 million units worldwide. Three spin-off games have also been released: Animal Crossing: Happy Home Designer for Nintendo 3DS, Animal Crossing: Amiibo Festival for Wii U, and Animal Crossing: Pocket Camp for mobile devices.\n",
      "\n",
      "\n",
      "== Common elements ==\n",
      "\n",
      "\n",
      "=== Characters ===\n",
      "While the series features various villagers for each title, certain prominent characters return in each series installment. Tom Nook is a tanuki character who functions as both a shop owner and real estate broker, giving the player a loan for their house and allowing them to pay it back with no interest. Mr. Resetti is a mole character who appears from underground whenever players shut off the game without saving, berating them for circumventing one of the game's systems. Due to a new autosave function, he was \"laid off\" from his job in Animal Crossing: New Horizons, although he will be making a return in some form.K.K. Slider is a canine traveling musician based on series composer Kazumi Totaka, and plays on certain nights in the town's club. Afterwards, he gifts the player a free copy of the song played, saying that his music \"wants to be free\". This was seen by some fans as tacit support for music piracy, although Nintendo denied that it was intended as social commentary.\n",
      "\n",
      "\n",
      "=== Gameplay ===\n",
      "In the Animal Crossing games, the player assumes the role of a human character who moves into a rural village populated with anthropomorphic animals and lives there indefinitely. Gameplay is open-ended: players have no defined objectives, but are instead encouraged to spend their time in the village performing any number of activities, which include collecting items, planting plants or other items, and socializing with the village's residents. Animal Crossing games are played in real time, utilizing the video game console's internal clock and calendar. Thus, passage of time in the game world reflects that in reality, as well as the current season and time of day. Some in-game events, such as holidays or the growth of a tree, occur at certain times or require some duration of time to have passed.One notable feature of the Animal Crossing series is the high level of customization available, some of which affects the outcome of the game. The player character is both named and gendered by the real life player at the start of the game, and their appearance can be modified by buying or designing custom clothes and accessories or changing the hairstyle (introduced in Wild World). The player's house can also be furnished, decorated, and later expanded: the player can purchase and collect furniture and place it anywhere in the house, as well as change both the wallpaper and floor designs. While its terrain, building locations, and initial residents are randomly generated when the game is first begun (except in Animal Crossing: New Leaf, in which the player decides between four given towns, and Animal Crossing: New Horizons, in which the player similarly decides between four given islands), the village's name and anthem, as well as some of the residents' catchphrases, are also determined by the player.Collecting items is a major facet of Animal Crossing: the player can explore the village and gather objects, including fruit from trees, seashells, and discarded items. Nearly all objects can be sold for Bells, the in-game currency. Players collect objects to obtain more Bells, which can then be used to buy furniture and clothing, purchase home expansions, invest in stocks, and play games. A number of specialized tools are available for other activities such as fishing and insect collecting. Special items, such as fossils and paintings, may be donated to the village museum. The player can choose to socialize with the other animal residents by engaging in conversation, sending and receiving letters, bartering, or playing hide-and-seek. Residents may move in or out of the village depending on the player's actions.\n",
      "All installments of Animal Crossing allow some form of communication between players, both offline and online. A single village can house up to four human players, though only one can be exploring the village at any given time. The players can interact via written messages through the village post office or bulletin board. The GameCube iteration allowed players to travel to other villages by trading memory cards written with the game data, but all subsequent installments allow players to travel and interact online via Nintendo Wi-Fi Connection, although City Folk also allows the DS Suitcase to travel to others' towns.\n",
      "\n",
      "\n",
      "== Games ==\n",
      "\n",
      "\n",
      "=== Main series ===\n",
      "\n",
      "\n",
      "==== Animal Crossing (2001) ====\n",
      "\n",
      "Animal Crossing originally released in Japan for the Nintendo 64 in 2001. It was enhanced and released on the GameCube the same year. This version was localized and released in North America on September 16, 2002, Australia on October 17, 2003, and Europe on September 24, 2004. An extended version titled \"Dōbutsu no Mori e+\" was released on June 27, 2003 in Japan. The Nintendo 64 version of the game was released in China in 2006 for iQue Player.\n",
      "\n",
      "\n",
      "==== Animal Crossing: Wild World (2005) ====\n",
      "\n",
      "Animal Crossing: Wild World was released for the Nintendo DS in Japan on November 23, 2005, North America on December 5, 2005, Australia on December 8, 2005, and Europe on March 31, 2006. It was the first game in the series to use Nintendo Wi-Fi Connection. The game was later re-released on the Wii U Virtual Console on October 13, 2016, although its Wi-Fi multiplayer feature is unavailable due to the discontinuation of Nintendo Wi-Fi Connection.\n",
      "\n",
      "\n",
      "==== Animal Crossing: City Folk (2008) ====\n",
      "\n",
      "Animal Crossing: City Folk, known as Animal Crossing: Let's Go to the City in Europe and Oceania, was released for the Wii in  North America on November 16, 2008, Japan on November 20, 2008, Australia on December 4, 2008, and Europe on December 5, 2008. It was later released in South Korea in 2010. It was the first Wii game to utilize the Wii Speak, an accessory that allows players to talk to each other during online play.\n",
      "\n",
      "\n",
      "==== Animal Crossing: New Leaf (2012) ====\n",
      "\n",
      "Animal Crossing: New Leaf was announced at E3 2010. It was released for the Nintendo 3DS in Japan on November 8, 2012, North America on June 9, 2013, Europe on June 14, 2013, and Australia on June 15, 2013. For the first time in the series, players are appointed to the role of Mayor.\n",
      "In November 2016, a new update was released along with \"Welcome Amiibo\" in North America and Europe, adding several new locations, items and activities.\n",
      "\n",
      "\n",
      "==== Animal Crossing: New Horizons (2020) ====\n",
      "\n",
      "A game in the series for Nintendo Switch was announced in a Nintendo Direct in September 2018 known as Animal Crossing: New Horizons. Set on a deserted island, it was released on March 20, 2020.\n",
      "\n",
      "\n",
      "=== Spin-off games ===\n",
      "\n",
      "\n",
      "==== Animal Crossing: Happy Home Designer (2015) ====\n",
      "Animal Crossing: Happy Home Designer is a community simulation game for the Nintendo 3DS and the first spin-off of the Animal Crossing series. It was released in Japan on July 30, 2015, North America on September 25, 2015, Europe on October 2, 2015, and Australia on October 3, 2015. The game revolves around designing houses for villagers based on their requests. By scanning Amiibo cards, players can unlock the ability to design special characters' houses. The game has a score of 66 out of 100 on Metacritic, which signifies \"mixed or average reviews\".\n",
      "\n",
      "\n",
      "==== Animal Crossing: Amiibo Festival (2015) ====\n",
      "Animal Crossing: Amiibo Festival is a party game for the Wii U released in November 2015 that heavily utilizes Amiibo. It was met with unfavorable reviews from critics. It was developed by NDcube and Nintendo Entertainment Planning & Development.\n",
      "\n",
      "\n",
      "==== Animal Crossing: Pocket Camp (2017) ====\n",
      "\n",
      "In April 2016, Nintendo announced that an Animal Crossing mobile game, later named as Animal Crossing: Pocket Camp, would be released as a part of their mobile game lineup. The game was soft launched in Australia in October 2017, and released worldwide on November 21, 2017.\n",
      "\n",
      "\n",
      "=== Apps ===\n",
      "Animal Crossing Plaza, a WaraWara Plaza-like app for Wii U. Limited time promotion for Animal Crossing: New Leaf.\n",
      "Animal Crossing Clock, a Clock system app for Nintendo DSi and Nintendo 3DS.\n",
      "Animal Crossing Calculator, a Calculator app for Nintendo DSi and Nintendo 3DS.\n",
      "Photos with Animal Crossing, a Camera app for Nintendo 3DS allowing players to take photos with Animal Crossing characters.\n",
      "\n",
      "\n",
      "== Reception and legacy ==\n",
      "The Animal Crossing games have garnered positive response. The four main series games are among the best-selling video games for their respective consoles. Animal Crossing has sold 2.32 million copies; Wild World 11.75 million; City Folk 3.38 million; New Leaf 12.21 million, and Happy Home Designer 3.04 million. Amiibo Festival was a critical and commercial failure; in Japan it has only sold 26,325 copies. In total, the Animal Crossing franchise has sold over 30 million units.\n",
      "\n",
      "\n",
      "=== Female demographic ===\n",
      "Former president of Nintendo, Satoru Iwata noted that 56% of people who pre-ordered Animal Crossing: New Leaf were female, with many of them purchasing a Nintendo 3DS specifically for the game. He found the game's success with adult women between the ages of 19 to 24 to be particularly noteworthy.\n",
      "\n",
      "\n",
      "== Other media ==\n",
      "\n",
      "An anime film adaptation of Wild World, titled Dōbutsu no Mori, was released in Japan on December 16, 2006. The film was produced by OLM, Inc. and distributed by Toho. Dōbutsu no Mori earned ¥1.8 billion (approximately $19.2 million) in the box office.In the Wii game WarioWare: Smooth Moves, released in Japan in 2006 and Europe, North America and Australia in 2007, there is a minigame that is modeled after Animal Crossing: Wild World, under the same name. The player has to catch a fish using the same mechanics as the original game.\n",
      "The 2008 Wii game Super Smash Bros. Brawl features elements from Wild World. Most prominent is a stage based on the animal village, called \"Smashville\", which changes its scenery in accordance with the Wii system clock and features a number of songs remixed or extracted from the original game. Mr. Resetti and a pitfall seed, which appear in all Animal Crossing games, are available as an Assist Trophy and an item respectively. Brawl also features 24 collectible trophies based on Animal Crossing characters and items.Wii Music features two playable songs from Animal Crossing.The minigame \"Animal Crossing: Sweet Day\" in Nintendo Land is based on the Animal Crossing game series. The objective of the game is for the Wii Remote players (1-4), to gather large amounts of candy scattered around the area and store them in their head without getting caught by the Gatekeepers, who are controlled using the two Wii U GamePad analog sticks.A playable character called \"Villager\" represents the Animal Crossing series as a fighter in Super Smash Bros. for Nintendo 3DS and Wii U and Super Smash Bros. Ultimate. The character has both male and female forms, which are selected when choosing the character. His or her moves include the ability to catch other players in a net and firing Lloid the gyroid as a missile. Additionally, Isabelle from New Leaf appears as an Assist Trophy, and later appeared as a standalone fighter in Ultimate. Two new Animal Crossing stages appear in the games: \"Town & City\" from City Folk in the Wii U version, and \"Tortimer Island\" from New Leaf in the 3DS version. \"Smashville\" from Brawl returns in the Wii U version.Villager and Isabelle are playable characters in Mario Kart 8 via downloadable content, along with a racetrack based on Animal Crossing and a cup named after the series known as the \"Crossing Cup\". The two racers, along with the Animal Crossing track, were also included in the Nintendo Switch version of the game, Mario Kart 8 Deluxe along with a racing suit based on the series for the Mii. In June 2015, Isabelle and Mr. Resetti-themed cosmetics were added as costumes options for the player's \"Palico\" companion in Monster Hunter 4 Ultimate.\n",
      "\n",
      "\n",
      "== See also ==\n",
      "\n",
      "List of Animal Crossing media\n",
      "\n",
      "\n",
      "== Notes ==\n",
      "\n",
      "\n",
      "== References ==\n",
      "\n",
      "\n",
      "== External links ==\n",
      "Official website\n"
     ]
    }
   ],
   "source": [
    "# wiki.page().content to get all plain text of page\n",
    "# excludes images, tables, links, etc.\n",
    "print(wiki.page('Animal Crossing').content)"
   ]
  },
  {
   "cell_type": "code",
   "execution_count": 12,
   "metadata": {},
   "outputs": [
    {
     "name": "stdout",
     "output_type": "stream",
     "text": [
      "https://en.wikipedia.org/wiki/Animal_Crossing\n"
     ]
    }
   ],
   "source": [
    "# wiki.page().url to get page URL\n",
    "print(wiki.page('Animal Crossing').url)"
   ]
  },
  {
   "cell_type": "code",
   "execution_count": 13,
   "metadata": {},
   "outputs": [
    {
     "name": "stdout",
     "output_type": "stream",
     "text": [
      "['http://www.animal-crossing.com/', 'http://www.droidgamers.com/index.php/apps/7395-while-animal-crossing-may-never-see-a-mobile-game-there-could-be-companion-apps-on-the-way', 'http://www.gamesradar.com/e3-08-nintendo-press-conference/', 'http://gematsu.com/2015/05/animal-crossing-happy-home-designer-japanese-release-date-set', 'http://www.ign.com/articles/2002/05/30/animal-crossing', 'http://www.ign.com/articles/2002/09/05/animal-crossing-review', 'http://www.ign.com/articles/2005/12/06/animal-crossing-wild-world', 'http://www.ign.com/articles/2008/11/13/the-evolution-of-animal-crossing-2?page=2', 'http://www.ign.com/articles/2008/11/17/animal-crossing-city-folk-review', 'http://www.ign.com/articles/2010/06/15/e3-2010-animal-crossing-3ds-announced', 'http://www.ign.com/articles/2012/10/25/animal-crossing-3ds-has-a-new-name', 'http://www.ign.com/games/action-replay-ultimate-codes-animal-crossing/gcn-16562', 'http://www.ign.com/games/animal-crossing-3ds/3ds-77803', 'http://www.ign.com/games/animal-crossing-city-folk/wii-748892', 'http://www.ign.com/games/animal-crossing-wild-world/nds-682878', 'http://www.ign.com/games/doubutsu-no-mori/gcn-552545', 'http://www.ique.com/games/21041.htm', 'http://www.japan-gamecharts.com/gc.php', 'http://kotaku.com/no-retro-games-in-future-animal-crossings-with-one-poss-512085493', 'http://kotaku.com/zelda-f-zero-coming-to-mario-kart-8-1627150730', 'http://www.metacritic.com/game/3ds/animal-crossing-happy-home-designer', 'http://www.metacritic.com/game/3ds/animal-crossing-new-leaf', 'http://www.metacritic.com/game/ds/animal-crossing-wild-world', 'http://www.metacritic.com/game/gamecube/animal-crossing', 'http://www.metacritic.com/game/wii-u/animal-crossing-amiibo-festival/critic-reviews', 'http://www.metacritic.com/game/wii/animal-crossing-city-folk', 'http://www.nintendo-insider.com/2016/04/next-nintendo-apps-will-use-fire-emblem-animal-crossing-franchises/', 'http://nintendoeverything.com/photos-with-animal-crossing-nintendo-uk-summer-tour-2015-video/#disqus_thread', 'http://www.nintendolife.com/news/2013/05/profile_kazumi_totaka_the_man_behind_animal_crossings_kk_slider', 'http://www.nintendolife.com/news/2015/06/animal_crossing_director_talks_more_about_happy_home_designer_and_amiibo', 'http://www.nintendolife.com/news/2015/06/monster_hunter_4_ultimate_june_dlc_brings_animal_crossing_devil_may_cry_and_awesome_designs', 'http://www.nintendoworldreport.com/news/40828/animal-crossing-happy-home-designer-bundles-announced-for-uk-and-australia', 'http://www.siliconera.com/2013/01/08/satoru-iwata-on-animal-crossing-sales-56-of-players-are-female/', 'http://www.siliconera.com/2013/02/10/a-lot-of-women-bought-a-3ds-for-animal-crossing-new-leaf-in-japan/', 'http://www.smashbros.com/wii/en_us/gamemode/various/various36_list.html', 'http://www.smashbros.com/wii/en_us/items/assist/assist08.html', 'http://www.smashbros.com/wii/en_us/items/item06.html', 'http://www.smashbros.com/wii/en_us/music/music24_list.html', 'http://www.smashbros.com/wii/en_us/stages/stage06.html', 'http://www.smashbros.com/wiiu-3ds/us/howto/entry4.html', 'http://www.smashbros.com/wiiu-3ds/us/howto/entry6.html', 'http://www.the-magicbox.com/Chart-USPlatinum.shtml', 'http://www.mojenintendo.cz/animal-crossing-new-leaf-welcome-amiibocard/', 'http://www.ibtimes.co.in/super-smash-bros-4-unlock-guide-characters-stages-how-wii-u-3ds-connect-10-million-us-sales-614833', 'http://entertainment.rakuten.co.jp/movie/ranking/boxoffice/2007/', 'http://www.nintendo.co.kr/Wii/software/animal_crossing/main.php', 'http://www.4gamer.net/games/117/G011794/20151202067/', 'http://www.worldcat.org/issn/0362-4331', 'https://www.cnet.com/uk/products/nintendo-land-wii-u/review/2/', 'https://comicbook.com/2018/09/13/super-smash-bros-ultimate-isabelle-animal-crossing/', 'https://www.destructoid.com/here-s-the-rest-of-the-wii-music-tracklist-108429.phtml', 'https://mashable.com/2014/04/02/animal-crossing-gender-gaming/', 'https://www.metacritic.com/game/switch/animal-crossing-new-horizons', 'https://www.nytimes.com/2005/12/19/technology/social-commentary-or-just-a-dogs-opinion.html', 'https://www.pcmag.com/article2/0,2817,2468841,00.asp', 'https://www.polygon.com/e3/2019/6/11/18661310/nintendo-direct-e3-2019-animal-crossing-new-horizons-trailer-release-date', 'https://www.techradar.com/news/animal-crossing-on-nintendo-switch', 'https://www.vg247.com/2019/06/17/animal-crossing-new-horizons-autosave-resettis-job/', 'https://d-nb.info/gnd/7535154-7', 'https://www.nintendo.co.jp/ir/en/sales/software/3ds.html', 'https://www.nintendo.co.jp/ir/en/sales/software/ds.html', 'https://www.nintendo.co.jp/ir/pdf/2009/090508e.pdf#page=6', 'https://www.nintendo.co.jp/ir/pdf/2016/160427_4e.pdf', 'https://web.archive.org/web/20070723025415/http://www.japan-gamecharts.com/gc.php', 'https://web.archive.org/web/20121029165113/http://entertainment.rakuten.co.jp/movie/ranking/boxoffice/2007/', 'https://web.archive.org/web/20160304072130/http://www.droidgamers.com/index.php/apps/7395-while-animal-crossing-may-never-see-a-mobile-game-there-could-be-companion-apps-on-the-way', 'https://www.wikidata.org/wiki/Q1139803']\n"
     ]
    }
   ],
   "source": [
    "# wiki.page().references to get URLS to external links\n",
    "print(wiki.page('Animal Crossing').references)"
   ]
  },
  {
   "cell_type": "code",
   "execution_count": 14,
   "metadata": {},
   "outputs": [
    {
     "name": "stdout",
     "output_type": "stream",
     "text": [
      "Animal Crossing: New Leaf\n"
     ]
    }
   ],
   "source": [
    "# wiki.page().title to get title of page\n",
    "print(wiki.page('Animal Crossing New Leaf').title)"
   ]
  },
  {
   "cell_type": "code",
   "execution_count": 15,
   "metadata": {},
   "outputs": [
    {
     "name": "stdout",
     "output_type": "stream",
     "text": [
      "['2012 video games', 'Animal Crossing', 'Articles containing Japanese-language text', 'Articles using Infobox video game using locally defined parameters', 'Articles using Video game reviews template in single platform mode', 'Articles using Wikidata infoboxes with locally defined images', 'Articles with short description', 'CS1 Japanese-language sources (ja)', 'CS1 maint: archived copy as title', 'CS1 uses Japanese-language script (ja)', 'Life simulation games', 'Nintendo 3DS-only games', 'Nintendo 3DS eShop games', 'Nintendo 3DS games', 'Nintendo Entertainment Analysis and Development games', 'Nintendo Network games', 'Official website different in Wikidata and Wikipedia', 'Social simulation video games', 'Use mdy dates from February 2019', 'Video game sequels', 'Video games developed in Japan', 'Video games featuring protagonists of selectable gender', 'Video games that use Amiibo figurines', 'Video games with downloadable content', 'Webarchive template wayback links']\n"
     ]
    }
   ],
   "source": [
    "# wiki.page().categories to get list of categories of page\n",
    "print(wiki.page('Animal Crossing New Leaf').categories)"
   ]
  },
  {
   "cell_type": "code",
   "execution_count": 16,
   "metadata": {},
   "outputs": [
    {
     "name": "stdout",
     "output_type": "stream",
     "text": [
      "['7-Eleven', 'Alpacas', 'Amiibo', 'Animal Crossing', 'Animal Crossing: Amiibo Festival', 'Animal Crossing: City Folk', 'Animal Crossing: Happy Home Designer', 'Animal Crossing: New Horizons', 'Animal Crossing: Pocket Camp', 'Animal Crossing: Wild World', 'Animal Crossing (video game)', 'Animal Crossing Plaza', 'Anthropomorphic', 'Australasia', 'Autostereoscopy', 'Axolotl', 'Aya Kyogoku', 'Brain Age: Train Your Brain in Minutes a Day!', 'Club Nintendo', 'Computing platform', 'Dragon Quest VIII', 'Dōbutsu no Mori (film)', 'EB Games', 'Electronic Entertainment Expo 2010', 'Electronic Entertainment Expo 2011', 'Europe', 'Facebook', 'Famitsu', 'Final Fantasy VII', 'Final Fantasy VIII', 'Final Fantasy X', 'Final Fantasy XI', 'Final Fantasy XII', 'G4 (U.S. TV channel)', 'G4tv', 'Gamasutra', 'GameCube', 'GameSpot', 'Game (retailer)', 'Gravity Rush', 'Hello Kitty', 'Hisashi Nogami', 'IGN', 'Isabelle (Animal Crossing)', 'Japan', 'Japan Game Awards', 'Japanese language', \"JoJo's Bizarre Adventure: All Star Battle\", 'Joystiq', 'K.K. Slider', 'Katsuya Eguchi', 'Kazumi Totaka', 'Kotaku', 'Life simulation', 'List of Animal Crossing media', 'Mario Kart 8', 'Mario Kart Wii', 'Metacritic', 'Metal Gear Solid 4: Guns of the Patriots', 'Monster Hunter: World', 'Monster Hunter (video game)', 'Monster Hunter 4', 'Monster Hunter Freedom 2', 'Monster Hunter Freedom Unite', 'Monster Hunter Portable 3rd', 'Mr. Resetti', 'Multiplayer', 'New Super Mario Bros. Wii', \"New Year's Eve\", 'Nintendo', 'Nintendo 3DS', 'Nintendo Direct', 'Nintendo EAD', 'Nintendo Land', 'Nintendo Life', 'Nintendo Network', 'Nintendo Selects', 'Nintendo Space World', 'Nintendo eShop', 'Non-player character', 'North America', 'Official Nintendo Magazine', 'Phantasy Star Online', 'Polygon (website)', 'QR code', 'Review aggregator', 'Sakura Wars (video game)', 'Single-player', 'Sloth', 'Social simulation game', 'Splatoon', 'Style Savvy: Trendsetters', 'Super Smash Bros.', 'Super Smash Bros. Ultimate', 'Super Smash Bros. for Nintendo 3DS and Wii U', 'Taiko no Tatsujin', 'Takashi Tezuka', 'The Legend of Zelda', 'The Legend of Zelda: Breath of the Wild', 'The Legend of Zelda: Ocarina of Time', 'The Verge', 'The Wall Street Journal', 'Tom Nook', 'Toro Inoue', 'Tumblr', 'Twitter', 'UBM plc', 'Video game', 'Video game composer', 'Video game console', 'Video game creative director', 'Video game developer', 'Video game genre', 'Video game producer', 'Video game publisher', 'Video game writer', 'Wayback Machine', 'Wi-Fi', 'Wii', 'Wii Fit', 'Wii Sports', 'Wii U', 'Yo-kai Watch (video game)', 'Yo-kai Watch 2', 'YouTube']\n"
     ]
    }
   ],
   "source": [
    "# wiki.page().links to get alphabetical list of links within article page\n",
    "print(wiki.page('Animal Crossing New Leaf').links)"
   ]
  },
  {
   "cell_type": "code",
   "execution_count": 17,
   "metadata": {},
   "outputs": [
    {
     "name": "stdout",
     "output_type": "stream",
     "text": [
      "[]\n"
     ]
    }
   ],
   "source": [
    "# THIS MAY ONLY WORK IF YOU HAVE A KEY!!!!\n",
    "print(wiki.geosearch(38.9, 77.0))"
   ]
  },
  {
   "cell_type": "code",
   "execution_count": 20,
   "metadata": {},
   "outputs": [
    {
     "name": "stdout",
     "output_type": "stream",
     "text": [
      "<WikipediaPage 'List of Boeing 787 operators'>\n"
     ]
    }
   ],
   "source": [
    "# use wiki.page(lat, long) to bring up articles related to the location\n",
    "print(wiki.page(37.787, -122.4))"
   ]
  },
  {
   "cell_type": "code",
   "execution_count": 29,
   "metadata": {},
   "outputs": [
    {
     "name": "stdout",
     "output_type": "stream",
     "text": [
      "Animal Crossing (どうぶつの森, Dōbutsu no Mori) est un jeu vidéo de simulation de vie développé par Nintendo EAD. Il est édité au Japon par Nintendo en avril 2001 pour la console Nintendo 64. Il est porté sur GameCube fin 2001 au Japon et sort en Occident à partir de 2002.\n"
     ]
    }
   ],
   "source": [
    "# wiki.set_lang to use other language article\n",
    "# uses standard prefix codes:\n",
    "# https://en.wikipedia.org/wiki/List_of_ISO_639-1_codes\n",
    "wiki.set_lang('fr')\n",
    "print(wiki.summary('Animal Crossing', sentences = 2))"
   ]
  },
  {
   "cell_type": "code",
   "execution_count": 30,
   "metadata": {},
   "outputs": [
    {
     "name": "stdout",
     "output_type": "stream",
     "text": [
      "Animal Crossing is a social simulation video game series developed and published by Nintendo and created by Katsuya Eguchi. In Animal Crossing, the player character is a human who lives in a village inhabited by various anthropomorphic animals, carrying out various activities such as fishing, bug catching, and fossil hunting.\n"
     ]
    }
   ],
   "source": [
    "# reset language\n",
    "wiki.set_lang('en')\n",
    "print(wiki.summary('Animal Crossing', sentences = 2))"
   ]
  },
  {
   "cell_type": "code",
   "execution_count": 32,
   "metadata": {},
   "outputs": [
    {
     "name": "stdout",
     "output_type": "stream",
     "text": [
      "https://upload.wikimedia.org/wikipedia/en/9/9e/Flag_of_Japan.svg\n"
     ]
    }
   ],
   "source": [
    "# wiki.page().images[] to pull image urls from wiki page\n",
    "print(wiki.page('Animal Crossing').images[0])"
   ]
  },
  {
   "cell_type": "code",
   "execution_count": 33,
   "metadata": {},
   "outputs": [
    {
     "name": "stdout",
     "output_type": "stream",
     "text": [
      "<div class=\"mw-parser-output\"><div class=\"shortdescription nomobile noexcerpt noprint searchaux\" style=\"display:none\">Video game series developed by Nintendo</div>\n",
      "<div role=\"note\" class=\"hatnote navigation-not-searchable\">This article is about the video game series. For the first game in the series, see <a href=\"/wiki/Animal_Crossing_(video_game)\" title=\"Animal Crossing (video game)\">Animal Crossing (video game)</a>. For other uses, see <a href=\"/wiki/Animal_Crossing_(disambiguation)\" class=\"mw-disambig\" title=\"Animal Crossing (disambiguation)\">Animal Crossing (disambiguation)</a>.</div>\n",
      "<p class=\"mw-empty-elt\">\n",
      "</p>\n",
      "<table class=\"infobox hproduct\" style=\"width:22em;float: right; width: 400; font-size: 90%; text-align: left; border-spacing: 3px;\"><tbody><tr><th colspan=\"2\" class=\"fn\" style=\"text-align:center;font-size:125%;font-weight:bold;font-size:110%;font-style:italic;\">Animal Crossing</th></tr><tr><td colspan=\"2\" style=\"text-align:center\"><a href=\"/wiki/File:Animal_Crossing_Logo.png\" class=\"image\"><img alt=\"Animal Crossing Logo.png\" src=\"//upload.wikimedia.org/wikipedia/en/thumb/9/9e/Animal_Crossing_Logo.png/250px-Animal_Crossing_Logo.png\" decoding=\"async\" width=\"250\" height=\"172\" srcset=\"//upload.wikimedia.org/wikipedia/en/9/9e/Animal_Crossing_Logo.png 1.5x\" data-file-width=\"300\" data-file-height=\"206\" /></a><div style=\"font-size: 95%;\"><i>Animal Crossing</i> series logo</div></td></tr><tr><th scope=\"row\" style=\"white-space:nowrap;padding-right:0.65em;\"><a href=\"/wiki/Video_game_genre\" title=\"Video game genre\">Genre(s)</a></th><td style=\"line-height:1.3em;\"><a href=\"/wiki/Social_simulation_game\" title=\"Social simulation game\">Social simulation</a></td></tr><tr><th scope=\"row\" style=\"white-space:nowrap;padding-right:0.65em;\"><a href=\"/wiki/Video_game_developer\" title=\"Video game developer\">Developer(s)</a></th><td style=\"line-height:1.3em;\"><div class=\"plainlist\"><ul><li><a href=\"/wiki/Nintendo_EAD\" class=\"mw-redirect\" title=\"Nintendo EAD\">Nintendo EAD</a></li><li><a href=\"/wiki/Nintendo_Entertainment_Planning_%26_Development\" title=\"Nintendo Entertainment Planning &amp; Development\">Nintendo EPD</a></li></ul></div></td></tr><tr><th scope=\"row\" style=\"white-space:nowrap;padding-right:0.65em;\"><a href=\"/wiki/Video_game_publisher\" title=\"Video game publisher\">Publisher(s)</a></th><td style=\"line-height:1.3em;\"><a href=\"/wiki/Nintendo\" title=\"Nintendo\">Nintendo</a></td></tr><tr><th scope=\"row\" style=\"white-space:nowrap;padding-right:0.65em;\">Creator(s)</th><td style=\"line-height:1.3em;\"><a href=\"/wiki/Katsuya_Eguchi\" title=\"Katsuya Eguchi\">Katsuya Eguchi</a></td></tr><tr><th scope=\"row\" style=\"white-space:nowrap;padding-right:0.65em;\">Platform(s)</th><td style=\"line-height:1.3em;\"><div class=\"hlist hlist-separated\"><ul><li><a href=\"/wiki/Nintendo_64\" title=\"Nintendo 64\">Nintendo 64</a></li><li><a href=\"/wiki/IQue_Player\" title=\"IQue Player\">iQue Player</a></li><li><a href=\"/wiki/GameCube\" title=\"GameCube\">GameCube</a></li><li><a href=\"/wiki/Wii\" title=\"Wii\">Wii</a></li><li><a href=\"/wiki/Wii_U\" title=\"Wii U\">Wii U</a></li><li><a href=\"/wiki/Nintendo_DS\" title=\"Nintendo DS\">Nintendo DS</a></li><li><a href=\"/wiki/Nintendo_3DS\" title=\"Nintendo 3DS\">Nintendo 3DS</a></li><li><a href=\"/wiki/IOS\" title=\"IOS\">iOS</a></li><li><a href=\"/wiki/Android_(operating_system)\" title=\"Android (operating system)\">Android</a></li><li><a href=\"/wiki/Nintendo_Switch\" title=\"Nintendo Switch\">Nintendo Switch</a></li></ul></div></td></tr><tr><th scope=\"row\" style=\"white-space:nowrap;padding-right:0.65em;\">First release</th><td style=\"line-height:1.3em;\"><i><a href=\"/wiki/Animal_Crossing_(video_game)\" title=\"Animal Crossing (video game)\">Animal Crossing</a></i><br />April 14, 2001</td></tr><tr><th scope=\"row\" style=\"white-space:nowrap;padding-right:0.65em;\">Latest release</th><td style=\"line-height:1.3em;\"><i><a href=\"/wiki/Animal_Crossing:_New_Horizons\" title=\"Animal Crossing: New Horizons\">Animal Crossing: New Horizons</a></i><br />March 20, 2020</td></tr><tr><th scope=\"row\" style=\"white-space:nowrap;padding-right:0.65em;\"><a href=\"/wiki/Spin-off_(media)\" title=\"Spin-off (media)\">Spin-offs</a></th><td style=\"line-height:1.3em;\"><div class=\"plainlist\"><ul><li><i><a href=\"/wiki/Happy_Home_Designer\" class=\"mw-redirect\" title=\"Happy Home Designer\">Happy Home Designer</a></i></li><li><i><a href=\"/wiki/Amiibo_Festival\" class=\"mw-redirect\" title=\"Amiibo Festival\">Amiibo Festival</a></i></li><li><i><a href=\"/wiki/Pocket_Camp\" class=\"mw-redirect\" title=\"Pocket Camp\">Pocket Camp</a></i></li></ul></div></td></tr></tbody></table>\n",
      "<p><i><b>Animal Crossing</b></i><sup id=\"cite_ref-1\" class=\"reference\"><a href=\"#cite_note-1\">&#91;a&#93;</a></sup> is a <a href=\"/wiki/Social_simulation_game\" title=\"Social simulation game\">social simulation</a> <a href=\"/wiki/Video_game\" title=\"Video game\">video game</a> series developed and published by <a href=\"/wiki/Nintendo\" title=\"Nintendo\">Nintendo</a> and created by <a href=\"/wiki/Katsuya_Eguchi\" title=\"Katsuya Eguchi\">Katsuya Eguchi</a>.<sup id=\"cite_ref-2\" class=\"reference\"><a href=\"#cite_note-2\">&#91;1&#93;</a></sup><sup id=\"cite_ref-3\" class=\"reference\"><a href=\"#cite_note-3\">&#91;2&#93;</a></sup><sup id=\"cite_ref-4\" class=\"reference\"><a href=\"#cite_note-4\">&#91;3&#93;</a></sup> In <i>Animal Crossing</i>, the <a href=\"/wiki/Player_character\" title=\"Player character\">player character</a> is a human who lives in a village inhabited by various <a href=\"/wiki/Anthropomorphism\" title=\"Anthropomorphism\">anthropomorphic</a> animals, carrying out various activities such as fishing, bug catching, and fossil hunting. The series is notable for its <a href=\"/wiki/Nonlinear_gameplay\" title=\"Nonlinear gameplay\">open-ended</a> gameplay and extensive use of the <a href=\"/wiki/Video_game_console\" title=\"Video game console\">video game console</a>'s internal clock and calendar to simulate <a href=\"/wiki/Real_time_(media)\" title=\"Real time (media)\">real passage of time</a>.\n",
      "</p><p>Five <i>Animal Crossing</i> games have been released worldwide, one each for the <a href=\"/wiki/Nintendo_64\" title=\"Nintendo 64\">Nintendo 64</a>/<a href=\"/wiki/IQue_Player\" title=\"IQue Player\">iQue Player</a> (enhanced and reissued for the <a href=\"/wiki/GameCube\" title=\"GameCube\">GameCube</a>), <a href=\"/wiki/Nintendo_DS\" title=\"Nintendo DS\">Nintendo DS</a>, <a href=\"/wiki/Wii\" title=\"Wii\">Wii</a>, <a href=\"/wiki/Nintendo_3DS\" title=\"Nintendo 3DS\">Nintendo 3DS</a> and <a href=\"/wiki/Nintendo_Switch\" title=\"Nintendo Switch\">Nintendo Switch</a>.<sup id=\"cite_ref-5\" class=\"reference\"><a href=\"#cite_note-5\">&#91;4&#93;</a></sup> The series has been both critically and commercially successful and has sold over 30 million units worldwide. Three spin-off games have also been released: <i><a href=\"/wiki/Animal_Crossing:_Happy_Home_Designer\" title=\"Animal Crossing: Happy Home Designer\">Animal Crossing: Happy Home Designer</a></i> for <a href=\"/wiki/Nintendo_3DS\" title=\"Nintendo 3DS\">Nintendo 3DS</a>, <i><a href=\"/wiki/Animal_Crossing:_Amiibo_Festival\" title=\"Animal Crossing: Amiibo Festival\">Animal Crossing: Amiibo Festival</a></i> for <a href=\"/wiki/Wii_U\" title=\"Wii U\">Wii U</a>, and <i><a href=\"/wiki/Animal_Crossing:_Pocket_Camp\" title=\"Animal Crossing: Pocket Camp\">Animal Crossing: Pocket Camp</a></i> for mobile devices.\n",
      "</p>\n",
      "<div id=\"toc\" class=\"toc\" role=\"navigation\" aria-labelledby=\"mw-toc-heading\"><input type=\"checkbox\" role=\"button\" id=\"toctogglecheckbox\" class=\"toctogglecheckbox\" style=\"display:none\" /><div class=\"toctitle\" lang=\"en\" dir=\"ltr\"><h2 id=\"mw-toc-heading\">Contents</h2><span class=\"toctogglespan\"><label class=\"toctogglelabel\" for=\"toctogglecheckbox\"></label></span></div>\n",
      "<ul>\n",
      "<li class=\"toclevel-1 tocsection-1\"><a href=\"#Common_elements\"><span class=\"tocnumber\">1</span> <span class=\"toctext\">Common elements</span></a>\n",
      "<ul>\n",
      "<li class=\"toclevel-2 tocsection-2\"><a href=\"#Characters\"><span class=\"tocnumber\">1.1</span> <span class=\"toctext\">Characters</span></a></li>\n",
      "<li class=\"toclevel-2 tocsection-3\"><a href=\"#Gameplay\"><span class=\"tocnumber\">1.2</span> <span class=\"toctext\">Gameplay</span></a></li>\n",
      "</ul>\n",
      "</li>\n",
      "<li class=\"toclevel-1 tocsection-4\"><a href=\"#Games\"><span class=\"tocnumber\">2</span> <span class=\"toctext\">Games</span></a>\n",
      "<ul>\n",
      "<li class=\"toclevel-2 tocsection-5\"><a href=\"#Main_series\"><span class=\"tocnumber\">2.1</span> <span class=\"toctext\">Main series</span></a>\n",
      "<ul>\n",
      "<li class=\"toclevel-3 tocsection-6\"><a href=\"#Animal_Crossing_(2001)\"><span class=\"tocnumber\">2.1.1</span> <span class=\"toctext\"><i>Animal Crossing</i> (2001)</span></a></li>\n",
      "<li class=\"toclevel-3 tocsection-7\"><a href=\"#Animal_Crossing:_Wild_World_(2005)\"><span class=\"tocnumber\">2.1.2</span> <span class=\"toctext\"><i>Animal Crossing: Wild World</i> (2005)</span></a></li>\n",
      "<li class=\"toclevel-3 tocsection-8\"><a href=\"#Animal_Crossing:_City_Folk_(2008)\"><span class=\"tocnumber\">2.1.3</span> <span class=\"toctext\"><i>Animal Crossing: City Folk</i> (2008)</span></a></li>\n",
      "<li class=\"toclevel-3 tocsection-9\"><a href=\"#Animal_Crossing:_New_Leaf_(2012)\"><span class=\"tocnumber\">2.1.4</span> <span class=\"toctext\"><i>Animal Crossing: New Leaf</i> (2012)</span></a></li>\n",
      "<li class=\"toclevel-3 tocsection-10\"><a href=\"#Animal_Crossing:_New_Horizons_(2020)\"><span class=\"tocnumber\">2.1.5</span> <span class=\"toctext\"><i>Animal Crossing: New Horizons</i> (2020)</span></a></li>\n",
      "</ul>\n",
      "</li>\n",
      "<li class=\"toclevel-2 tocsection-11\"><a href=\"#Spin-off_games\"><span class=\"tocnumber\">2.2</span> <span class=\"toctext\">Spin-off games</span></a>\n",
      "<ul>\n",
      "<li class=\"toclevel-3 tocsection-12\"><a href=\"#Animal_Crossing:_Happy_Home_Designer_(2015)\"><span class=\"tocnumber\">2.2.1</span> <span class=\"toctext\"><i>Animal Crossing: Happy Home Designer</i> (2015)</span></a></li>\n",
      "<li class=\"toclevel-3 tocsection-13\"><a href=\"#Animal_Crossing:_Amiibo_Festival_(2015)\"><span class=\"tocnumber\">2.2.2</span> <span class=\"toctext\"><i>Animal Crossing: Amiibo Festival</i> (2015)</span></a></li>\n",
      "<li class=\"toclevel-3 tocsection-14\"><a href=\"#Animal_Crossing:_Pocket_Camp_(2017)\"><span class=\"tocnumber\">2.2.3</span> <span class=\"toctext\"><i>Animal Crossing: Pocket Camp</i> (2017)</span></a></li>\n",
      "</ul>\n",
      "</li>\n",
      "<li class=\"toclevel-2 tocsection-15\"><a href=\"#Apps\"><span class=\"tocnumber\">2.3</span> <span class=\"toctext\">Apps</span></a></li>\n",
      "</ul>\n",
      "</li>\n",
      "<li class=\"toclevel-1 tocsection-16\"><a href=\"#Reception_and_legacy\"><span class=\"tocnumber\">3</span> <span class=\"toctext\">Reception and legacy</span></a>\n",
      "<ul>\n",
      "<li class=\"toclevel-2 tocsection-17\"><a href=\"#Female_demographic\"><span class=\"tocnumber\">3.1</span> <span class=\"toctext\">Female demographic</span></a></li>\n",
      "</ul>\n",
      "</li>\n",
      "<li class=\"toclevel-1 tocsection-18\"><a href=\"#Other_media\"><span class=\"tocnumber\">4</span> <span class=\"toctext\">Other media</span></a></li>\n",
      "<li class=\"toclevel-1 tocsection-19\"><a href=\"#See_also\"><span class=\"tocnumber\">5</span> <span class=\"toctext\">See also</span></a></li>\n",
      "<li class=\"toclevel-1 tocsection-20\"><a href=\"#Notes\"><span class=\"tocnumber\">6</span> <span class=\"toctext\">Notes</span></a></li>\n",
      "<li class=\"toclevel-1 tocsection-21\"><a href=\"#References\"><span class=\"tocnumber\">7</span> <span class=\"toctext\">References</span></a></li>\n",
      "<li class=\"toclevel-1 tocsection-22\"><a href=\"#External_links\"><span class=\"tocnumber\">8</span> <span class=\"toctext\">External links</span></a></li>\n",
      "</ul>\n",
      "</div>\n",
      "\n",
      "<h2><span class=\"mw-headline\" id=\"Common_elements\">Common elements</span><span class=\"mw-editsection\"><span class=\"mw-editsection-bracket\">[</span><a href=\"/w/index.php?title=Animal_Crossing&amp;action=edit&amp;section=1\" title=\"Edit section: Common elements\">edit</a><span class=\"mw-editsection-bracket\">]</span></span></h2>\n",
      "<h3><span class=\"mw-headline\" id=\"Characters\">Characters</span><span class=\"mw-editsection\"><span class=\"mw-editsection-bracket\">[</span><a href=\"/w/index.php?title=Animal_Crossing&amp;action=edit&amp;section=2\" title=\"Edit section: Characters\">edit</a><span class=\"mw-editsection-bracket\">]</span></span></h3>\n",
      "<p>While the series features various villagers for each title, certain prominent characters return in each series installment. <a href=\"/wiki/Tom_Nook\" title=\"Tom Nook\">Tom Nook</a> is a <a href=\"/wiki/Japanese_raccoon_dog\" title=\"Japanese raccoon dog\">tanuki</a> character who functions as both a shop owner and real estate broker, giving the player a loan for their house and allowing them to pay it back with no interest. He is one of the only residents of the town to follow a <a href=\"/wiki/Capitalism\" title=\"Capitalism\">capitalist</a> ethos. <sup id=\"cite_ref-6\" class=\"reference\"><a href=\"#cite_note-6\">&#91;5&#93;</a></sup> <a href=\"/wiki/Mr._Resetti\" title=\"Mr. Resetti\">Mr. Resetti</a> is a mole character who appears from underground whenever players shut off the game without saving, berating them for circumventing one of the game's systems. Due to a new <a href=\"/wiki/Autosave\" title=\"Autosave\">autosave</a> function, he was \"laid off\" from his job in <i>Animal Crossing: New Horizons</i>, although he will be making a return in some form.<sup id=\"cite_ref-7\" class=\"reference\"><a href=\"#cite_note-7\">&#91;6&#93;</a></sup>\n",
      "</p><p><a href=\"/wiki/K.K._Slider\" title=\"K.K. Slider\">K.K. Slider</a> is a canine traveling musician based on series composer <a href=\"/wiki/Kazumi_Totaka\" title=\"Kazumi Totaka\">Kazumi Totaka</a>, and plays on certain nights in the town's club.<sup id=\"cite_ref-8\" class=\"reference\"><a href=\"#cite_note-8\">&#91;7&#93;</a></sup> Afterwards, he gifts the player a free copy of the song played, saying that his music \"wants to be free\". This was seen by some fans as tacit support for <a href=\"/wiki/Music_piracy\" title=\"Music piracy\">music piracy</a>, although Nintendo denied that it was intended as <a href=\"/wiki/Social_commentary\" title=\"Social commentary\">social commentary</a>.<sup id=\"cite_ref-9\" class=\"reference\"><a href=\"#cite_note-9\">&#91;8&#93;</a></sup>\n",
      "</p>\n",
      "<h3><span class=\"mw-headline\" id=\"Gameplay\">Gameplay</span><span class=\"mw-editsection\"><span class=\"mw-editsection-bracket\">[</span><a href=\"/w/index.php?title=Animal_Crossing&amp;action=edit&amp;section=3\" title=\"Edit section: Gameplay\">edit</a><span class=\"mw-editsection-bracket\">]</span></span></h3>\n",
      "<p>In the <i>Animal Crossing</i> games, the player assumes the role of a human child, aged between 9-13, who moves into a rural village populated with anthropomorphic animals and lives there indefinitely. Gameplay is <a href=\"/wiki/Nonlinear_gameplay\" title=\"Nonlinear gameplay\">open-ended</a>: players have no defined objectives, but are instead encouraged to spend their time in the village performing any number of activities, which include collecting items, planting plants or other items, and socializing with the village's residents. <i>Animal Crossing</i> games are played in <a href=\"/wiki/Real_time_(media)\" title=\"Real time (media)\">real time</a>, utilizing the <a href=\"/wiki/Video_game_console\" title=\"Video game console\">video game console</a>'s internal clock and calendar. Thus, passage of time in the game world reflects that in reality, as well as the current season and time of day. Some in-game events, such as holidays or the growth of a tree, occur at certain times or require some duration of time to have passed.<sup id=\"cite_ref-IGN_GC_preview_10-0\" class=\"reference\"><a href=\"#cite_note-IGN_GC_preview-10\">&#91;9&#93;</a></sup>\n",
      "</p><p>One notable feature of the <i>Animal Crossing</i> series is the high level of customization available, some of which affects the outcome of the game.<sup id=\"cite_ref-IGN_GC_review_11-0\" class=\"reference\"><a href=\"#cite_note-IGN_GC_review-11\">&#91;10&#93;</a></sup> The <a href=\"/wiki/Player_character\" title=\"Player character\">player character</a> is both named and gendered by the real life player at the start of the game, and their appearance can be modified by buying or designing custom clothes and accessories or changing the hairstyle (introduced in <i><a href=\"/wiki/Animal_Crossing:_Wild_World\" title=\"Animal Crossing: Wild World\">Wild World</a></i>). The player's house can also be furnished, decorated, and later expanded: the player can purchase and collect furniture and place it anywhere in the house, as well as change both the wallpaper and floor designs. While its terrain, building locations, and initial residents are randomly generated when the game is first begun (except in <i>Animal Crossing: New Leaf</i>, in which the player decides between four given towns, and <i>Animal Crossing: New Horizons</i>, in which the player similarly decides between four given islands), the village's name and anthem, as well as some of the residents' catchphrases, are also determined by the player.<sup id=\"cite_ref-IGN_GC_review_11-1\" class=\"reference\"><a href=\"#cite_note-IGN_GC_review-11\">&#91;10&#93;</a></sup>\n",
      "</p><p>Collecting items is a major facet of <i>Animal Crossing</i>: the player can explore the village and gather objects, including fruit from trees, seashells, and discarded items. Nearly all objects can be sold for Bells, the in-game currency. Players collect objects to obtain more Bells, which can then be used to buy furniture and clothing, purchase home expansions, invest in stocks, and play games. A number of specialized tools are available for other activities such as fishing and insect collecting. Special items, such as fossils and paintings, may be donated to the village museum. The player can choose to socialize with the other animal residents by engaging in conversation, sending and receiving letters, bartering, or playing hide-and-seek. Residents may move in or out of the village depending on the player's actions.\n",
      "</p><p>All installments of <i>Animal Crossing</i> allow some form of communication between players, both offline and <a href=\"/wiki/Online_game\" title=\"Online game\">online</a>. A single village can house up to four human players, though only one can be exploring the village at any given time.<sup id=\"cite_ref-IGN_GC_preview_10-1\" class=\"reference\"><a href=\"#cite_note-IGN_GC_preview-10\">&#91;9&#93;</a></sup> The players can interact via written messages through the village post office or bulletin board. The <a href=\"/wiki/GameCube\" title=\"GameCube\">GameCube</a> iteration allowed players to travel to other villages by trading <a href=\"/wiki/Nintendo_GameCube#Memory_and_storage\" class=\"mw-redirect\" title=\"Nintendo GameCube\">memory cards</a> written with the game data,<sup id=\"cite_ref-IGN_GC_review_11-2\" class=\"reference\"><a href=\"#cite_note-IGN_GC_review-11\">&#91;10&#93;</a></sup> but all subsequent installments allow players to travel and interact online via <a href=\"/wiki/Nintendo_Wi-Fi_Connection\" title=\"Nintendo Wi-Fi Connection\">Nintendo Wi-Fi Connection</a>, although <i><a href=\"/wiki/Animal_Crossing:_City_Folk\" title=\"Animal Crossing: City Folk\">City Folk</a></i> also allows the DS Suitcase to travel to others' towns.<sup id=\"cite_ref-IGN_DS_review_12-0\" class=\"reference\"><a href=\"#cite_note-IGN_DS_review-12\">&#91;11&#93;</a></sup><sup id=\"cite_ref-IGN_Wii_review_13-0\" class=\"reference\"><a href=\"#cite_note-IGN_Wii_review-13\">&#91;12&#93;</a></sup>\n",
      "</p>\n",
      "<h2><span class=\"mw-headline\" id=\"Games\">Games</span><span class=\"mw-editsection\"><span class=\"mw-editsection-bracket\">[</span><a href=\"/w/index.php?title=Animal_Crossing&amp;action=edit&amp;section=4\" title=\"Edit section: Games\">edit</a><span class=\"mw-editsection-bracket\">]</span></span></h2>\n",
      "<style data-mw-deduplicate=\"TemplateStyles:r911434632\">.mw-parser-output .release_timeline{float:right!important;clear:right!important;width:auto!important;flex:1 1 100%;margin:0 0 .3em 1em;padding:.75em 1em;font-size:80%;line-height:.9;border-collapse:separate;border-spacing:0 1px;background-color:transparent}@media(max-width:550px){.mw-parser-output .release_timeline{width:100%!important;box-sizing:border-box}}.mw-parser-output .rt_left{float:left!important;clear:left!important;margin:0 1em 0 .3em}.mw-parser-output .release_timeline .rt_caption{padding:.4em .4em .2em;font-size:112.5%;text-align:center;display:table-caption}.mw-parser-output .release_timeline .rt_subtitle{padding-top:.3em;font-size:90%;font-weight:normal}.mw-parser-output .release_timeline td{border:none;padding:.4em;text-align:left;background:none;font:inherit;color:inherit}.mw-parser-output .release_timeline th{border:none;padding:.4em;text-align:right;background:none;font:inherit;color:inherit}.mw-parser-output .release_timeline .rt_first{padding:.4em .4em .2em}.mw-parser-output .release_timeline .rt_next{padding:.2em .4em}.mw-parser-output .release_timeline .rt_last{padding:.2em .4em}</style><table class=\"wikitable release_timeline\"><caption class=\"rt_caption nowrap\">Release timeline</caption><tbody><tr><th scope=\"row\" style=\"border-right:1.4em solid #ffc836\">2001</th><td><i><a href=\"/wiki/Animal_Crossing_(video_game)\" title=\"Animal Crossing (video game)\">Animal Crossing</a></i></td></tr><tr><th scope=\"row\" style=\"border-right:1.4em solid #e5d2ac\">2002</th></tr><tr><th scope=\"row\" style=\"border-right:1.4em solid #e5d2ac\">2003</th></tr><tr><th scope=\"row\" style=\"border-right:1.4em solid #e5d2ac\">2004</th></tr><tr><th scope=\"row\" style=\"border-right:1.4em solid #ffc836\">2005</th><td><i><a href=\"/wiki/Animal_Crossing:_Wild_World\" title=\"Animal Crossing: Wild World\">Wild World</a></i></td></tr><tr><th scope=\"row\" style=\"border-right:1.4em solid #e5d2ac\">2006</th></tr><tr><th scope=\"row\" style=\"border-right:1.4em solid #e5d2ac\">2007</th></tr><tr><th scope=\"row\" style=\"border-right:1.4em solid #ffc836\">2008</th><td><i><a href=\"/wiki/Animal_Crossing:_City_Folk\" title=\"Animal Crossing: City Folk\">City Folk</a></i></td></tr><tr><th scope=\"row\" style=\"border-right:1.4em solid #e5d2ac\">2009</th></tr><tr><th scope=\"row\" style=\"border-right:1.4em solid #e5d2ac\">2010</th></tr><tr><th scope=\"row\" style=\"border-right:1.4em solid #e5d2ac\">2011</th></tr><tr><th scope=\"row\" style=\"border-right:1.4em solid #ffc836\">2012</th><td><i><a href=\"/wiki/Animal_Crossing:_New_Leaf\" title=\"Animal Crossing: New Leaf\">New Leaf</a></i></td></tr><tr><th scope=\"row\" style=\"border-right:1.4em solid #e5d2ac\">2013</th></tr><tr><th scope=\"row\" style=\"border-right:1.4em solid #e5d2ac\">2014</th></tr><tr><th scope=\"row\" rowspan=\"2\" style=\"border-right:1.4em solid #ffc836\">2015</th><td class=\"rt_first\"><i><a href=\"/wiki/Animal_Crossing:_Happy_Home_Designer\" title=\"Animal Crossing: Happy Home Designer\">Happy Home Designer</a></i></td></tr><tr><td class=\"rt_last\"><i><a href=\"/wiki/Animal_Crossing:_Amiibo_Festival\" title=\"Animal Crossing: Amiibo Festival\">Amiibo Festival</a></i></td></tr><tr><th scope=\"row\" style=\"border-right:1.4em solid #ffc836\">2016</th><td><i><a href=\"/wiki/Animal_Crossing:_New_Leaf\" title=\"Animal Crossing: New Leaf\">New Leaf – Welcome Amiibo</a></i></td></tr><tr><th scope=\"row\" style=\"border-right:1.4em solid #ffc836\">2017</th><td><i><a href=\"/wiki/Animal_Crossing:_Pocket_Camp\" title=\"Animal Crossing: Pocket Camp\">Pocket Camp</a></i></td></tr><tr><th scope=\"row\" style=\"border-right:1.4em solid #e5d2ac\">2018</th></tr><tr><th scope=\"row\" style=\"border-right:1.4em solid #e5d2ac\">2019</th></tr><tr><th scope=\"row\" style=\"border-right:1.4em solid #ffc836\">2020</th><td><i><a href=\"/wiki/Animal_Crossing:_New_Horizons\" title=\"Animal Crossing: New Horizons\">New Horizons</a></i></td></tr></tbody></table>\n",
      "<h3><span class=\"mw-headline\" id=\"Main_series\">Main series</span><span class=\"mw-editsection\"><span class=\"mw-editsection-bracket\">[</span><a href=\"/w/index.php?title=Animal_Crossing&amp;action=edit&amp;section=5\" title=\"Edit section: Main series\">edit</a><span class=\"mw-editsection-bracket\">]</span></span></h3>\n",
      "<h4><span id=\"Animal_Crossing_.282001.29\"></span><span class=\"mw-headline\" id=\"Animal_Crossing_(2001)\"><i>Animal Crossing</i> (2001)</span><span class=\"mw-editsection\"><span class=\"mw-editsection-bracket\">[</span><a href=\"/w/index.php?title=Animal_Crossing&amp;action=edit&amp;section=6\" title=\"Edit section: Animal Crossing (2001)\">edit</a><span class=\"mw-editsection-bracket\">]</span></span></h4>\n",
      "<div role=\"note\" class=\"hatnote navigation-not-searchable\">Main article: <a href=\"/wiki/Animal_Crossing_(video_game)\" title=\"Animal Crossing (video game)\">Animal Crossing (video game)</a></div>\n",
      "<p><i>Animal Crossing</i><sup id=\"cite_ref-14\" class=\"reference\"><a href=\"#cite_note-14\">&#91;b&#93;</a></sup> originally released in Japan for the <a href=\"/wiki/Nintendo_64\" title=\"Nintendo 64\">Nintendo 64</a> in 2001. It was enhanced and released on the <a href=\"/wiki/GameCube\" title=\"GameCube\">GameCube</a> the same year.<sup id=\"cite_ref-15\" class=\"reference\"><a href=\"#cite_note-15\">&#91;13&#93;</a></sup> This version was localized and released in North America on September 16, 2002, Australia on October 17, 2003, and Europe on September 24, 2004.<sup id=\"cite_ref-16\" class=\"reference\"><a href=\"#cite_note-16\">&#91;14&#93;</a></sup> An extended version titled \"Dōbutsu no Mori e+\" was released on June 27, 2003 in Japan.<sup id=\"cite_ref-17\" class=\"reference\"><a href=\"#cite_note-17\">&#91;15&#93;</a></sup> The Nintendo 64 version of the game was released in China in 2006 for <a href=\"/wiki/IQue_Player\" title=\"IQue Player\">iQue Player</a>.<sup id=\"cite_ref-18\" class=\"reference\"><a href=\"#cite_note-18\">&#91;16&#93;</a></sup>\n",
      "</p>\n",
      "<h4><span id=\"Animal_Crossing:_Wild_World_.282005.29\"></span><span class=\"mw-headline\" id=\"Animal_Crossing:_Wild_World_(2005)\"><i>Animal Crossing: Wild World</i> (2005)</span><span class=\"mw-editsection\"><span class=\"mw-editsection-bracket\">[</span><a href=\"/w/index.php?title=Animal_Crossing&amp;action=edit&amp;section=7\" title=\"Edit section: Animal Crossing: Wild World (2005)\">edit</a><span class=\"mw-editsection-bracket\">]</span></span></h4>\n",
      "<div role=\"note\" class=\"hatnote navigation-not-searchable\">Main article: <a href=\"/wiki/Animal_Crossing:_Wild_World\" title=\"Animal Crossing: Wild World\">Animal Crossing: Wild World</a></div>\n",
      "<p><i>Animal Crossing: Wild World</i><sup id=\"cite_ref-19\" class=\"reference\"><a href=\"#cite_note-19\">&#91;c&#93;</a></sup> was released for the <a href=\"/wiki/Nintendo_DS\" title=\"Nintendo DS\">Nintendo DS</a> in Japan on November 23, 2005, North America on December 5, 2005, Australia on December 8, 2005, and Europe on March 31, 2006.<sup id=\"cite_ref-20\" class=\"reference\"><a href=\"#cite_note-20\">&#91;17&#93;</a></sup> It was the first game in the series to use <a href=\"/wiki/Nintendo_Wi-Fi_Connection\" title=\"Nintendo Wi-Fi Connection\">Nintendo Wi-Fi Connection</a>. The game was later re-released on the <a href=\"/wiki/Wii_U\" title=\"Wii U\">Wii U</a> <a href=\"/wiki/Virtual_Console\" title=\"Virtual Console\">Virtual Console</a> on October 13, 2016, although its Wi-Fi multiplayer feature is unavailable due to the <a href=\"/wiki/Nintendo_Wi-Fi_Connection#Closing\" title=\"Nintendo Wi-Fi Connection\">discontinuation</a> of Nintendo Wi-Fi Connection.\n",
      "</p>\n",
      "<h4><span id=\"Animal_Crossing:_City_Folk_.282008.29\"></span><span class=\"mw-headline\" id=\"Animal_Crossing:_City_Folk_(2008)\"><i>Animal Crossing: City Folk</i> (2008)</span><span class=\"mw-editsection\"><span class=\"mw-editsection-bracket\">[</span><a href=\"/w/index.php?title=Animal_Crossing&amp;action=edit&amp;section=8\" title=\"Edit section: Animal Crossing: City Folk (2008)\">edit</a><span class=\"mw-editsection-bracket\">]</span></span></h4>\n",
      "<div role=\"note\" class=\"hatnote navigation-not-searchable\">Main article: <a href=\"/wiki/Animal_Crossing:_City_Folk\" title=\"Animal Crossing: City Folk\">Animal Crossing: City Folk</a></div>\n",
      "<p><i>Animal Crossing: City Folk</i>,<sup id=\"cite_ref-21\" class=\"reference\"><a href=\"#cite_note-21\">&#91;d&#93;</a></sup> known as <i>Animal Crossing: Let's Go to the City</i> in Europe and Australia, was released for the <a href=\"/wiki/Wii\" title=\"Wii\">Wii</a> in North America on November 16, 2008, Japan on November 20, 2008, Australia on December 4, 2008, and Europe on December 5, 2008.<sup id=\"cite_ref-22\" class=\"reference\"><a href=\"#cite_note-22\">&#91;18&#93;</a></sup> It was later released in South Korea in 2010.<sup id=\"cite_ref-23\" class=\"reference\"><a href=\"#cite_note-23\">&#91;19&#93;</a></sup> It was the first Wii game to utilize the <a href=\"/wiki/Wii_Speak\" title=\"Wii Speak\">Wii Speak</a>, an accessory that allows players to talk to each other during online play.\n",
      "</p>\n",
      "<h4><span id=\"Animal_Crossing:_New_Leaf_.282012.29\"></span><span class=\"mw-headline\" id=\"Animal_Crossing:_New_Leaf_(2012)\"><i>Animal Crossing: New Leaf</i> (2012)</span><span class=\"mw-editsection\"><span class=\"mw-editsection-bracket\">[</span><a href=\"/w/index.php?title=Animal_Crossing&amp;action=edit&amp;section=9\" title=\"Edit section: Animal Crossing: New Leaf (2012)\">edit</a><span class=\"mw-editsection-bracket\">]</span></span></h4>\n",
      "<div role=\"note\" class=\"hatnote navigation-not-searchable\">Main article: <a href=\"/wiki/Animal_Crossing:_New_Leaf\" title=\"Animal Crossing: New Leaf\">Animal Crossing: New Leaf</a></div>\n",
      "<p><i>Animal Crossing: New Leaf</i><sup id=\"cite_ref-24\" class=\"reference\"><a href=\"#cite_note-24\">&#91;e&#93;</a></sup> was announced at <a href=\"/wiki/E3_2010\" title=\"E3 2010\">E3 2010</a>.<sup id=\"cite_ref-25\" class=\"reference\"><a href=\"#cite_note-25\">&#91;20&#93;</a></sup> It was released for the <a href=\"/wiki/Nintendo_3DS\" title=\"Nintendo 3DS\">Nintendo 3DS</a> in Japan on November 8, 2012, North America on June 9, 2013, Europe on June 14, 2013, and Australia on June 15, 2013.<sup id=\"cite_ref-26\" class=\"reference\"><a href=\"#cite_note-26\">&#91;21&#93;</a></sup> For the first time in the series, players are appointed to the role of Mayor.<sup id=\"cite_ref-27\" class=\"reference\"><a href=\"#cite_note-27\">&#91;22&#93;</a></sup>\n",
      "In November 2016, a new update was released along with \"Welcome Amiibo\" in North America and Europe, adding several new locations, items and activities.<sup id=\"cite_ref-28\" class=\"reference\"><a href=\"#cite_note-28\">&#91;23&#93;</a></sup>\n",
      "</p>\n",
      "<h4><span id=\"Animal_Crossing:_New_Horizons_.282020.29\"></span><span class=\"mw-headline\" id=\"Animal_Crossing:_New_Horizons_(2020)\"><i>Animal Crossing: New Horizons</i> (2020)</span><span class=\"mw-editsection\"><span class=\"mw-editsection-bracket\">[</span><a href=\"/w/index.php?title=Animal_Crossing&amp;action=edit&amp;section=10\" title=\"Edit section: Animal Crossing: New Horizons (2020)\">edit</a><span class=\"mw-editsection-bracket\">]</span></span></h4>\n",
      "<div role=\"note\" class=\"hatnote navigation-not-searchable\">Main article: <a href=\"/wiki/Animal_Crossing:_New_Horizons\" title=\"Animal Crossing: New Horizons\">Animal Crossing: New Horizons</a></div>\n",
      "<p>A game in the series for <a href=\"/wiki/Nintendo_Switch\" title=\"Nintendo Switch\">Nintendo Switch</a> was announced in a <a href=\"/wiki/Nintendo_Direct\" title=\"Nintendo Direct\">Nintendo Direct</a> in September 2018 known as <i>Animal Crossing: New Horizons</i>.<sup id=\"cite_ref-29\" class=\"reference\"><a href=\"#cite_note-29\">&#91;f&#93;</a></sup> Set on a deserted island, it was released on March 20, 2020.<sup id=\"cite_ref-30\" class=\"reference\"><a href=\"#cite_note-30\">&#91;24&#93;</a></sup>\n",
      "</p>\n",
      "<h3><span class=\"mw-headline\" id=\"Spin-off_games\">Spin-off games</span><span class=\"mw-editsection\"><span class=\"mw-editsection-bracket\">[</span><a href=\"/w/index.php?title=Animal_Crossing&amp;action=edit&amp;section=11\" title=\"Edit section: Spin-off games\">edit</a><span class=\"mw-editsection-bracket\">]</span></span></h3>\n",
      "<h4><span id=\"Animal_Crossing:_Happy_Home_Designer_.282015.29\"></span><span class=\"mw-headline\" id=\"Animal_Crossing:_Happy_Home_Designer_(2015)\"><i>Animal Crossing: Happy Home Designer</i> (2015)</span><span class=\"mw-editsection\"><span class=\"mw-editsection-bracket\">[</span><a href=\"/w/index.php?title=Animal_Crossing&amp;action=edit&amp;section=12\" title=\"Edit section: Animal Crossing: Happy Home Designer (2015)\">edit</a><span class=\"mw-editsection-bracket\">]</span></span></h4>\n",
      "<div role=\"note\" class=\"hatnote navigation-not-searchable\">Main article: <a href=\"/wiki/Animal_Crossing:_Happy_Home_Designer\" title=\"Animal Crossing: Happy Home Designer\">Animal Crossing: Happy Home Designer</a></div>\n",
      "<p><i><a href=\"/wiki/Animal_Crossing:_Happy_Home_Designer\" title=\"Animal Crossing: Happy Home Designer\">Animal Crossing: Happy Home Designer</a></i> is a <a href=\"/wiki/Social_simulation_game\" title=\"Social simulation game\">community simulation game</a> for the <a href=\"/wiki/Nintendo_3DS\" title=\"Nintendo 3DS\">Nintendo 3DS</a> and the first spin-off of the <i>Animal Crossing</i> series. It was released in Japan on July 30, 2015,<sup id=\"cite_ref-31\" class=\"reference\"><a href=\"#cite_note-31\">&#91;25&#93;</a></sup> North America on September 25, 2015,<sup id=\"cite_ref-meta-hhd_32-0\" class=\"reference\"><a href=\"#cite_note-meta-hhd-32\">&#91;26&#93;</a></sup> Europe on October 2, 2015,<sup id=\"cite_ref-nwd-hhd_33-0\" class=\"reference\"><a href=\"#cite_note-nwd-hhd-33\">&#91;27&#93;</a></sup> and Australia on October 3, 2015.<sup id=\"cite_ref-nwd-hhd_33-1\" class=\"reference\"><a href=\"#cite_note-nwd-hhd-33\">&#91;27&#93;</a></sup> The game revolves around designing houses for villagers based on their requests. By scanning <a href=\"/wiki/Amiibo\" title=\"Amiibo\">Amiibo</a> cards, players can unlock the ability to design special characters' houses.<sup id=\"cite_ref-34\" class=\"reference\"><a href=\"#cite_note-34\">&#91;28&#93;</a></sup> The game has a score of 66 out of 100 on <a href=\"/wiki/Metacritic\" title=\"Metacritic\">Metacritic</a>, which signifies \"mixed or average reviews\".<sup id=\"cite_ref-meta-hhd_32-1\" class=\"reference\"><a href=\"#cite_note-meta-hhd-32\">&#91;26&#93;</a></sup>\n",
      "</p>\n",
      "<h4><span id=\"Animal_Crossing:_Amiibo_Festival_.282015.29\"></span><span class=\"mw-headline\" id=\"Animal_Crossing:_Amiibo_Festival_(2015)\"><i>Animal Crossing: Amiibo Festival</i> (2015)</span><span class=\"mw-editsection\"><span class=\"mw-editsection-bracket\">[</span><a href=\"/w/index.php?title=Animal_Crossing&amp;action=edit&amp;section=13\" title=\"Edit section: Animal Crossing: Amiibo Festival (2015)\">edit</a><span class=\"mw-editsection-bracket\">]</span></span></h4>\n",
      "<div role=\"note\" class=\"hatnote navigation-not-searchable\">Main article: <a href=\"/wiki/Animal_Crossing:_Amiibo_Festival\" title=\"Animal Crossing: Amiibo Festival\">Animal Crossing: Amiibo Festival</a></div>\n",
      "<p><i><a href=\"/wiki/Animal_Crossing:_Amiibo_Festival\" title=\"Animal Crossing: Amiibo Festival\">Animal Crossing: Amiibo Festival</a></i> is a <a href=\"/wiki/Party_video_game\" class=\"mw-redirect\" title=\"Party video game\">party</a> video game for the <a href=\"/wiki/Wii_U\" title=\"Wii U\">Wii U</a> released in November 2015 that heavily utilizes <a href=\"/wiki/Amiibo\" title=\"Amiibo\">Amiibo</a>. It was met with unfavorable reviews from critics.<sup id=\"cite_ref-meta-af_35-0\" class=\"reference\"><a href=\"#cite_note-meta-af-35\">&#91;29&#93;</a></sup> It was developed by <a href=\"/wiki/NDcube\" title=\"NDcube\">NDcube</a> and <a href=\"/wiki/Nintendo_Entertainment_Planning_%26_Development\" title=\"Nintendo Entertainment Planning &amp; Development\">Nintendo Entertainment Planning &amp; Development</a>.\n",
      "</p>\n",
      "<h4><span id=\"Animal_Crossing:_Pocket_Camp_.282017.29\"></span><span class=\"mw-headline\" id=\"Animal_Crossing:_Pocket_Camp_(2017)\"><i>Animal Crossing: Pocket Camp</i> (2017)</span><span class=\"mw-editsection\"><span class=\"mw-editsection-bracket\">[</span><a href=\"/w/index.php?title=Animal_Crossing&amp;action=edit&amp;section=14\" title=\"Edit section: Animal Crossing: Pocket Camp (2017)\">edit</a><span class=\"mw-editsection-bracket\">]</span></span></h4>\n",
      "<div role=\"note\" class=\"hatnote navigation-not-searchable\">Main article: <a href=\"/wiki/Animal_Crossing:_Pocket_Camp\" title=\"Animal Crossing: Pocket Camp\">Animal Crossing: Pocket Camp</a></div>\n",
      "<p>In April 2016, Nintendo announced that an <i>Animal Crossing</i> mobile game, later named as <i><a href=\"/wiki/Animal_Crossing:_Pocket_Camp\" title=\"Animal Crossing: Pocket Camp\">Animal Crossing: Pocket Camp</a></i>, would be released as a part of their <a href=\"/wiki/Nintendo_mobile_games\" title=\"Nintendo mobile games\">mobile game lineup</a>.<sup id=\"cite_ref-36\" class=\"reference\"><a href=\"#cite_note-36\">&#91;30&#93;</a></sup> The game was soft launched in Australia in October 2017, and released worldwide on November 21, 2017.\n",
      "</p>\n",
      "<h3><span class=\"mw-headline\" id=\"Apps\">Apps</span><span class=\"mw-editsection\"><span class=\"mw-editsection-bracket\">[</span><a href=\"/w/index.php?title=Animal_Crossing&amp;action=edit&amp;section=15\" title=\"Edit section: Apps\">edit</a><span class=\"mw-editsection-bracket\">]</span></span></h3>\n",
      "<ul><li><i><a href=\"/wiki/Animal_Crossing_Plaza\" title=\"Animal Crossing Plaza\">Animal Crossing Plaza</a></i>, a <a href=\"/wiki/Wii_U_system_software#WaraWara_Plaza\" title=\"Wii U system software\">WaraWara Plaza</a>-like app for <a href=\"/wiki/Wii_U\" title=\"Wii U\">Wii U</a>. Limited time promotion for <i><a href=\"/wiki/Animal_Crossing:_New_Leaf\" title=\"Animal Crossing: New Leaf\">Animal Crossing: New Leaf</a></i>.</li>\n",
      "<li><i>Animal Crossing Clock</i>, a Clock system app for <a href=\"/wiki/Nintendo_DSi\" title=\"Nintendo DSi\">Nintendo DSi</a> and <a href=\"/wiki/Nintendo_3DS\" title=\"Nintendo 3DS\">Nintendo 3DS</a>.</li>\n",
      "<li><i>Animal Crossing Calculator</i>, a Calculator app for <a href=\"/wiki/Nintendo_DSi\" title=\"Nintendo DSi\">Nintendo DSi</a> and <a href=\"/wiki/Nintendo_3DS\" title=\"Nintendo 3DS\">Nintendo 3DS</a>.</li>\n",
      "<li><i>Photos with Animal Crossing</i>, a Camera app for <a href=\"/wiki/Nintendo_3DS\" title=\"Nintendo 3DS\">Nintendo 3DS</a> allowing players to take photos with Animal Crossing characters.<sup id=\"cite_ref-37\" class=\"reference\"><a href=\"#cite_note-37\">&#91;31&#93;</a></sup></li></ul>\n",
      "<h2><span class=\"mw-headline\" id=\"Reception_and_legacy\">Reception and legacy</span><span class=\"mw-editsection\"><span class=\"mw-editsection-bracket\">[</span><a href=\"/w/index.php?title=Animal_Crossing&amp;action=edit&amp;section=16\" title=\"Edit section: Reception and legacy\">edit</a><span class=\"mw-editsection-bracket\">]</span></span></h2>\n",
      "<table class=\"wikitable plainrowheaders\" style=\"font-size: 90%; float: right; clear: right; margin:0.5em 0 0.5em 1em;\">\n",
      "<caption style=\"font-size: 111.11%;\">Sales and aggregate review scores<br /><small><i>As of March 18, 2020.</i></small>\n",
      "</caption>\n",
      "<tbody><tr>\n",
      "<th scope=\"col\">Game\n",
      "</th>\n",
      "<th scope=\"col\">Year\n",
      "</th>\n",
      "<th scope=\"col\">Units sold<br /><span style=\"font-size:85%;\">(in millions)</span>\n",
      "</th>\n",
      "<th scope=\"col\"><a href=\"/wiki/Metacritic\" title=\"Metacritic\">Metacritic</a>\n",
      "</th></tr>\n",
      "<tr>\n",
      "<th scope=\"row\"><i><a href=\"/wiki/Animal_Crossing_(video_game)\" title=\"Animal Crossing (video game)\">Animal Crossing</a></i>\n",
      "</th>\n",
      "<td style=\"text-align: center;\">2001\n",
      "</td>\n",
      "<td style=\"text-align: center;\">2.32<sup id=\"cite_ref-GC_NA_sales_38-0\" class=\"reference\"><a href=\"#cite_note-GC_NA_sales-38\">&#91;32&#93;</a></sup><sup id=\"cite_ref-GC_JP_sales_39-0\" class=\"reference\"><a href=\"#cite_note-GC_JP_sales-39\">&#91;33&#93;</a></sup>\n",
      "</td>\n",
      "<td style=\"text-align: center;\">87/100<sup id=\"cite_ref-40\" class=\"reference\"><a href=\"#cite_note-40\">&#91;34&#93;</a></sup>\n",
      "</td></tr>\n",
      "<tr>\n",
      "<th scope=\"row\"><i><a href=\"/wiki/Animal_Crossing:_Wild_World\" title=\"Animal Crossing: Wild World\">Animal Crossing: Wild World</a></i>\n",
      "</th>\n",
      "<td style=\"text-align: center;\">2005\n",
      "</td>\n",
      "<td style=\"text-align: center;\">11.75<sup id=\"cite_ref-DS_sales_41-0\" class=\"reference\"><a href=\"#cite_note-DS_sales-41\">&#91;35&#93;</a></sup>\n",
      "</td>\n",
      "<td style=\"text-align: center;\">86/100<sup id=\"cite_ref-42\" class=\"reference\"><a href=\"#cite_note-42\">&#91;36&#93;</a></sup>\n",
      "</td></tr>\n",
      "<tr>\n",
      "<th scope=\"row\"><i><a href=\"/wiki/Animal_Crossing:_City_Folk\" title=\"Animal Crossing: City Folk\">Animal Crossing: City Folk</a></i>\n",
      "</th>\n",
      "<td style=\"text-align: center;\">2008\n",
      "</td>\n",
      "<td style=\"text-align: center;\">3.38<sup id=\"cite_ref-Wii_sales_43-0\" class=\"reference\"><a href=\"#cite_note-Wii_sales-43\">&#91;37&#93;</a></sup>\n",
      "</td>\n",
      "<td style=\"text-align: center;\">73/100<sup id=\"cite_ref-44\" class=\"reference\"><a href=\"#cite_note-44\">&#91;38&#93;</a></sup>\n",
      "</td></tr>\n",
      "<tr>\n",
      "<th scope=\"row\"><i><a href=\"/wiki/Animal_Crossing:_New_Leaf\" title=\"Animal Crossing: New Leaf\">Animal Crossing: New Leaf</a></i>\n",
      "</th>\n",
      "<td style=\"text-align: center;\">2012\n",
      "</td>\n",
      "<td style=\"text-align: center;\">12.21<sup id=\"cite_ref-3DS-top-sell_45-0\" class=\"reference\"><a href=\"#cite_note-3DS-top-sell-45\">&#91;39&#93;</a></sup>\n",
      "</td>\n",
      "<td style=\"text-align: center;\">88/100<sup id=\"cite_ref-46\" class=\"reference\"><a href=\"#cite_note-46\">&#91;40&#93;</a></sup>\n",
      "</td></tr>\n",
      "<tr>\n",
      "<th scope=\"row\"><i><a href=\"/wiki/Animal_Crossing:_New_Horizons\" title=\"Animal Crossing: New Horizons\">Animal Crossing: New Horizons</a></i>\n",
      "</th>\n",
      "<td style=\"text-align: center;\">2020\n",
      "</td>\n",
      "<td style=\"text-align: center;\">1.88 million\n",
      "</td>\n",
      "<td style=\"text-align: center;\">91/100<sup id=\"cite_ref-47\" class=\"reference\"><a href=\"#cite_note-47\">&#91;41&#93;</a></sup>\n",
      "</td></tr></tbody></table>\n",
      "<p>The <i>Animal Crossing</i> games have garnered positive response.<sup id=\"cite_ref-IGN_GC_review_11-3\" class=\"reference\"><a href=\"#cite_note-IGN_GC_review-11\">&#91;10&#93;</a></sup><sup id=\"cite_ref-IGN_DS_review_12-1\" class=\"reference\"><a href=\"#cite_note-IGN_DS_review-12\">&#91;11&#93;</a></sup><sup id=\"cite_ref-IGN_Wii_review_13-1\" class=\"reference\"><a href=\"#cite_note-IGN_Wii_review-13\">&#91;12&#93;</a></sup> The four main series games are among the <a href=\"/wiki/List_of_best-selling_video_games\" title=\"List of best-selling video games\">best-selling video games</a> for their respective consoles. <i>Animal Crossing</i> has sold 2.32 million copies;<sup id=\"cite_ref-GC_NA_sales_38-1\" class=\"reference\"><a href=\"#cite_note-GC_NA_sales-38\">&#91;32&#93;</a></sup><sup id=\"cite_ref-GC_JP_sales_39-1\" class=\"reference\"><a href=\"#cite_note-GC_JP_sales-39\">&#91;33&#93;</a></sup> <i>Wild World</i> 11.75 million;<sup id=\"cite_ref-DS_sales_41-1\" class=\"reference\"><a href=\"#cite_note-DS_sales-41\">&#91;35&#93;</a></sup> <i>City Folk</i> 3.38 million;<sup id=\"cite_ref-Wii_sales_43-1\" class=\"reference\"><a href=\"#cite_note-Wii_sales-43\">&#91;37&#93;</a></sup> <i>New Leaf</i> 12.21 million,<sup id=\"cite_ref-3DS-top-sell_45-1\" class=\"reference\"><a href=\"#cite_note-3DS-top-sell-45\">&#91;39&#93;</a></sup> and <i>Happy Home Designer</i> 3.04 million.<sup id=\"cite_ref-HHD_sales_48-0\" class=\"reference\"><a href=\"#cite_note-HHD_sales-48\">&#91;42&#93;</a></sup> <i>Amiibo Festival</i> was a critical and commercial failure; in Japan it has only sold 26,325 copies.<sup id=\"cite_ref-meta-af_35-1\" class=\"reference\"><a href=\"#cite_note-meta-af-35\">&#91;29&#93;</a></sup><sup id=\"cite_ref-49\" class=\"reference\"><a href=\"#cite_note-49\">&#91;43&#93;</a></sup> In total, the <i>Animal Crossing</i> franchise has sold over 30 million units.\n",
      "</p>\n",
      "<h3><span class=\"mw-headline\" id=\"Female_demographic\">Female demographic</span><span class=\"mw-editsection\"><span class=\"mw-editsection-bracket\">[</span><a href=\"/w/index.php?title=Animal_Crossing&amp;action=edit&amp;section=17\" title=\"Edit section: Female demographic\">edit</a><span class=\"mw-editsection-bracket\">]</span></span></h3>\n",
      "<p>Former president of <a href=\"/wiki/Nintendo\" title=\"Nintendo\">Nintendo</a>, <a href=\"/wiki/Satoru_Iwata\" title=\"Satoru Iwata\">Satoru Iwata</a> noted that 56% of people who pre-ordered <i><a href=\"/wiki/Animal_Crossing:_New_Leaf\" title=\"Animal Crossing: New Leaf\">Animal Crossing: New Leaf</a></i> identify as female, with many of them purchasing a <a href=\"/wiki/Nintendo_3DS\" title=\"Nintendo 3DS\">Nintendo 3DS</a> specifically for the game. He found the game's success with adult women between the ages of 19 to 24 to be particularly noteworthy.<sup id=\"cite_ref-50\" class=\"reference\"><a href=\"#cite_note-50\">&#91;44&#93;</a></sup><sup id=\"cite_ref-51\" class=\"reference\"><a href=\"#cite_note-51\">&#91;45&#93;</a></sup><sup id=\"cite_ref-52\" class=\"reference\"><a href=\"#cite_note-52\">&#91;46&#93;</a></sup>\n",
      "</p>\n",
      "<h2><span class=\"mw-headline\" id=\"Other_media\">Other media</span><span class=\"mw-editsection\"><span class=\"mw-editsection-bracket\">[</span><a href=\"/w/index.php?title=Animal_Crossing&amp;action=edit&amp;section=18\" title=\"Edit section: Other media\">edit</a><span class=\"mw-editsection-bracket\">]</span></span></h2>\n",
      "<div class=\"thumb tright\"><div class=\"thumbinner\" style=\"width:222px;\"><a href=\"/wiki/File:Villager_(character).png\" class=\"image\"><img alt=\"\" src=\"//upload.wikimedia.org/wikipedia/en/thumb/2/2d/Villager_%28character%29.png/220px-Villager_%28character%29.png\" decoding=\"async\" width=\"220\" height=\"229\" class=\"thumbimage\" srcset=\"//upload.wikimedia.org/wikipedia/en/2/2d/Villager_%28character%29.png 1.5x\" data-file-width=\"310\" data-file-height=\"322\" /></a>  <div class=\"thumbcaption\"><div class=\"magnify\"><a href=\"/wiki/File:Villager_(character).png\" class=\"internal\" title=\"Enlarge\"></a></div>The male Villager, as depicted in <i><a href=\"/wiki/Super_Smash_Bros._Ultimate\" title=\"Super Smash Bros. Ultimate\">Super Smash Bros. Ultimate</a></i></div></div></div>\n",
      "<p>An <a href=\"/wiki/Anime\" title=\"Anime\">anime</a> <a href=\"/wiki/Film_adaptation\" title=\"Film adaptation\">film adaptation</a> of <i>Wild World</i>, titled <i><a href=\"/wiki/D%C5%8Dbutsu_no_Mori_(film)\" title=\"Dōbutsu no Mori (film)\">Dōbutsu no Mori</a></i>, was released in Japan on December 16, 2006. The film was produced by <a href=\"/wiki/OLM,_Inc.\" title=\"OLM, Inc.\">OLM, Inc.</a> and distributed by <a href=\"/wiki/Toho\" title=\"Toho\">Toho</a>. <i>Dōbutsu no Mori</i> earned <a href=\"/wiki/Japanese_yen\" title=\"Japanese yen\">¥</a>1.8 billion (approximately $19.2 million) in the <a href=\"/wiki/Box_office\" title=\"Box office\">box office</a>.<sup id=\"cite_ref-53\" class=\"reference\"><a href=\"#cite_note-53\">&#91;47&#93;</a></sup>\n",
      "</p><p>In the Wii game <i><a href=\"/wiki/WarioWare:_Smooth_Moves\" title=\"WarioWare: Smooth Moves\">WarioWare: Smooth Moves</a></i>, released in Japan in 2006 and Europe, North America and Australia in 2007, there is a minigame that is modeled after Animal Crossing: Wild World, <a href=\"https://www.mariowiki.com/Animal_Crossing:_Wild_World\" class=\"extiw\" title=\"mariowiki:Animal Crossing: Wild World\">under the same name</a>. The player has to catch a fish using the same mechanics as the original game.\n",
      "</p><p>The 2008 Wii game <i><a href=\"/wiki/Super_Smash_Bros._Brawl\" title=\"Super Smash Bros. Brawl\">Super Smash Bros. Brawl</a></i> features elements from <i>Wild World</i>. Most prominent is a stage based on the animal village, called \"Smashville\", which changes its scenery in accordance with the Wii system clock<sup id=\"cite_ref-smash_stage_54-0\" class=\"reference\"><a href=\"#cite_note-smash_stage-54\">&#91;48&#93;</a></sup> and features a number of <a href=\"/wiki/Video_game_music\" title=\"Video game music\">songs</a> remixed or extracted from the original game.<sup id=\"cite_ref-smash_music_55-0\" class=\"reference\"><a href=\"#cite_note-smash_music-55\">&#91;49&#93;</a></sup> Mr. Resetti and a pitfall seed, which appear in all <i>Animal Crossing</i> games, are available as an Assist Trophy and an item respectively.<sup id=\"cite_ref-smash_resetti_56-0\" class=\"reference\"><a href=\"#cite_note-smash_resetti-56\">&#91;50&#93;</a></sup><sup id=\"cite_ref-smash_pitfall_57-0\" class=\"reference\"><a href=\"#cite_note-smash_pitfall-57\">&#91;51&#93;</a></sup> <i>Brawl</i> also features 24 collectible trophies based on <i>Animal Crossing</i> characters and items.<sup id=\"cite_ref-smash_trophies_58-0\" class=\"reference\"><a href=\"#cite_note-smash_trophies-58\">&#91;52&#93;</a></sup>\n",
      "</p><p><i><a href=\"/wiki/Wii_Music\" title=\"Wii Music\">Wii Music</a></i> features two playable songs from <i>Animal Crossing</i>.<sup id=\"cite_ref-59\" class=\"reference\"><a href=\"#cite_note-59\">&#91;53&#93;</a></sup>\n",
      "</p><p>The minigame \"Animal Crossing: Sweet Day\" in <i><a href=\"/wiki/Nintendo_Land\" title=\"Nintendo Land\">Nintendo Land</a></i> is based on the <i>Animal Crossing</i> game series. The objective of the game is for the Wii Remote players (1-4), to gather large amounts of candy scattered around the area and store them in their head without getting caught by the Gatekeepers, who are controlled using the two Wii U GamePad analog sticks.<sup id=\"cite_ref-60\" class=\"reference\"><a href=\"#cite_note-60\">&#91;54&#93;</a></sup>\n",
      "</p><p>A playable character called \"Villager\" represents the <i>Animal Crossing</i> series as a fighter in <i><a href=\"/wiki/Super_Smash_Bros._for_Nintendo_3DS_and_Wii_U\" title=\"Super Smash Bros. for Nintendo 3DS and Wii U\">Super Smash Bros. for Nintendo 3DS and Wii U</a></i> and <i><a href=\"/wiki/Super_Smash_Bros._Ultimate\" title=\"Super Smash Bros. Ultimate\">Super Smash Bros. Ultimate</a></i>. The character has both male and female forms, which are selected when choosing the character. His or her moves include the ability to catch other players in a net and firing Lloid the gyroid as a missile.<sup id=\"cite_ref-61\" class=\"reference\"><a href=\"#cite_note-61\">&#91;55&#93;</a></sup> Additionally, <a href=\"/wiki/Isabelle_(Animal_Crossing)\" title=\"Isabelle (Animal Crossing)\">Isabelle</a> from <i>New Leaf</i> appears as an Assist Trophy,<sup id=\"cite_ref-62\" class=\"reference\"><a href=\"#cite_note-62\">&#91;56&#93;</a></sup> and later appeared as a standalone fighter in <i>Ultimate</i>.<sup id=\"cite_ref-63\" class=\"reference\"><a href=\"#cite_note-63\">&#91;57&#93;</a></sup> Two new <i>Animal Crossing</i> stages appear in the games: \"Town &amp; City\" from <i>City Folk</i> in the Wii U version, and \"Tortimer Island\" from <i>New Leaf</i> in the 3DS version.<sup id=\"cite_ref-64\" class=\"reference\"><a href=\"#cite_note-64\">&#91;58&#93;</a></sup> \"Smashville\" from <i>Brawl</i> returns in the Wii U version.<sup id=\"cite_ref-65\" class=\"reference\"><a href=\"#cite_note-65\">&#91;59&#93;</a></sup>\n",
      "</p><p>Villager and Isabelle are playable characters in <i><a href=\"/wiki/Mario_Kart_8\" title=\"Mario Kart 8\">Mario Kart 8</a></i> via downloadable content, along with a racetrack based on <i>Animal Crossing</i> and a cup named after the series known as the \"Crossing Cup\".<sup id=\"cite_ref-Franchises_coming_to_MK8_66-0\" class=\"reference\"><a href=\"#cite_note-Franchises_coming_to_MK8-66\">&#91;60&#93;</a></sup> The two racers, along with the <i>Animal Crossing</i> track, were also included in the <a href=\"/wiki/Nintendo_Switch\" title=\"Nintendo Switch\">Nintendo Switch</a> version of the game, <i><a href=\"/wiki/Mario_Kart_8_Deluxe\" class=\"mw-redirect\" title=\"Mario Kart 8 Deluxe\">Mario Kart 8 Deluxe</a></i> along with a racing suit based on the series for the <a href=\"/wiki/Mii\" title=\"Mii\">Mii</a>. In June 2015, Isabelle and Mr. Resetti-themed cosmetics were added as costumes options for the player's \"Palico\" companion in <i><a href=\"/wiki/Monster_Hunter_4_Ultimate\" class=\"mw-redirect\" title=\"Monster Hunter 4 Ultimate\">Monster Hunter 4 Ultimate</a></i>.<sup id=\"cite_ref-67\" class=\"reference\"><a href=\"#cite_note-67\">&#91;61&#93;</a></sup>\n",
      "</p>\n",
      "<h2><span class=\"mw-headline\" id=\"See_also\">See also</span><span class=\"mw-editsection\"><span class=\"mw-editsection-bracket\">[</span><a href=\"/w/index.php?title=Animal_Crossing&amp;action=edit&amp;section=19\" title=\"Edit section: See also\">edit</a><span class=\"mw-editsection-bracket\">]</span></span></h2>\n",
      "<style data-mw-deduplicate=\"TemplateStyles:r936637989\">.mw-parser-output .portal{border:solid #aaa 1px;padding:0}.mw-parser-output .portal.tleft{margin:0.5em 1em 0.5em 0}.mw-parser-output .portal.tright{margin:0.5em 0 0.5em 1em}.mw-parser-output .portal>ul{display:table;box-sizing:border-box;padding:0.1em;max-width:175px;background:#f9f9f9;font-size:85%;line-height:110%;font-style:italic;font-weight:bold}.mw-parser-output .portal>ul>li{display:table-row}.mw-parser-output .portal>ul>li>span:first-child{display:table-cell;padding:0.2em;vertical-align:middle;text-align:center}.mw-parser-output .portal>ul>li>span:last-child{display:table-cell;padding:0.2em 0.2em 0.2em 0.3em;vertical-align:middle}</style><div role=\"navigation\" aria-label=\"Portals\" class=\"noprint portal plainlist tright\">\n",
      "<ul>\n",
      "<li><span><img alt=\"\" src=\"//upload.wikimedia.org/wikipedia/en/thumb/e/e0/WPVG_icon_2016.svg/28px-WPVG_icon_2016.svg.png\" decoding=\"async\" width=\"28\" height=\"28\" class=\"noviewer\" srcset=\"//upload.wikimedia.org/wikipedia/en/thumb/e/e0/WPVG_icon_2016.svg/42px-WPVG_icon_2016.svg.png 1.5x, //upload.wikimedia.org/wikipedia/en/thumb/e/e0/WPVG_icon_2016.svg/56px-WPVG_icon_2016.svg.png 2x\" data-file-width=\"249\" data-file-height=\"249\" /></span><span><a href=\"/wiki/Portal:Video_games\" title=\"Portal:Video games\">Video games portal</a></span></li>\n",
      "<li><span><img alt=\"flag\" src=\"//upload.wikimedia.org/wikipedia/en/thumb/9/9e/Flag_of_Japan.svg/32px-Flag_of_Japan.svg.png\" decoding=\"async\" width=\"32\" height=\"21\" class=\"noviewer thumbborder\" srcset=\"//upload.wikimedia.org/wikipedia/en/thumb/9/9e/Flag_of_Japan.svg/48px-Flag_of_Japan.svg.png 1.5x, //upload.wikimedia.org/wikipedia/en/thumb/9/9e/Flag_of_Japan.svg/64px-Flag_of_Japan.svg.png 2x\" data-file-width=\"900\" data-file-height=\"600\" /></span><span><a href=\"/wiki/Portal:Japan\" title=\"Portal:Japan\">Japan portal</a></span></li></ul></div>\n",
      "<ul><li><a href=\"/wiki/List_of_Animal_Crossing_media\" title=\"List of Animal Crossing media\">List of <i>Animal Crossing</i> media</a></li></ul>\n",
      "<h2><span class=\"mw-headline\" id=\"Notes\">Notes</span><span class=\"mw-editsection\"><span class=\"mw-editsection-bracket\">[</span><a href=\"/w/index.php?title=Animal_Crossing&amp;action=edit&amp;section=20\" title=\"Edit section: Notes\">edit</a><span class=\"mw-editsection-bracket\">]</span></span></h2>\n",
      "<div class=\"reflist\" style=\"list-style-type: lower-alpha;\">\n",
      "<div class=\"mw-references-wrap\"><ol class=\"references\">\n",
      "<li id=\"cite_note-1\"><span class=\"mw-cite-backlink\"><b><a href=\"#cite_ref-1\">^</a></b></span> <span class=\"reference-text\"><a href=\"/wiki/Japanese_language\" title=\"Japanese language\">Japanese</a>: <span lang=\"ja\">どうぶつの森</span> <a href=\"/wiki/Hepburn_romanization\" title=\"Hepburn romanization\">Hepburn</a>: <i lang=\"ja-Latn\" title=\"Hepburn transliteration\">Dōbutsu no Mori</i>, <i>Animal Forest</i></span>\n",
      "</li>\n",
      "<li id=\"cite_note-14\"><span class=\"mw-cite-backlink\"><b><a href=\"#cite_ref-14\">^</a></b></span> <span class=\"reference-text\">Known in Japan as <i>Dōbutsu no Mori</i><span style=\"font-weight: normal\"> (<span lang=\"ja\" title=\"Japanese language text\">どうぶつの森</span>, lit. <i>Animal Forest</i>)</span></span>\n",
      "</li>\n",
      "<li id=\"cite_note-19\"><span class=\"mw-cite-backlink\"><b><a href=\"#cite_ref-19\">^</a></b></span> <span class=\"reference-text\">Known in Japan as <i>Oideyo Dōbutsu no Mori</i><span style=\"font-weight: normal\"> (<span lang=\"ja\" title=\"Japanese language text\">おいでよ どうぶつの森</span>, lit. <i>Come to Animal Forest</i>)</span></span>\n",
      "</li>\n",
      "<li id=\"cite_note-21\"><span class=\"mw-cite-backlink\"><b><a href=\"#cite_ref-21\">^</a></b></span> <span class=\"reference-text\">Known in Japan as <i>Machi e Ikō yo Dōbutsu no Mori</i><span style=\"font-weight: normal\"> (<span lang=\"ja\" title=\"Japanese language text\">街へ行こうよ どうぶつの森</span>, lit. <i>Let's Go to the City: Animal Forest</i>)</span></span>\n",
      "</li>\n",
      "<li id=\"cite_note-24\"><span class=\"mw-cite-backlink\"><b><a href=\"#cite_ref-24\">^</a></b></span> <span class=\"reference-text\">Known in Japan as <i>Tobidase Dōbutsu no Mori</i><span style=\"font-weight: normal\"> (<span lang=\"ja\" title=\"Japanese language text\">とびだせ どうぶつの森</span>, lit. <i>Jump Out Animal Forest</i>)</span></span>\n",
      "</li>\n",
      "<li id=\"cite_note-29\"><span class=\"mw-cite-backlink\"><b><a href=\"#cite_ref-29\">^</a></b></span> <span class=\"reference-text\">Known in Japan as <i>Atsumare Dōbutsu no Mori</i><span style=\"font-weight: normal\"> (<span lang=\"ja\" title=\"Japanese language text\">あつまれ どうぶつの森</span>, lit. <i>Gathering Animal Forest</i>)</span></span>\n",
      "</li>\n",
      "</ol></div></div>\n",
      "<h2><span class=\"mw-headline\" id=\"References\">References</span><span class=\"mw-editsection\"><span class=\"mw-editsection-bracket\">[</span><a href=\"/w/index.php?title=Animal_Crossing&amp;action=edit&amp;section=21\" title=\"Edit section: References\">edit</a><span class=\"mw-editsection-bracket\">]</span></span></h2>\n",
      "<div class=\"reflist\" style=\"list-style-type: decimal;\">\n",
      "<div class=\"mw-references-wrap mw-references-columns\"><ol class=\"references\">\n",
      "<li id=\"cite_note-2\"><span class=\"mw-cite-backlink\"><b><a href=\"#cite_ref-2\">^</a></b></span> <span class=\"reference-text\"><cite class=\"citation web\">Andrew H (March 27, 2014). <a rel=\"nofollow\" class=\"external text\" href=\"https://web.archive.org/web/20160304072130/http://www.droidgamers.com/index.php/apps/7395-while-animal-crossing-may-never-see-a-mobile-game-there-could-be-companion-apps-on-the-way\">\"While Animal Crossing may never see a mobile game, there could be companion apps on the way\"</a>. <i>droidgamers.com</i>. Archived from <a rel=\"nofollow\" class=\"external text\" href=\"http://www.droidgamers.com/index.php/apps/7395-while-animal-crossing-may-never-see-a-mobile-game-there-could-be-companion-apps-on-the-way\">the original</a> on March 4, 2016<span class=\"reference-accessdate\">. Retrieved <span class=\"nowrap\">February 22,</span> 2016</span>.</cite><span title=\"ctx_ver=Z39.88-2004&amp;rft_val_fmt=info%3Aofi%2Ffmt%3Akev%3Amtx%3Ajournal&amp;rft.genre=unknown&amp;rft.jtitle=droidgamers.com&amp;rft.atitle=While+Animal+Crossing+may+never+see+a+mobile+game%2C+there+could+be+companion+apps+on+the+way&amp;rft.date=2014-03-27&amp;rft.au=Andrew+H&amp;rft_id=http%3A%2F%2Fwww.droidgamers.com%2Findex.php%2Fapps%2F7395-while-animal-crossing-may-never-see-a-mobile-game-there-could-be-companion-apps-on-the-way&amp;rfr_id=info%3Asid%2Fen.wikipedia.org%3AAnimal+Crossing\" class=\"Z3988\"></span><style data-mw-deduplicate=\"TemplateStyles:r935243608\">.mw-parser-output cite.citation{font-style:inherit}.mw-parser-output .citation q{quotes:\"\\\"\"\"\\\"\"\"'\"\"'\"}.mw-parser-output .id-lock-free a,.mw-parser-output .citation .cs1-lock-free a{background:url(\"//upload.wikimedia.org/wikipedia/commons/thumb/6/65/Lock-green.svg/9px-Lock-green.svg.png\")no-repeat;background-position:right .1em center}.mw-parser-output .id-lock-limited a,.mw-parser-output .id-lock-registration a,.mw-parser-output .citation .cs1-lock-limited a,.mw-parser-output .citation .cs1-lock-registration a{background:url(\"//upload.wikimedia.org/wikipedia/commons/thumb/d/d6/Lock-gray-alt-2.svg/9px-Lock-gray-alt-2.svg.png\")no-repeat;background-position:right .1em center}.mw-parser-output .id-lock-subscription a,.mw-parser-output .citation .cs1-lock-subscription a{background:url(\"//upload.wikimedia.org/wikipedia/commons/thumb/a/aa/Lock-red-alt-2.svg/9px-Lock-red-alt-2.svg.png\")no-repeat;background-position:right .1em center}.mw-parser-output .cs1-subscription,.mw-parser-output .cs1-registration{color:#555}.mw-parser-output .cs1-subscription span,.mw-parser-output .cs1-registration span{border-bottom:1px dotted;cursor:help}.mw-parser-output .cs1-ws-icon a{background:url(\"//upload.wikimedia.org/wikipedia/commons/thumb/4/4c/Wikisource-logo.svg/12px-Wikisource-logo.svg.png\")no-repeat;background-position:right .1em center}.mw-parser-output code.cs1-code{color:inherit;background:inherit;border:inherit;padding:inherit}.mw-parser-output .cs1-hidden-error{display:none;font-size:100%}.mw-parser-output .cs1-visible-error{font-size:100%}.mw-parser-output .cs1-maint{display:none;color:#33aa33;margin-left:0.3em}.mw-parser-output .cs1-subscription,.mw-parser-output .cs1-registration,.mw-parser-output .cs1-format{font-size:95%}.mw-parser-output .cs1-kern-left,.mw-parser-output .cs1-kern-wl-left{padding-left:0.2em}.mw-parser-output .cs1-kern-right,.mw-parser-output .cs1-kern-wl-right{padding-right:0.2em}</style></span>\n",
      "</li>\n",
      "<li id=\"cite_note-3\"><span class=\"mw-cite-backlink\"><b><a href=\"#cite_ref-3\">^</a></b></span> <span class=\"reference-text\"><cite class=\"citation web\">Stephen Totilo (June 8, 2013). <a rel=\"nofollow\" class=\"external text\" href=\"http://kotaku.com/no-retro-games-in-future-animal-crossings-with-one-poss-512085493\">\"No Retro Games in Future Animal Crossings—With One Possible Exception\"</a>. <i>kotaku.com</i><span class=\"reference-accessdate\">. Retrieved <span class=\"nowrap\">February 22,</span> 2016</span>.</cite><span title=\"ctx_ver=Z39.88-2004&amp;rft_val_fmt=info%3Aofi%2Ffmt%3Akev%3Amtx%3Ajournal&amp;rft.genre=unknown&amp;rft.jtitle=kotaku.com&amp;rft.atitle=No+Retro+Games+in+Future+Animal+Crossings%E2%80%94With+One+Possible+Exception&amp;rft.date=2013-06-08&amp;rft.au=Stephen+Totilo&amp;rft_id=http%3A%2F%2Fkotaku.com%2Fno-retro-games-in-future-animal-crossings-with-one-poss-512085493&amp;rfr_id=info%3Asid%2Fen.wikipedia.org%3AAnimal+Crossing\" class=\"Z3988\"></span><link rel=\"mw-deduplicated-inline-style\" href=\"mw-data:TemplateStyles:r935243608\"/></span>\n",
      "</li>\n",
      "<li id=\"cite_note-4\"><span class=\"mw-cite-backlink\"><b><a href=\"#cite_ref-4\">^</a></b></span> <span class=\"reference-text\"><cite class=\"citation web\">Brett Elston (July 15, 2008). <a rel=\"nofollow\" class=\"external text\" href=\"http://www.gamesradar.com/e3-08-nintendo-press-conference/\">\"E3 08: Nintendo Press Conference\"</a>. <i>gamesradar.com</i><span class=\"reference-accessdate\">. Retrieved <span class=\"nowrap\">February 24,</span> 2016</span>.</cite><span title=\"ctx_ver=Z39.88-2004&amp;rft_val_fmt=info%3Aofi%2Ffmt%3Akev%3Amtx%3Ajournal&amp;rft.genre=unknown&amp;rft.jtitle=gamesradar.com&amp;rft.atitle=E3+08%3A+Nintendo+Press+Conference&amp;rft.date=2008-07-15&amp;rft.au=Brett+Elston&amp;rft_id=http%3A%2F%2Fwww.gamesradar.com%2Fe3-08-nintendo-press-conference%2F&amp;rfr_id=info%3Asid%2Fen.wikipedia.org%3AAnimal+Crossing\" class=\"Z3988\"></span><link rel=\"mw-deduplicated-inline-style\" href=\"mw-data:TemplateStyles:r935243608\"/></span>\n",
      "</li>\n",
      "<li id=\"cite_note-5\"><span class=\"mw-cite-backlink\"><b><a href=\"#cite_ref-5\">^</a></b></span> <span class=\"reference-text\"><cite class=\"citation web\">Hood, Vic; Gaming, Nick Pino 2019-06-18T17:06:19Z. <a rel=\"nofollow\" class=\"external text\" href=\"https://www.techradar.com/news/animal-crossing-on-nintendo-switch\">\"Animal Crossing on Nintendo Switch: release date, news and features\"</a>. <i>TechRadar</i><span class=\"reference-accessdate\">. Retrieved <span class=\"nowrap\">July 24,</span> 2019</span>.</cite><span title=\"ctx_ver=Z39.88-2004&amp;rft_val_fmt=info%3Aofi%2Ffmt%3Akev%3Amtx%3Ajournal&amp;rft.genre=unknown&amp;rft.jtitle=TechRadar&amp;rft.atitle=Animal+Crossing+on+Nintendo+Switch%3A+release+date%2C+news+and+features&amp;rft.aulast=Hood&amp;rft.aufirst=Vic&amp;rft.au=Gaming%2C+Nick+Pino+2019-06-18T17%3A06%3A19Z&amp;rft_id=https%3A%2F%2Fwww.techradar.com%2Fnews%2Fanimal-crossing-on-nintendo-switch&amp;rfr_id=info%3Asid%2Fen.wikipedia.org%3AAnimal+Crossing\" class=\"Z3988\"></span><link rel=\"mw-deduplicated-inline-style\" href=\"mw-data:TemplateStyles:r935243608\"/></span>\n",
      "</li>\n",
      "<li id=\"cite_note-6\"><span class=\"mw-cite-backlink\"><b><a href=\"#cite_ref-6\">^</a></b></span> <span class=\"reference-text\"><cite class=\"citation web\">Jackson, Gita. <a rel=\"nofollow\" class=\"external text\" href=\"https://kotaku.com/tom-nook-needs-to-get-with-the-times-1829149177\">\"Tom Nook Needs To Get With The Times\"</a>. <i>Kotaku</i><span class=\"reference-accessdate\">. Retrieved <span class=\"nowrap\">August 18,</span> 2019</span>.</cite><span title=\"ctx_ver=Z39.88-2004&amp;rft_val_fmt=info%3Aofi%2Ffmt%3Akev%3Amtx%3Ajournal&amp;rft.genre=unknown&amp;rft.jtitle=Kotaku&amp;rft.atitle=Tom+Nook+Needs+To+Get+With+The+Times&amp;rft.aulast=Jackson&amp;rft.aufirst=Gita&amp;rft_id=https%3A%2F%2Fkotaku.com%2Ftom-nook-needs-to-get-with-the-times-1829149177&amp;rfr_id=info%3Asid%2Fen.wikipedia.org%3AAnimal+Crossing\" class=\"Z3988\"></span><link rel=\"mw-deduplicated-inline-style\" href=\"mw-data:TemplateStyles:r935243608\"/></span>\n",
      "</li>\n",
      "<li id=\"cite_note-7\"><span class=\"mw-cite-backlink\"><b><a href=\"#cite_ref-7\">^</a></b></span> <span class=\"reference-text\"><cite class=\"citation web\"><a rel=\"nofollow\" class=\"external text\" href=\"https://www.vg247.com/2019/06/17/animal-crossing-new-horizons-autosave-resettis-job/\">\"Animal Crossing New Horizons has autosave, so Resetti's out of a job\"</a>. <i>VG247</i>. June 17, 2019<span class=\"reference-accessdate\">. Retrieved <span class=\"nowrap\">August 18,</span> 2019</span>.</cite><span title=\"ctx_ver=Z39.88-2004&amp;rft_val_fmt=info%3Aofi%2Ffmt%3Akev%3Amtx%3Ajournal&amp;rft.genre=unknown&amp;rft.jtitle=VG247&amp;rft.atitle=Animal+Crossing+New+Horizons+has+autosave%2C+so+Resetti%27s+out+of+a+job&amp;rft.date=2019-06-17&amp;rft_id=https%3A%2F%2Fwww.vg247.com%2F2019%2F06%2F17%2Fanimal-crossing-new-horizons-autosave-resettis-job%2F&amp;rfr_id=info%3Asid%2Fen.wikipedia.org%3AAnimal+Crossing\" class=\"Z3988\"></span><link rel=\"mw-deduplicated-inline-style\" href=\"mw-data:TemplateStyles:r935243608\"/></span>\n",
      "</li>\n",
      "<li id=\"cite_note-8\"><span class=\"mw-cite-backlink\"><b><a href=\"#cite_ref-8\">^</a></b></span> <span class=\"reference-text\"><cite class=\"citation web\">Life, Nintendo (May 8, 2013). <a rel=\"nofollow\" class=\"external text\" href=\"http://www.nintendolife.com/news/2013/05/profile_kazumi_totaka_the_man_behind_animal_crossings_kk_slider\">\"Profile: Kazumi Totaka - The Man Behind Animal Crossing's K.K. Slider\"</a>. <i>Nintendo Life</i><span class=\"reference-accessdate\">. Retrieved <span class=\"nowrap\">August 18,</span> 2019</span>.</cite><span title=\"ctx_ver=Z39.88-2004&amp;rft_val_fmt=info%3Aofi%2Ffmt%3Akev%3Amtx%3Ajournal&amp;rft.genre=unknown&amp;rft.jtitle=Nintendo+Life&amp;rft.atitle=Profile%3A+Kazumi+Totaka+-+The+Man+Behind+Animal+Crossing%27s+K.K.+Slider&amp;rft.date=2013-05-08&amp;rft.aulast=Life&amp;rft.aufirst=Nintendo&amp;rft_id=http%3A%2F%2Fwww.nintendolife.com%2Fnews%2F2013%2F05%2Fprofile_kazumi_totaka_the_man_behind_animal_crossings_kk_slider&amp;rfr_id=info%3Asid%2Fen.wikipedia.org%3AAnimal+Crossing\" class=\"Z3988\"></span><link rel=\"mw-deduplicated-inline-style\" href=\"mw-data:TemplateStyles:r935243608\"/></span>\n",
      "</li>\n",
      "<li id=\"cite_note-9\"><span class=\"mw-cite-backlink\"><b><a href=\"#cite_ref-9\">^</a></b></span> <span class=\"reference-text\"><cite class=\"citation news\">Jr, Tom Zeller (December 19, 2005). <a rel=\"nofollow\" class=\"external text\" href=\"https://www.nytimes.com/2005/12/19/technology/social-commentary-or-just-a-dogs-opinion.html\">\"Social Commentary, or Just a Dog's Opinion?\"</a>. <i>The New York Times</i>. <a href=\"/wiki/International_Standard_Serial_Number\" title=\"International Standard Serial Number\">ISSN</a>&#160;<a rel=\"nofollow\" class=\"external text\" href=\"//www.worldcat.org/issn/0362-4331\">0362-4331</a><span class=\"reference-accessdate\">. Retrieved <span class=\"nowrap\">August 18,</span> 2019</span>.</cite><span title=\"ctx_ver=Z39.88-2004&amp;rft_val_fmt=info%3Aofi%2Ffmt%3Akev%3Amtx%3Ajournal&amp;rft.genre=article&amp;rft.jtitle=The+New+York+Times&amp;rft.atitle=Social+Commentary%2C+or+Just+a+Dog%27s+Opinion%3F&amp;rft.date=2005-12-19&amp;rft.issn=0362-4331&amp;rft.aulast=Jr&amp;rft.aufirst=Tom+Zeller&amp;rft_id=https%3A%2F%2Fwww.nytimes.com%2F2005%2F12%2F19%2Ftechnology%2Fsocial-commentary-or-just-a-dogs-opinion.html&amp;rfr_id=info%3Asid%2Fen.wikipedia.org%3AAnimal+Crossing\" class=\"Z3988\"></span><link rel=\"mw-deduplicated-inline-style\" href=\"mw-data:TemplateStyles:r935243608\"/></span>\n",
      "</li>\n",
      "<li id=\"cite_note-IGN_GC_preview-10\"><span class=\"mw-cite-backlink\">^ <a href=\"#cite_ref-IGN_GC_preview_10-0\"><sup><i><b>a</b></i></sup></a> <a href=\"#cite_ref-IGN_GC_preview_10-1\"><sup><i><b>b</b></i></sup></a></span> <span class=\"reference-text\"><cite class=\"citation web\">Schneider, Peer (May 30, 2002). <a rel=\"nofollow\" class=\"external text\" href=\"http://www.ign.com/articles/2002/05/30/animal-crossing\">\"Animal Crossing Preview\"</a>. <a href=\"/wiki/IGN\" title=\"IGN\">IGN</a><span class=\"reference-accessdate\">. Retrieved <span class=\"nowrap\">February 13,</span> 2017</span>.</cite><span title=\"ctx_ver=Z39.88-2004&amp;rft_val_fmt=info%3Aofi%2Ffmt%3Akev%3Amtx%3Abook&amp;rft.genre=unknown&amp;rft.btitle=Animal+Crossing+Preview&amp;rft.pub=IGN&amp;rft.date=2002-05-30&amp;rft.aulast=Schneider&amp;rft.aufirst=Peer&amp;rft_id=http%3A%2F%2Fwww.ign.com%2Farticles%2F2002%2F05%2F30%2Fanimal-crossing&amp;rfr_id=info%3Asid%2Fen.wikipedia.org%3AAnimal+Crossing\" class=\"Z3988\"></span><link rel=\"mw-deduplicated-inline-style\" href=\"mw-data:TemplateStyles:r935243608\"/></span>\n",
      "</li>\n",
      "<li id=\"cite_note-IGN_GC_review-11\"><span class=\"mw-cite-backlink\">^ <a href=\"#cite_ref-IGN_GC_review_11-0\"><sup><i><b>a</b></i></sup></a> <a href=\"#cite_ref-IGN_GC_review_11-1\"><sup><i><b>b</b></i></sup></a> <a href=\"#cite_ref-IGN_GC_review_11-2\"><sup><i><b>c</b></i></sup></a> <a href=\"#cite_ref-IGN_GC_review_11-3\"><sup><i><b>d</b></i></sup></a></span> <span class=\"reference-text\"><cite class=\"citation web\">Schneider, Peer (September 5, 2002). <a rel=\"nofollow\" class=\"external text\" href=\"http://www.ign.com/articles/2002/09/05/animal-crossing-review\">\"Animal Crossing Review\"</a>. <a href=\"/wiki/IGN\" title=\"IGN\">IGN</a><span class=\"reference-accessdate\">. Retrieved <span class=\"nowrap\">February 13,</span> 2017</span>.</cite><span title=\"ctx_ver=Z39.88-2004&amp;rft_val_fmt=info%3Aofi%2Ffmt%3Akev%3Amtx%3Abook&amp;rft.genre=unknown&amp;rft.btitle=Animal+Crossing+Review&amp;rft.pub=IGN&amp;rft.date=2002-09-05&amp;rft.aulast=Schneider&amp;rft.aufirst=Peer&amp;rft_id=http%3A%2F%2Fwww.ign.com%2Farticles%2F2002%2F09%2F05%2Fanimal-crossing-review&amp;rfr_id=info%3Asid%2Fen.wikipedia.org%3AAnimal+Crossing\" class=\"Z3988\"></span><link rel=\"mw-deduplicated-inline-style\" href=\"mw-data:TemplateStyles:r935243608\"/></span>\n",
      "</li>\n",
      "<li id=\"cite_note-IGN_DS_review-12\"><span class=\"mw-cite-backlink\">^ <a href=\"#cite_ref-IGN_DS_review_12-0\"><sup><i><b>a</b></i></sup></a> <a href=\"#cite_ref-IGN_DS_review_12-1\"><sup><i><b>b</b></i></sup></a></span> <span class=\"reference-text\"><cite class=\"citation web\">Harris, Craig (December 5, 2005). <a rel=\"nofollow\" class=\"external text\" href=\"http://www.ign.com/articles/2005/12/06/animal-crossing-wild-world\">\"Animal Crossing: Wild World Review\"</a>. <a href=\"/wiki/IGN\" title=\"IGN\">IGN</a><span class=\"reference-accessdate\">. Retrieved <span class=\"nowrap\">February 13,</span> 2017</span>.</cite><span title=\"ctx_ver=Z39.88-2004&amp;rft_val_fmt=info%3Aofi%2Ffmt%3Akev%3Amtx%3Abook&amp;rft.genre=unknown&amp;rft.btitle=Animal+Crossing%3A+Wild+World+Review&amp;rft.pub=IGN&amp;rft.date=2005-12-05&amp;rft.aulast=Harris&amp;rft.aufirst=Craig&amp;rft_id=http%3A%2F%2Fwww.ign.com%2Farticles%2F2005%2F12%2F06%2Fanimal-crossing-wild-world&amp;rfr_id=info%3Asid%2Fen.wikipedia.org%3AAnimal+Crossing\" class=\"Z3988\"></span><link rel=\"mw-deduplicated-inline-style\" href=\"mw-data:TemplateStyles:r935243608\"/></span>\n",
      "</li>\n",
      "<li id=\"cite_note-IGN_Wii_review-13\"><span class=\"mw-cite-backlink\">^ <a href=\"#cite_ref-IGN_Wii_review_13-0\"><sup><i><b>a</b></i></sup></a> <a href=\"#cite_ref-IGN_Wii_review_13-1\"><sup><i><b>b</b></i></sup></a></span> <span class=\"reference-text\"><cite class=\"citation web\">Harris, Craig (November 16, 2008). <a rel=\"nofollow\" class=\"external text\" href=\"http://www.ign.com/articles/2008/11/17/animal-crossing-city-folk-review\">\"Animal Crossing: City Folk Review\"</a>. <a href=\"/wiki/IGN\" title=\"IGN\">IGN</a><span class=\"reference-accessdate\">. Retrieved <span class=\"nowrap\">February 13,</span> 2017</span>.</cite><span title=\"ctx_ver=Z39.88-2004&amp;rft_val_fmt=info%3Aofi%2Ffmt%3Akev%3Amtx%3Abook&amp;rft.genre=unknown&amp;rft.btitle=Animal+Crossing%3A+City+Folk+Review&amp;rft.pub=IGN&amp;rft.date=2008-11-16&amp;rft.aulast=Harris&amp;rft.aufirst=Craig&amp;rft_id=http%3A%2F%2Fwww.ign.com%2Farticles%2F2008%2F11%2F17%2Fanimal-crossing-city-folk-review&amp;rfr_id=info%3Asid%2Fen.wikipedia.org%3AAnimal+Crossing\" class=\"Z3988\"></span><link rel=\"mw-deduplicated-inline-style\" href=\"mw-data:TemplateStyles:r935243608\"/></span>\n",
      "</li>\n",
      "<li id=\"cite_note-15\"><span class=\"mw-cite-backlink\"><b><a href=\"#cite_ref-15\">^</a></b></span> <span class=\"reference-text\"><cite class=\"citation web\">Harris, Craig. <a rel=\"nofollow\" class=\"external text\" href=\"http://www.ign.com/articles/2008/11/13/the-evolution-of-animal-crossing-2?page=2\">\"The Evolution of Animal Crossing (page 2)\"</a>. IGN<span class=\"reference-accessdate\">. Retrieved <span class=\"nowrap\">February 13,</span> 2017</span>.</cite><span title=\"ctx_ver=Z39.88-2004&amp;rft_val_fmt=info%3Aofi%2Ffmt%3Akev%3Amtx%3Abook&amp;rft.genre=unknown&amp;rft.btitle=The+Evolution+of+Animal+Crossing+%28page+2%29&amp;rft.pub=IGN&amp;rft.aulast=Harris&amp;rft.aufirst=Craig&amp;rft_id=http%3A%2F%2Fwww.ign.com%2Farticles%2F2008%2F11%2F13%2Fthe-evolution-of-animal-crossing-2%3Fpage%3D2&amp;rfr_id=info%3Asid%2Fen.wikipedia.org%3AAnimal+Crossing\" class=\"Z3988\"></span><link rel=\"mw-deduplicated-inline-style\" href=\"mw-data:TemplateStyles:r935243608\"/></span>\n",
      "</li>\n",
      "<li id=\"cite_note-16\"><span class=\"mw-cite-backlink\"><b><a href=\"#cite_ref-16\">^</a></b></span> <span class=\"reference-text\"><cite class=\"citation web\"><a rel=\"nofollow\" class=\"external text\" href=\"http://www.ign.com/games/action-replay-ultimate-codes-animal-crossing/gcn-16562\">\"Animal Crossing Review\"</a>. IGN<span class=\"reference-accessdate\">. Retrieved <span class=\"nowrap\">February 13,</span> 2017</span>.</cite><span title=\"ctx_ver=Z39.88-2004&amp;rft_val_fmt=info%3Aofi%2Ffmt%3Akev%3Amtx%3Abook&amp;rft.genre=unknown&amp;rft.btitle=Animal+Crossing+Review&amp;rft.pub=IGN&amp;rft_id=http%3A%2F%2Fwww.ign.com%2Fgames%2Faction-replay-ultimate-codes-animal-crossing%2Fgcn-16562&amp;rfr_id=info%3Asid%2Fen.wikipedia.org%3AAnimal+Crossing\" class=\"Z3988\"></span><link rel=\"mw-deduplicated-inline-style\" href=\"mw-data:TemplateStyles:r935243608\"/></span>\n",
      "</li>\n",
      "<li id=\"cite_note-17\"><span class=\"mw-cite-backlink\"><b><a href=\"#cite_ref-17\">^</a></b></span> <span class=\"reference-text\"><cite class=\"citation web\"><a rel=\"nofollow\" class=\"external text\" href=\"http://www.ign.com/games/doubutsu-no-mori/gcn-552545\">\"Doubutsu no Mori e+\"</a>. IGN<span class=\"reference-accessdate\">. Retrieved <span class=\"nowrap\">February 13,</span> 2017</span>.</cite><span title=\"ctx_ver=Z39.88-2004&amp;rft_val_fmt=info%3Aofi%2Ffmt%3Akev%3Amtx%3Abook&amp;rft.genre=unknown&amp;rft.btitle=Doubutsu+no+Mori+e%2B&amp;rft.pub=IGN&amp;rft_id=http%3A%2F%2Fwww.ign.com%2Fgames%2Fdoubutsu-no-mori%2Fgcn-552545&amp;rfr_id=info%3Asid%2Fen.wikipedia.org%3AAnimal+Crossing\" class=\"Z3988\"></span><link rel=\"mw-deduplicated-inline-style\" href=\"mw-data:TemplateStyles:r935243608\"/></span>\n",
      "</li>\n",
      "<li id=\"cite_note-18\"><span class=\"mw-cite-backlink\"><b><a href=\"#cite_ref-18\">^</a></b></span> <span class=\"reference-text\"><cite class=\"citation web\"><a rel=\"nofollow\" class=\"external text\" href=\"http://www.ique.com/games/21041.htm\">\"Animal Forest\"</a> (in Chinese). iQue Ltd<span class=\"reference-accessdate\">. Retrieved <span class=\"nowrap\">February 13,</span> 2017</span>.</cite><span title=\"ctx_ver=Z39.88-2004&amp;rft_val_fmt=info%3Aofi%2Ffmt%3Akev%3Amtx%3Abook&amp;rft.genre=unknown&amp;rft.btitle=Animal+Forest&amp;rft.pub=iQue+Ltd.&amp;rft_id=http%3A%2F%2Fwww.ique.com%2Fgames%2F21041.htm&amp;rfr_id=info%3Asid%2Fen.wikipedia.org%3AAnimal+Crossing\" class=\"Z3988\"></span><link rel=\"mw-deduplicated-inline-style\" href=\"mw-data:TemplateStyles:r935243608\"/></span>\n",
      "</li>\n",
      "<li id=\"cite_note-20\"><span class=\"mw-cite-backlink\"><b><a href=\"#cite_ref-20\">^</a></b></span> <span class=\"reference-text\"><cite class=\"citation web\"><a rel=\"nofollow\" class=\"external text\" href=\"http://www.ign.com/games/animal-crossing-wild-world/nds-682878\">\"Animal Crossing: Wild World Review\"</a>. IGN<span class=\"reference-accessdate\">. Retrieved <span class=\"nowrap\">February 13,</span> 2017</span>.</cite><span title=\"ctx_ver=Z39.88-2004&amp;rft_val_fmt=info%3Aofi%2Ffmt%3Akev%3Amtx%3Abook&amp;rft.genre=unknown&amp;rft.btitle=Animal+Crossing%3A+Wild+World+Review&amp;rft.pub=IGN&amp;rft_id=http%3A%2F%2Fwww.ign.com%2Fgames%2Fanimal-crossing-wild-world%2Fnds-682878&amp;rfr_id=info%3Asid%2Fen.wikipedia.org%3AAnimal+Crossing\" class=\"Z3988\"></span><link rel=\"mw-deduplicated-inline-style\" href=\"mw-data:TemplateStyles:r935243608\"/></span>\n",
      "</li>\n",
      "<li id=\"cite_note-22\"><span class=\"mw-cite-backlink\"><b><a href=\"#cite_ref-22\">^</a></b></span> <span class=\"reference-text\"><cite class=\"citation web\"><a rel=\"nofollow\" class=\"external text\" href=\"http://www.ign.com/games/animal-crossing-city-folk/wii-748892\">\"Animal Crossing: City Folk Review\"</a>. IGN<span class=\"reference-accessdate\">. Retrieved <span class=\"nowrap\">February 13,</span> 2017</span>.</cite><span title=\"ctx_ver=Z39.88-2004&amp;rft_val_fmt=info%3Aofi%2Ffmt%3Akev%3Amtx%3Abook&amp;rft.genre=unknown&amp;rft.btitle=Animal+Crossing%3A+City+Folk+Review&amp;rft.pub=IGN&amp;rft_id=http%3A%2F%2Fwww.ign.com%2Fgames%2Fanimal-crossing-city-folk%2Fwii-748892&amp;rfr_id=info%3Asid%2Fen.wikipedia.org%3AAnimal+Crossing\" class=\"Z3988\"></span><link rel=\"mw-deduplicated-inline-style\" href=\"mw-data:TemplateStyles:r935243608\"/></span>\n",
      "</li>\n",
      "<li id=\"cite_note-23\"><span class=\"mw-cite-backlink\"><b><a href=\"#cite_ref-23\">^</a></b></span> <span class=\"reference-text\"><cite class=\"citation web\"><a rel=\"nofollow\" class=\"external text\" href=\"http://www.nintendo.co.kr/Wii/software/animal_crossing/main.php\">\"타운으로 놀러가요 동물의 숲\"</a> (in Korean). Nintendo<span class=\"reference-accessdate\">. Retrieved <span class=\"nowrap\">February 13,</span> 2017</span>.</cite><span title=\"ctx_ver=Z39.88-2004&amp;rft_val_fmt=info%3Aofi%2Ffmt%3Akev%3Amtx%3Abook&amp;rft.genre=unknown&amp;rft.btitle=%ED%83%80%EC%9A%B4%EC%9C%BC%EB%A1%9C+%EB%86%80%EB%9F%AC%EA%B0%80%EC%9A%94+%EB%8F%99%EB%AC%BC%EC%9D%98+%EC%88%B2&amp;rft.pub=Nintendo&amp;rft_id=http%3A%2F%2Fwww.nintendo.co.kr%2FWii%2Fsoftware%2Fanimal_crossing%2Fmain.php&amp;rfr_id=info%3Asid%2Fen.wikipedia.org%3AAnimal+Crossing\" class=\"Z3988\"></span><link rel=\"mw-deduplicated-inline-style\" href=\"mw-data:TemplateStyles:r935243608\"/></span>\n",
      "</li>\n",
      "<li id=\"cite_note-25\"><span class=\"mw-cite-backlink\"><b><a href=\"#cite_ref-25\">^</a></b></span> <span class=\"reference-text\"><cite class=\"citation web\">Thomas, Lucas M. <a rel=\"nofollow\" class=\"external text\" href=\"http://www.ign.com/articles/2010/06/15/e3-2010-animal-crossing-3ds-announced\">\"E3 2010: Animal Crossing 3DS Announced\"</a>. IGN<span class=\"reference-accessdate\">. Retrieved <span class=\"nowrap\">February 13,</span> 2017</span>.</cite><span title=\"ctx_ver=Z39.88-2004&amp;rft_val_fmt=info%3Aofi%2Ffmt%3Akev%3Amtx%3Abook&amp;rft.genre=unknown&amp;rft.btitle=E3+2010%3A+Animal+Crossing+3DS+Announced&amp;rft.pub=IGN&amp;rft.aulast=Thomas&amp;rft.aufirst=Lucas+M.&amp;rft_id=http%3A%2F%2Fwww.ign.com%2Farticles%2F2010%2F06%2F15%2Fe3-2010-animal-crossing-3ds-announced&amp;rfr_id=info%3Asid%2Fen.wikipedia.org%3AAnimal+Crossing\" class=\"Z3988\"></span><link rel=\"mw-deduplicated-inline-style\" href=\"mw-data:TemplateStyles:r935243608\"/></span>\n",
      "</li>\n",
      "<li id=\"cite_note-26\"><span class=\"mw-cite-backlink\"><b><a href=\"#cite_ref-26\">^</a></b></span> <span class=\"reference-text\"><cite class=\"citation web\"><a rel=\"nofollow\" class=\"external text\" href=\"http://www.ign.com/games/animal-crossing-3ds/3ds-77803\">\"Animal Crossing: New Leaf\"</a>. IGN<span class=\"reference-accessdate\">. Retrieved <span class=\"nowrap\">February 13,</span> 2017</span>.</cite><span title=\"ctx_ver=Z39.88-2004&amp;rft_val_fmt=info%3Aofi%2Ffmt%3Akev%3Amtx%3Abook&amp;rft.genre=unknown&amp;rft.btitle=Animal+Crossing%3A+New+Leaf&amp;rft.pub=IGN&amp;rft_id=http%3A%2F%2Fwww.ign.com%2Fgames%2Fanimal-crossing-3ds%2F3ds-77803&amp;rfr_id=info%3Asid%2Fen.wikipedia.org%3AAnimal+Crossing\" class=\"Z3988\"></span><link rel=\"mw-deduplicated-inline-style\" href=\"mw-data:TemplateStyles:r935243608\"/></span>\n",
      "</li>\n",
      "<li id=\"cite_note-27\"><span class=\"mw-cite-backlink\"><b><a href=\"#cite_ref-27\">^</a></b></span> <span class=\"reference-text\"><cite class=\"citation web\">Drake, Audrey. <a rel=\"nofollow\" class=\"external text\" href=\"http://www.ign.com/articles/2012/10/25/animal-crossing-3ds-has-a-new-name\">\"Animal Crossing 3DS Has a New Name\"</a>. IGN<span class=\"reference-accessdate\">. Retrieved <span class=\"nowrap\">February 13,</span> 2017</span>.</cite><span title=\"ctx_ver=Z39.88-2004&amp;rft_val_fmt=info%3Aofi%2Ffmt%3Akev%3Amtx%3Abook&amp;rft.genre=unknown&amp;rft.btitle=Animal+Crossing+3DS+Has+a+New+Name&amp;rft.pub=IGN&amp;rft.aulast=Drake&amp;rft.aufirst=Audrey&amp;rft_id=http%3A%2F%2Fwww.ign.com%2Farticles%2F2012%2F10%2F25%2Fanimal-crossing-3ds-has-a-new-name&amp;rfr_id=info%3Asid%2Fen.wikipedia.org%3AAnimal+Crossing\" class=\"Z3988\"></span><link rel=\"mw-deduplicated-inline-style\" href=\"mw-data:TemplateStyles:r935243608\"/></span>\n",
      "</li>\n",
      "<li id=\"cite_note-28\"><span class=\"mw-cite-backlink\"><b><a href=\"#cite_ref-28\">^</a></b></span> <span class=\"reference-text\"><cite class=\"citation web\"><a rel=\"nofollow\" class=\"external text\" href=\"http://www.mojenintendo.cz/animal-crossing-new-leaf-welcome-amiibocard/\">\"Welcome Amiibo\"</a>. <i>mojenintendo.cz</i><span class=\"reference-accessdate\">. Retrieved <span class=\"nowrap\">February 13,</span> 2017</span>.</cite><span title=\"ctx_ver=Z39.88-2004&amp;rft_val_fmt=info%3Aofi%2Ffmt%3Akev%3Amtx%3Ajournal&amp;rft.genre=unknown&amp;rft.jtitle=mojenintendo.cz&amp;rft.atitle=Welcome+Amiibo&amp;rft_id=http%3A%2F%2Fwww.mojenintendo.cz%2Fanimal-crossing-new-leaf-welcome-amiibocard%2F&amp;rfr_id=info%3Asid%2Fen.wikipedia.org%3AAnimal+Crossing\" class=\"Z3988\"></span><link rel=\"mw-deduplicated-inline-style\" href=\"mw-data:TemplateStyles:r935243608\"/></span>\n",
      "</li>\n",
      "<li id=\"cite_note-30\"><span class=\"mw-cite-backlink\"><b><a href=\"#cite_ref-30\">^</a></b></span> <span class=\"reference-text\"><cite class=\"citation web\">Plante, Chris. <a rel=\"nofollow\" class=\"external text\" href=\"https://www.polygon.com/e3/2019/6/11/18661310/nintendo-direct-e3-2019-animal-crossing-new-horizons-trailer-release-date\">\"Animal Crossing: New Horizons looks magical, but is delayed to March 2020\"</a>. <i>Polygon</i><span class=\"reference-accessdate\">. Retrieved <span class=\"nowrap\">June 11,</span> 2019</span>.</cite><span title=\"ctx_ver=Z39.88-2004&amp;rft_val_fmt=info%3Aofi%2Ffmt%3Akev%3Amtx%3Ajournal&amp;rft.genre=unknown&amp;rft.jtitle=Polygon&amp;rft.atitle=Animal+Crossing%3A+New+Horizons+looks+magical%2C+but+is+delayed+to+March+2020&amp;rft.aulast=Plante&amp;rft.aufirst=Chris&amp;rft_id=https%3A%2F%2Fwww.polygon.com%2Fe3%2F2019%2F6%2F11%2F18661310%2Fnintendo-direct-e3-2019-animal-crossing-new-horizons-trailer-release-date&amp;rfr_id=info%3Asid%2Fen.wikipedia.org%3AAnimal+Crossing\" class=\"Z3988\"></span><link rel=\"mw-deduplicated-inline-style\" href=\"mw-data:TemplateStyles:r935243608\"/></span>\n",
      "</li>\n",
      "<li id=\"cite_note-31\"><span class=\"mw-cite-backlink\"><b><a href=\"#cite_ref-31\">^</a></b></span> <span class=\"reference-text\"><cite class=\"citation web\">Romano, Sal. <a rel=\"nofollow\" class=\"external text\" href=\"http://gematsu.com/2015/05/animal-crossing-happy-home-designer-japanese-release-date-set\">\"Animal Crossing: Happy Home Designer Japanese release date set\"</a>. Gematsu<span class=\"reference-accessdate\">. Retrieved <span class=\"nowrap\">February 13,</span> 2017</span>.</cite><span title=\"ctx_ver=Z39.88-2004&amp;rft_val_fmt=info%3Aofi%2Ffmt%3Akev%3Amtx%3Abook&amp;rft.genre=unknown&amp;rft.btitle=Animal+Crossing%3A+Happy+Home+Designer+Japanese+release+date+set&amp;rft.pub=Gematsu&amp;rft.aulast=Romano&amp;rft.aufirst=Sal&amp;rft_id=http%3A%2F%2Fgematsu.com%2F2015%2F05%2Fanimal-crossing-happy-home-designer-japanese-release-date-set&amp;rfr_id=info%3Asid%2Fen.wikipedia.org%3AAnimal+Crossing\" class=\"Z3988\"></span><link rel=\"mw-deduplicated-inline-style\" href=\"mw-data:TemplateStyles:r935243608\"/></span>\n",
      "</li>\n",
      "<li id=\"cite_note-meta-hhd-32\"><span class=\"mw-cite-backlink\">^ <a href=\"#cite_ref-meta-hhd_32-0\"><sup><i><b>a</b></i></sup></a> <a href=\"#cite_ref-meta-hhd_32-1\"><sup><i><b>b</b></i></sup></a></span> <span class=\"reference-text\"><cite class=\"citation web\"><a rel=\"nofollow\" class=\"external text\" href=\"http://www.metacritic.com/game/3ds/animal-crossing-happy-home-designer\">\"Animal Crossing: Happy Home Designer\"</a>. Metacritic<span class=\"reference-accessdate\">. Retrieved <span class=\"nowrap\">February 13,</span> 2017</span>.</cite><span title=\"ctx_ver=Z39.88-2004&amp;rft_val_fmt=info%3Aofi%2Ffmt%3Akev%3Amtx%3Abook&amp;rft.genre=unknown&amp;rft.btitle=Animal+Crossing%3A+Happy+Home+Designer&amp;rft.pub=Metacritic&amp;rft_id=http%3A%2F%2Fwww.metacritic.com%2Fgame%2F3ds%2Fanimal-crossing-happy-home-designer&amp;rfr_id=info%3Asid%2Fen.wikipedia.org%3AAnimal+Crossing\" class=\"Z3988\"></span><link rel=\"mw-deduplicated-inline-style\" href=\"mw-data:TemplateStyles:r935243608\"/></span>\n",
      "</li>\n",
      "<li id=\"cite_note-nwd-hhd-33\"><span class=\"mw-cite-backlink\">^ <a href=\"#cite_ref-nwd-hhd_33-0\"><sup><i><b>a</b></i></sup></a> <a href=\"#cite_ref-nwd-hhd_33-1\"><sup><i><b>b</b></i></sup></a></span> <span class=\"reference-text\"><cite class=\"citation web\">Abou-Nasr, Adam. <a rel=\"nofollow\" class=\"external text\" href=\"http://www.nintendoworldreport.com/news/40828/animal-crossing-happy-home-designer-bundles-announced-for-uk-and-australia\">\"Animal Crossing: Happy Home Designer Bundles Announced for UK and Australia\"</a>. Nintendo World Report<span class=\"reference-accessdate\">. Retrieved <span class=\"nowrap\">February 13,</span> 2017</span>.</cite><span title=\"ctx_ver=Z39.88-2004&amp;rft_val_fmt=info%3Aofi%2Ffmt%3Akev%3Amtx%3Abook&amp;rft.genre=unknown&amp;rft.btitle=Animal+Crossing%3A+Happy+Home+Designer+Bundles+Announced+for+UK+and+Australia&amp;rft.pub=Nintendo+World+Report&amp;rft.aulast=Abou-Nasr&amp;rft.aufirst=Adam&amp;rft_id=http%3A%2F%2Fwww.nintendoworldreport.com%2Fnews%2F40828%2Fanimal-crossing-happy-home-designer-bundles-announced-for-uk-and-australia&amp;rfr_id=info%3Asid%2Fen.wikipedia.org%3AAnimal+Crossing\" class=\"Z3988\"></span><link rel=\"mw-deduplicated-inline-style\" href=\"mw-data:TemplateStyles:r935243608\"/></span>\n",
      "</li>\n",
      "<li id=\"cite_note-34\"><span class=\"mw-cite-backlink\"><b><a href=\"#cite_ref-34\">^</a></b></span> <span class=\"reference-text\"><cite class=\"citation web\">Vogel, Mitch. <a rel=\"nofollow\" class=\"external text\" href=\"http://www.nintendolife.com/news/2015/06/animal_crossing_director_talks_more_about_happy_home_designer_and_amiibo\">\"Animal Crossing Director Talks More About Happy Home Designer and amiibo\"</a>. Nintendo Life<span class=\"reference-accessdate\">. Retrieved <span class=\"nowrap\">February 13,</span> 2017</span>.</cite><span title=\"ctx_ver=Z39.88-2004&amp;rft_val_fmt=info%3Aofi%2Ffmt%3Akev%3Amtx%3Abook&amp;rft.genre=unknown&amp;rft.btitle=Animal+Crossing+Director+Talks+More+About+Happy+Home+Designer+and+amiibo&amp;rft.pub=Nintendo+Life&amp;rft.aulast=Vogel&amp;rft.aufirst=Mitch&amp;rft_id=http%3A%2F%2Fwww.nintendolife.com%2Fnews%2F2015%2F06%2Fanimal_crossing_director_talks_more_about_happy_home_designer_and_amiibo&amp;rfr_id=info%3Asid%2Fen.wikipedia.org%3AAnimal+Crossing\" class=\"Z3988\"></span><link rel=\"mw-deduplicated-inline-style\" href=\"mw-data:TemplateStyles:r935243608\"/></span>\n",
      "</li>\n",
      "<li id=\"cite_note-meta-af-35\"><span class=\"mw-cite-backlink\">^ <a href=\"#cite_ref-meta-af_35-0\"><sup><i><b>a</b></i></sup></a> <a href=\"#cite_ref-meta-af_35-1\"><sup><i><b>b</b></i></sup></a></span> <span class=\"reference-text\"><cite class=\"citation web\"><a rel=\"nofollow\" class=\"external text\" href=\"http://www.metacritic.com/game/wii-u/animal-crossing-amiibo-festival/critic-reviews\">\"Animal Crossing: amiibo Festival\"</a>. Metacritic<span class=\"reference-accessdate\">. Retrieved <span class=\"nowrap\">February 13,</span> 2017</span>.</cite><span title=\"ctx_ver=Z39.88-2004&amp;rft_val_fmt=info%3Aofi%2Ffmt%3Akev%3Amtx%3Abook&amp;rft.genre=unknown&amp;rft.btitle=Animal+Crossing%3A+amiibo+Festival&amp;rft.pub=Metacritic&amp;rft_id=http%3A%2F%2Fwww.metacritic.com%2Fgame%2Fwii-u%2Fanimal-crossing-amiibo-festival%2Fcritic-reviews&amp;rfr_id=info%3Asid%2Fen.wikipedia.org%3AAnimal+Crossing\" class=\"Z3988\"></span><link rel=\"mw-deduplicated-inline-style\" href=\"mw-data:TemplateStyles:r935243608\"/></span>\n",
      "</li>\n",
      "<li id=\"cite_note-36\"><span class=\"mw-cite-backlink\"><b><a href=\"#cite_ref-36\">^</a></b></span> <span class=\"reference-text\"><cite class=\"citation web\">Seedhouse, Alex. <a rel=\"nofollow\" class=\"external text\" href=\"http://www.nintendo-insider.com/2016/04/next-nintendo-apps-will-use-fire-emblem-animal-crossing-franchises/\">\"Next Nintendo Apps Will Use Fire Emblem &amp; Animal Crossing Franchises\"</a>. <i>Nintendo Insider</i><span class=\"reference-accessdate\">. Retrieved <span class=\"nowrap\">February 13,</span> 2017</span>.</cite><span title=\"ctx_ver=Z39.88-2004&amp;rft_val_fmt=info%3Aofi%2Ffmt%3Akev%3Amtx%3Ajournal&amp;rft.genre=unknown&amp;rft.jtitle=Nintendo+Insider&amp;rft.atitle=Next+Nintendo+Apps+Will+Use+Fire+Emblem+%26+Animal+Crossing+Franchises&amp;rft.aulast=Seedhouse&amp;rft.aufirst=Alex&amp;rft_id=http%3A%2F%2Fwww.nintendo-insider.com%2F2016%2F04%2Fnext-nintendo-apps-will-use-fire-emblem-animal-crossing-franchises%2F&amp;rfr_id=info%3Asid%2Fen.wikipedia.org%3AAnimal+Crossing\" class=\"Z3988\"></span><link rel=\"mw-deduplicated-inline-style\" href=\"mw-data:TemplateStyles:r935243608\"/></span>\n",
      "</li>\n",
      "<li id=\"cite_note-37\"><span class=\"mw-cite-backlink\"><b><a href=\"#cite_ref-37\">^</a></b></span> <span class=\"reference-text\"><cite class=\"citation web\"><a rel=\"nofollow\" class=\"external text\" href=\"http://nintendoeverything.com/photos-with-animal-crossing-nintendo-uk-summer-tour-2015-video/#disqus_thread\">\"Photos with Animal Crossing - Nintendo UK Summer Tour 2015 video\"</a>. <i>Nintendo Everything</i><span class=\"reference-accessdate\">. Retrieved <span class=\"nowrap\">February 13,</span> 2017</span>.</cite><span title=\"ctx_ver=Z39.88-2004&amp;rft_val_fmt=info%3Aofi%2Ffmt%3Akev%3Amtx%3Ajournal&amp;rft.genre=unknown&amp;rft.jtitle=Nintendo+Everything&amp;rft.atitle=Photos+with+Animal+Crossing+-+Nintendo+UK+Summer+Tour+2015+video&amp;rft_id=http%3A%2F%2Fnintendoeverything.com%2Fphotos-with-animal-crossing-nintendo-uk-summer-tour-2015-video%2F%23disqus_thread&amp;rfr_id=info%3Asid%2Fen.wikipedia.org%3AAnimal+Crossing\" class=\"Z3988\"></span><link rel=\"mw-deduplicated-inline-style\" href=\"mw-data:TemplateStyles:r935243608\"/></span>\n",
      "</li>\n",
      "<li id=\"cite_note-GC_NA_sales-38\"><span class=\"mw-cite-backlink\">^ <a href=\"#cite_ref-GC_NA_sales_38-0\"><sup><i><b>a</b></i></sup></a> <a href=\"#cite_ref-GC_NA_sales_38-1\"><sup><i><b>b</b></i></sup></a></span> <span class=\"reference-text\"><cite class=\"citation web\"><a rel=\"nofollow\" class=\"external text\" href=\"http://www.the-magicbox.com/Chart-USPlatinum.shtml\">\"US Platinum Videogame Chart\"</a>. The Magic Box. December 27, 2007<span class=\"reference-accessdate\">. Retrieved <span class=\"nowrap\">February 13,</span> 2017</span>.</cite><span title=\"ctx_ver=Z39.88-2004&amp;rft_val_fmt=info%3Aofi%2Ffmt%3Akev%3Amtx%3Abook&amp;rft.genre=unknown&amp;rft.btitle=US+Platinum+Videogame+Chart&amp;rft.pub=The+Magic+Box&amp;rft.date=2007-12-27&amp;rft_id=http%3A%2F%2Fwww.the-magicbox.com%2FChart-USPlatinum.shtml&amp;rfr_id=info%3Asid%2Fen.wikipedia.org%3AAnimal+Crossing\" class=\"Z3988\"></span><link rel=\"mw-deduplicated-inline-style\" href=\"mw-data:TemplateStyles:r935243608\"/></span>\n",
      "</li>\n",
      "<li id=\"cite_note-GC_JP_sales-39\"><span class=\"mw-cite-backlink\">^ <a href=\"#cite_ref-GC_JP_sales_39-0\"><sup><i><b>a</b></i></sup></a> <a href=\"#cite_ref-GC_JP_sales_39-1\"><sup><i><b>b</b></i></sup></a></span> <span class=\"reference-text\"><cite class=\"citation web\"><a rel=\"nofollow\" class=\"external text\" href=\"https://web.archive.org/web/20070723025415/http://www.japan-gamecharts.com/gc.php\">\"Nintendo Gamecube Japanese Ranking\"</a>. Japan Game Charts. May 6, 2007. Archived from <a rel=\"nofollow\" class=\"external text\" href=\"http://www.japan-gamecharts.com/gc.php\">the original</a> on July 23, 2007<span class=\"reference-accessdate\">. Retrieved <span class=\"nowrap\">February 13,</span> 2017</span>.</cite><span title=\"ctx_ver=Z39.88-2004&amp;rft_val_fmt=info%3Aofi%2Ffmt%3Akev%3Amtx%3Abook&amp;rft.genre=unknown&amp;rft.btitle=Nintendo+Gamecube+Japanese+Ranking&amp;rft.pub=Japan+Game+Charts&amp;rft.date=2007-05-06&amp;rft_id=http%3A%2F%2Fwww.japan-gamecharts.com%2Fgc.php&amp;rfr_id=info%3Asid%2Fen.wikipedia.org%3AAnimal+Crossing\" class=\"Z3988\"></span><link rel=\"mw-deduplicated-inline-style\" href=\"mw-data:TemplateStyles:r935243608\"/></span>\n",
      "</li>\n",
      "<li id=\"cite_note-40\"><span class=\"mw-cite-backlink\"><b><a href=\"#cite_ref-40\">^</a></b></span> <span class=\"reference-text\"><cite class=\"citation web\"><a rel=\"nofollow\" class=\"external text\" href=\"http://www.metacritic.com/game/gamecube/animal-crossing\">\"<i>Animal Crossing</i> (GCN) at Metacritic\"</a>. Metacritic.com<span class=\"reference-accessdate\">. Retrieved <span class=\"nowrap\">February 13,</span> 2017</span>.</cite><span title=\"ctx_ver=Z39.88-2004&amp;rft_val_fmt=info%3Aofi%2Ffmt%3Akev%3Amtx%3Abook&amp;rft.genre=unknown&amp;rft.btitle=Animal+Crossing+%28GCN%29+at+Metacritic&amp;rft.pub=Metacritic.com&amp;rft_id=http%3A%2F%2Fwww.metacritic.com%2Fgame%2Fgamecube%2Fanimal-crossing&amp;rfr_id=info%3Asid%2Fen.wikipedia.org%3AAnimal+Crossing\" class=\"Z3988\"></span><link rel=\"mw-deduplicated-inline-style\" href=\"mw-data:TemplateStyles:r935243608\"/></span>\n",
      "</li>\n",
      "<li id=\"cite_note-DS_sales-41\"><span class=\"mw-cite-backlink\">^ <a href=\"#cite_ref-DS_sales_41-0\"><sup><i><b>a</b></i></sup></a> <a href=\"#cite_ref-DS_sales_41-1\"><sup><i><b>b</b></i></sup></a></span> <span class=\"reference-text\"><cite class=\"citation web\"><a rel=\"nofollow\" class=\"external text\" href=\"https://www.nintendo.co.jp/ir/en/sales/software/ds.html\">\"Financial  Results Briefing for Fiscal Year Ended March 2014\"</a> <span class=\"cs1-format\">(PDF)</span>. <a href=\"/wiki/Nintendo\" title=\"Nintendo\">Nintendo</a>. December 6, 2014. p.&#160;6<span class=\"reference-accessdate\">. Retrieved <span class=\"nowrap\">February 13,</span> 2017</span>.</cite><span title=\"ctx_ver=Z39.88-2004&amp;rft_val_fmt=info%3Aofi%2Ffmt%3Akev%3Amtx%3Abook&amp;rft.genre=unknown&amp;rft.btitle=Financial++Results+Briefing+for+Fiscal+Year+Ended+March+2014&amp;rft.pages=6&amp;rft.pub=Nintendo&amp;rft.date=2014-12-06&amp;rft_id=https%3A%2F%2Fwww.nintendo.co.jp%2Fir%2Fen%2Fsales%2Fsoftware%2Fds.html&amp;rfr_id=info%3Asid%2Fen.wikipedia.org%3AAnimal+Crossing\" class=\"Z3988\"></span><link rel=\"mw-deduplicated-inline-style\" href=\"mw-data:TemplateStyles:r935243608\"/></span>\n",
      "</li>\n",
      "<li id=\"cite_note-42\"><span class=\"mw-cite-backlink\"><b><a href=\"#cite_ref-42\">^</a></b></span> <span class=\"reference-text\"><cite class=\"citation web\"><a rel=\"nofollow\" class=\"external text\" href=\"http://www.metacritic.com/game/ds/animal-crossing-wild-world\">\"Animal Crossing: Wild World\"</a>. <a href=\"/wiki/Metacritic\" title=\"Metacritic\">Metacritic</a><span class=\"reference-accessdate\">. Retrieved <span class=\"nowrap\">February 13,</span> 2017</span>.</cite><span title=\"ctx_ver=Z39.88-2004&amp;rft_val_fmt=info%3Aofi%2Ffmt%3Akev%3Amtx%3Abook&amp;rft.genre=unknown&amp;rft.btitle=Animal+Crossing%3A+Wild+World&amp;rft.pub=Metacritic&amp;rft_id=http%3A%2F%2Fwww.metacritic.com%2Fgame%2Fds%2Fanimal-crossing-wild-world&amp;rfr_id=info%3Asid%2Fen.wikipedia.org%3AAnimal+Crossing\" class=\"Z3988\"></span><link rel=\"mw-deduplicated-inline-style\" href=\"mw-data:TemplateStyles:r935243608\"/></span>\n",
      "</li>\n",
      "<li id=\"cite_note-Wii_sales-43\"><span class=\"mw-cite-backlink\">^ <a href=\"#cite_ref-Wii_sales_43-0\"><sup><i><b>a</b></i></sup></a> <a href=\"#cite_ref-Wii_sales_43-1\"><sup><i><b>b</b></i></sup></a></span> <span class=\"reference-text\"><cite class=\"citation web\"><a rel=\"nofollow\" class=\"external text\" href=\"https://www.nintendo.co.jp/ir/pdf/2009/090508e.pdf#page=6\">\"Financial Results Briefing for the Fiscal Year Ended March 2009: Supplementary Information\"</a> <span class=\"cs1-format\">(PDF)</span>. <i>Financial Results Briefing for the 69th Fiscal Term Ended March 2009</i>. Nintendo. May 8, 2009. p.&#160;6<span class=\"reference-accessdate\">. Retrieved <span class=\"nowrap\">February 13,</span> 2017</span>.</cite><span title=\"ctx_ver=Z39.88-2004&amp;rft_val_fmt=info%3Aofi%2Ffmt%3Akev%3Amtx%3Ajournal&amp;rft.genre=unknown&amp;rft.jtitle=Financial+Results+Briefing+for+the+69th+Fiscal+Term+Ended+March+2009&amp;rft.atitle=Financial+Results+Briefing+for+the+Fiscal+Year+Ended+March+2009%3A+Supplementary+Information&amp;rft.pages=6&amp;rft.date=2009-05-08&amp;rft_id=https%3A%2F%2Fwww.nintendo.co.jp%2Fir%2Fpdf%2F2009%2F090508e.pdf%23page%3D6&amp;rfr_id=info%3Asid%2Fen.wikipedia.org%3AAnimal+Crossing\" class=\"Z3988\"></span><link rel=\"mw-deduplicated-inline-style\" href=\"mw-data:TemplateStyles:r935243608\"/></span>\n",
      "</li>\n",
      "<li id=\"cite_note-44\"><span class=\"mw-cite-backlink\"><b><a href=\"#cite_ref-44\">^</a></b></span> <span class=\"reference-text\"><cite class=\"citation web\"><a rel=\"nofollow\" class=\"external text\" href=\"http://www.metacritic.com/game/wii/animal-crossing-city-folk\">\"<i>Animal Crossing: City Folk</i> reviews\"</a>. <a href=\"/wiki/Metacritic\" title=\"Metacritic\">Metacritic</a><span class=\"reference-accessdate\">. Retrieved <span class=\"nowrap\">February 13,</span> 2017</span>.</cite><span title=\"ctx_ver=Z39.88-2004&amp;rft_val_fmt=info%3Aofi%2Ffmt%3Akev%3Amtx%3Abook&amp;rft.genre=unknown&amp;rft.btitle=Animal+Crossing%3A+City+Folk+reviews&amp;rft.pub=Metacritic&amp;rft_id=http%3A%2F%2Fwww.metacritic.com%2Fgame%2Fwii%2Fanimal-crossing-city-folk&amp;rfr_id=info%3Asid%2Fen.wikipedia.org%3AAnimal+Crossing\" class=\"Z3988\"></span><link rel=\"mw-deduplicated-inline-style\" href=\"mw-data:TemplateStyles:r935243608\"/></span>\n",
      "</li>\n",
      "<li id=\"cite_note-3DS-top-sell-45\"><span class=\"mw-cite-backlink\">^ <a href=\"#cite_ref-3DS-top-sell_45-0\"><sup><i><b>a</b></i></sup></a> <a href=\"#cite_ref-3DS-top-sell_45-1\"><sup><i><b>b</b></i></sup></a></span> <span class=\"reference-text\"><cite class=\"citation web\"><a rel=\"nofollow\" class=\"external text\" href=\"https://www.nintendo.co.jp/ir/en/sales/software/3ds.html\">\"IR Information&#160;: Sales Data - Top Selling Software Sales Units - Nintendo 3DS Software\"</a>. <i>Nintendo</i><span class=\"reference-accessdate\">. Retrieved <span class=\"nowrap\">January 31,</span> 2018</span>.</cite><span title=\"ctx_ver=Z39.88-2004&amp;rft_val_fmt=info%3Aofi%2Ffmt%3Akev%3Amtx%3Ajournal&amp;rft.genre=unknown&amp;rft.jtitle=Nintendo&amp;rft.atitle=IR+Information+%3A+Sales+Data+-+Top+Selling+Software+Sales+Units+-+Nintendo+3DS+Software&amp;rft_id=https%3A%2F%2Fwww.nintendo.co.jp%2Fir%2Fen%2Fsales%2Fsoftware%2F3ds.html&amp;rfr_id=info%3Asid%2Fen.wikipedia.org%3AAnimal+Crossing\" class=\"Z3988\"></span><link rel=\"mw-deduplicated-inline-style\" href=\"mw-data:TemplateStyles:r935243608\"/></span>\n",
      "</li>\n",
      "<li id=\"cite_note-46\"><span class=\"mw-cite-backlink\"><b><a href=\"#cite_ref-46\">^</a></b></span> <span class=\"reference-text\"><cite class=\"citation web\"><a rel=\"nofollow\" class=\"external text\" href=\"http://www.metacritic.com/game/3ds/animal-crossing-new-leaf\">\"Animal Crossing: New Leaf\"</a>. <a href=\"/wiki/Metacritic\" title=\"Metacritic\">Metacritic</a><span class=\"reference-accessdate\">. Retrieved <span class=\"nowrap\">February 13,</span> 2017</span>.</cite><span title=\"ctx_ver=Z39.88-2004&amp;rft_val_fmt=info%3Aofi%2Ffmt%3Akev%3Amtx%3Abook&amp;rft.genre=unknown&amp;rft.btitle=Animal+Crossing%3A+New+Leaf&amp;rft.pub=Metacritic&amp;rft_id=http%3A%2F%2Fwww.metacritic.com%2Fgame%2F3ds%2Fanimal-crossing-new-leaf&amp;rfr_id=info%3Asid%2Fen.wikipedia.org%3AAnimal+Crossing\" class=\"Z3988\"></span><link rel=\"mw-deduplicated-inline-style\" href=\"mw-data:TemplateStyles:r935243608\"/></span>\n",
      "</li>\n",
      "<li id=\"cite_note-47\"><span class=\"mw-cite-backlink\"><b><a href=\"#cite_ref-47\">^</a></b></span> <span class=\"reference-text\"><cite class=\"citation web\"><a rel=\"nofollow\" class=\"external text\" href=\"https://www.metacritic.com/game/switch/animal-crossing-new-horizons\">\"Animal Crossing: New Horizons\"</a>. <a href=\"/wiki/Metacritic\" title=\"Metacritic\">Metacritic</a><span class=\"reference-accessdate\">. Retrieved <span class=\"nowrap\">March 18,</span> 2020</span>.</cite><span title=\"ctx_ver=Z39.88-2004&amp;rft_val_fmt=info%3Aofi%2Ffmt%3Akev%3Amtx%3Abook&amp;rft.genre=unknown&amp;rft.btitle=Animal+Crossing%3A+New+Horizons&amp;rft.pub=Metacritic&amp;rft_id=https%3A%2F%2Fwww.metacritic.com%2Fgame%2Fswitch%2Fanimal-crossing-new-horizons&amp;rfr_id=info%3Asid%2Fen.wikipedia.org%3AAnimal+Crossing\" class=\"Z3988\"></span><link rel=\"mw-deduplicated-inline-style\" href=\"mw-data:TemplateStyles:r935243608\"/></span>\n",
      "</li>\n",
      "<li id=\"cite_note-HHD_sales-48\"><span class=\"mw-cite-backlink\"><b><a href=\"#cite_ref-HHD_sales_48-0\">^</a></b></span> <span class=\"reference-text\"><cite class=\"citation web\"><a rel=\"nofollow\" class=\"external text\" href=\"https://www.nintendo.co.jp/ir/pdf/2016/160427_4e.pdf\">\"Supplementary Information about Earnings Release\"</a> <span class=\"cs1-format\">(PDF)</span>. Nintendo. April 27, 2016. p.&#160;4<span class=\"reference-accessdate\">. Retrieved <span class=\"nowrap\">February 13,</span> 2017</span>.</cite><span title=\"ctx_ver=Z39.88-2004&amp;rft_val_fmt=info%3Aofi%2Ffmt%3Akev%3Amtx%3Abook&amp;rft.genre=unknown&amp;rft.btitle=Supplementary+Information+about+Earnings+Release&amp;rft.pages=4&amp;rft.pub=Nintendo&amp;rft.date=2016-04-27&amp;rft_id=https%3A%2F%2Fwww.nintendo.co.jp%2Fir%2Fpdf%2F2016%2F160427_4e.pdf&amp;rfr_id=info%3Asid%2Fen.wikipedia.org%3AAnimal+Crossing\" class=\"Z3988\"></span><link rel=\"mw-deduplicated-inline-style\" href=\"mw-data:TemplateStyles:r935243608\"/></span>\n",
      "</li>\n",
      "<li id=\"cite_note-49\"><span class=\"mw-cite-backlink\"><b><a href=\"#cite_ref-49\">^</a></b></span> <span class=\"reference-text\"><cite class=\"citation web\"><a rel=\"nofollow\" class=\"external text\" href=\"http://www.4gamer.net/games/117/G011794/20151202067/\">\"「モンスターハンタークロス」狩猟解禁で初週販売数148万本の「ゲームソフト週間販売ランキング＋」\"</a>. <i><a href=\"/wiki/4Gamer.net\" title=\"4Gamer.net\">4Gamer.net</a></i> (in Japanese). Aetas Inc<span class=\"reference-accessdate\">. Retrieved <span class=\"nowrap\">February 13,</span> 2017</span>.</cite><span title=\"ctx_ver=Z39.88-2004&amp;rft_val_fmt=info%3Aofi%2Ffmt%3Akev%3Amtx%3Ajournal&amp;rft.genre=unknown&amp;rft.jtitle=4Gamer.net&amp;rft.atitle=%E3%80%8C%E3%83%A2%E3%83%B3%E3%82%B9%E3%82%BF%E3%83%BC%E3%83%8F%E3%83%B3%E3%82%BF%E3%83%BC%E3%82%AF%E3%83%AD%E3%82%B9%E3%80%8D%E7%8B%A9%E7%8C%9F%E8%A7%A3%E7%A6%81%E3%81%A7%E5%88%9D%E9%80%B1%E8%B2%A9%E5%A3%B2%E6%95%B0148%E4%B8%87%E6%9C%AC%E3%81%AE%E3%80%8C%E3%82%B2%E3%83%BC%E3%83%A0%E3%82%BD%E3%83%95%E3%83%88%E9%80%B1%E9%96%93%E8%B2%A9%E5%A3%B2%E3%83%A9%E3%83%B3%E3%82%AD%E3%83%B3%E3%82%B0%EF%BC%8B%E3%80%8D&amp;rft_id=http%3A%2F%2Fwww.4gamer.net%2Fgames%2F117%2FG011794%2F20151202067%2F&amp;rfr_id=info%3Asid%2Fen.wikipedia.org%3AAnimal+Crossing\" class=\"Z3988\"></span><link rel=\"mw-deduplicated-inline-style\" href=\"mw-data:TemplateStyles:r935243608\"/></span>\n",
      "</li>\n",
      "<li id=\"cite_note-50\"><span class=\"mw-cite-backlink\"><b><a href=\"#cite_ref-50\">^</a></b></span> <span class=\"reference-text\"><cite class=\"citation web\"><a rel=\"nofollow\" class=\"external text\" href=\"http://www.siliconera.com/2013/02/10/a-lot-of-women-bought-a-3ds-for-animal-crossing-new-leaf-in-japan/\">\"A Lot Of Women Bought A 3DS For Animal Crossing: New Leaf In Japan\"</a>. <i>Siliconera</i>. February 10, 2013<span class=\"reference-accessdate\">. Retrieved <span class=\"nowrap\">September 17,</span> 2018</span>.</cite><span title=\"ctx_ver=Z39.88-2004&amp;rft_val_fmt=info%3Aofi%2Ffmt%3Akev%3Amtx%3Ajournal&amp;rft.genre=unknown&amp;rft.jtitle=Siliconera&amp;rft.atitle=A+Lot+Of+Women+Bought+A+3DS+For+Animal+Crossing%3A+New+Leaf+In+Japan&amp;rft.date=2013-02-10&amp;rft_id=http%3A%2F%2Fwww.siliconera.com%2F2013%2F02%2F10%2Fa-lot-of-women-bought-a-3ds-for-animal-crossing-new-leaf-in-japan%2F&amp;rfr_id=info%3Asid%2Fen.wikipedia.org%3AAnimal+Crossing\" class=\"Z3988\"></span><link rel=\"mw-deduplicated-inline-style\" href=\"mw-data:TemplateStyles:r935243608\"/></span>\n",
      "</li>\n",
      "<li id=\"cite_note-51\"><span class=\"mw-cite-backlink\"><b><a href=\"#cite_ref-51\">^</a></b></span> <span class=\"reference-text\"><cite class=\"citation web\"><a rel=\"nofollow\" class=\"external text\" href=\"http://www.siliconera.com/2013/01/08/satoru-iwata-on-animal-crossing-sales-56-of-players-are-female/\">\"Satoru Iwata On Animal Crossing Sales, 56% Of Players Are Female\"</a>. <i>Siliconera</i>. January 8, 2013<span class=\"reference-accessdate\">. Retrieved <span class=\"nowrap\">September 17,</span> 2018</span>.</cite><span title=\"ctx_ver=Z39.88-2004&amp;rft_val_fmt=info%3Aofi%2Ffmt%3Akev%3Amtx%3Ajournal&amp;rft.genre=unknown&amp;rft.jtitle=Siliconera&amp;rft.atitle=Satoru+Iwata+On+Animal+Crossing+Sales%2C+56%25+Of+Players+Are+Female&amp;rft.date=2013-01-08&amp;rft_id=http%3A%2F%2Fwww.siliconera.com%2F2013%2F01%2F08%2Fsatoru-iwata-on-animal-crossing-sales-56-of-players-are-female%2F&amp;rfr_id=info%3Asid%2Fen.wikipedia.org%3AAnimal+Crossing\" class=\"Z3988\"></span><link rel=\"mw-deduplicated-inline-style\" href=\"mw-data:TemplateStyles:r935243608\"/></span>\n",
      "</li>\n",
      "<li id=\"cite_note-52\"><span class=\"mw-cite-backlink\"><b><a href=\"#cite_ref-52\">^</a></b></span> <span class=\"reference-text\"><cite class=\"citation web\">Stark, Chelsea (April 2, 2014). <a rel=\"nofollow\" class=\"external text\" href=\"https://mashable.com/2014/04/02/animal-crossing-gender-gaming/\">\"More Women Game Developers Means More Success, 'Animal Crossing' Director Says\"</a>. <i>Mashable</i><span class=\"reference-accessdate\">. Retrieved <span class=\"nowrap\">September 17,</span> 2018</span>.</cite><span title=\"ctx_ver=Z39.88-2004&amp;rft_val_fmt=info%3Aofi%2Ffmt%3Akev%3Amtx%3Ajournal&amp;rft.genre=unknown&amp;rft.jtitle=Mashable&amp;rft.atitle=More+Women+Game+Developers+Means+More+Success%2C+%27Animal+Crossing%27+Director+Says&amp;rft.date=2014-04-02&amp;rft.aulast=Stark&amp;rft.aufirst=Chelsea&amp;rft_id=https%3A%2F%2Fmashable.com%2F2014%2F04%2F02%2Fanimal-crossing-gender-gaming%2F&amp;rfr_id=info%3Asid%2Fen.wikipedia.org%3AAnimal+Crossing\" class=\"Z3988\"></span><link rel=\"mw-deduplicated-inline-style\" href=\"mw-data:TemplateStyles:r935243608\"/></span>\n",
      "</li>\n",
      "<li id=\"cite_note-53\"><span class=\"mw-cite-backlink\"><b><a href=\"#cite_ref-53\">^</a></b></span> <span class=\"reference-text\"><cite class=\"citation web\"><a rel=\"nofollow\" class=\"external text\" href=\"https://web.archive.org/web/20121029165113/http://entertainment.rakuten.co.jp/movie/ranking/boxoffice/2007/\">\"2007年度興行成績ランキング\"</a> (in Japanese). Rakuten. Archived from <a rel=\"nofollow\" class=\"external text\" href=\"http://entertainment.rakuten.co.jp/movie/ranking/boxoffice/2007/\">the original</a> on October 29, 2012<span class=\"reference-accessdate\">. Retrieved <span class=\"nowrap\">February 13,</span> 2017</span>.</cite><span title=\"ctx_ver=Z39.88-2004&amp;rft_val_fmt=info%3Aofi%2Ffmt%3Akev%3Amtx%3Abook&amp;rft.genre=unknown&amp;rft.btitle=2007%E5%B9%B4%E5%BA%A6%E8%88%88%E8%A1%8C%E6%88%90%E7%B8%BE%E3%83%A9%E3%83%B3%E3%82%AD%E3%83%B3%E3%82%B0&amp;rft.pub=Rakuten&amp;rft_id=http%3A%2F%2Fentertainment.rakuten.co.jp%2Fmovie%2Franking%2Fboxoffice%2F2007%2F&amp;rfr_id=info%3Asid%2Fen.wikipedia.org%3AAnimal+Crossing\" class=\"Z3988\"></span><link rel=\"mw-deduplicated-inline-style\" href=\"mw-data:TemplateStyles:r935243608\"/></span>\n",
      "</li>\n",
      "<li id=\"cite_note-smash_stage-54\"><span class=\"mw-cite-backlink\"><b><a href=\"#cite_ref-smash_stage_54-0\">^</a></b></span> <span class=\"reference-text\"><cite class=\"citation web\">Sakurai, Masahiro (July 13, 2007). <a rel=\"nofollow\" class=\"external text\" href=\"http://www.smashbros.com/wii/en_us/stages/stage06.html\">\"Smash Bros. DOJO!! Smashville\"</a>. <a href=\"/wiki/Nintendo\" title=\"Nintendo\">Nintendo</a><span class=\"reference-accessdate\">. Retrieved <span class=\"nowrap\">February 13,</span> 2017</span>.</cite><span title=\"ctx_ver=Z39.88-2004&amp;rft_val_fmt=info%3Aofi%2Ffmt%3Akev%3Amtx%3Abook&amp;rft.genre=unknown&amp;rft.btitle=Smash+Bros.+DOJO%21%21+Smashville&amp;rft.pub=Nintendo&amp;rft.date=2007-07-13&amp;rft.aulast=Sakurai&amp;rft.aufirst=Masahiro&amp;rft_id=http%3A%2F%2Fwww.smashbros.com%2Fwii%2Fen_us%2Fstages%2Fstage06.html&amp;rfr_id=info%3Asid%2Fen.wikipedia.org%3AAnimal+Crossing\" class=\"Z3988\"></span><link rel=\"mw-deduplicated-inline-style\" href=\"mw-data:TemplateStyles:r935243608\"/></span>\n",
      "</li>\n",
      "<li id=\"cite_note-smash_music-55\"><span class=\"mw-cite-backlink\"><b><a href=\"#cite_ref-smash_music_55-0\">^</a></b></span> <span class=\"reference-text\"><cite class=\"citation web\">Sakurai, Masahiro (April 3, 2008). <a rel=\"nofollow\" class=\"external text\" href=\"http://www.smashbros.com/wii/en_us/music/music24_list.html\">\"Smash Bros. DOJO!! Full Song List with Secret Songs\"</a>. <a href=\"/wiki/Nintendo\" title=\"Nintendo\">Nintendo</a><span class=\"reference-accessdate\">. Retrieved <span class=\"nowrap\">February 13,</span> 2017</span>.</cite><span title=\"ctx_ver=Z39.88-2004&amp;rft_val_fmt=info%3Aofi%2Ffmt%3Akev%3Amtx%3Abook&amp;rft.genre=unknown&amp;rft.btitle=Smash+Bros.+DOJO%21%21+Full+Song+List+with+Secret+Songs&amp;rft.pub=Nintendo&amp;rft.date=2008-04-03&amp;rft.aulast=Sakurai&amp;rft.aufirst=Masahiro&amp;rft_id=http%3A%2F%2Fwww.smashbros.com%2Fwii%2Fen_us%2Fmusic%2Fmusic24_list.html&amp;rfr_id=info%3Asid%2Fen.wikipedia.org%3AAnimal+Crossing\" class=\"Z3988\"></span><link rel=\"mw-deduplicated-inline-style\" href=\"mw-data:TemplateStyles:r935243608\"/></span>\n",
      "</li>\n",
      "<li id=\"cite_note-smash_resetti-56\"><span class=\"mw-cite-backlink\"><b><a href=\"#cite_ref-smash_resetti_56-0\">^</a></b></span> <span class=\"reference-text\"><cite class=\"citation web\">Sakurai, Masahiro (September 26, 2007). <a rel=\"nofollow\" class=\"external text\" href=\"http://www.smashbros.com/wii/en_us/items/assist/assist08.html\">\"Smash Bros. DOJO!! Mr. Resetti\"</a>. <a href=\"/wiki/Nintendo\" title=\"Nintendo\">Nintendo</a><span class=\"reference-accessdate\">. Retrieved <span class=\"nowrap\">February 13,</span> 2017</span>.</cite><span title=\"ctx_ver=Z39.88-2004&amp;rft_val_fmt=info%3Aofi%2Ffmt%3Akev%3Amtx%3Abook&amp;rft.genre=unknown&amp;rft.btitle=Smash+Bros.+DOJO%21%21+Mr.+Resetti&amp;rft.pub=Nintendo&amp;rft.date=2007-09-26&amp;rft.aulast=Sakurai&amp;rft.aufirst=Masahiro&amp;rft_id=http%3A%2F%2Fwww.smashbros.com%2Fwii%2Fen_us%2Fitems%2Fassist%2Fassist08.html&amp;rfr_id=info%3Asid%2Fen.wikipedia.org%3AAnimal+Crossing\" class=\"Z3988\"></span><link rel=\"mw-deduplicated-inline-style\" href=\"mw-data:TemplateStyles:r935243608\"/></span>\n",
      "</li>\n",
      "<li id=\"cite_note-smash_pitfall-57\"><span class=\"mw-cite-backlink\"><b><a href=\"#cite_ref-smash_pitfall_57-0\">^</a></b></span> <span class=\"reference-text\"><cite class=\"citation web\">Sakurai, Masahiro (September 26, 2007). <a rel=\"nofollow\" class=\"external text\" href=\"http://www.smashbros.com/wii/en_us/items/item06.html\">\"Smash Bros. DOJO!! Pitfall\"</a>. <a href=\"/wiki/Nintendo\" title=\"Nintendo\">Nintendo</a><span class=\"reference-accessdate\">. Retrieved <span class=\"nowrap\">February 13,</span> 2017</span>.</cite><span title=\"ctx_ver=Z39.88-2004&amp;rft_val_fmt=info%3Aofi%2Ffmt%3Akev%3Amtx%3Abook&amp;rft.genre=unknown&amp;rft.btitle=Smash+Bros.+DOJO%21%21+Pitfall&amp;rft.pub=Nintendo&amp;rft.date=2007-09-26&amp;rft.aulast=Sakurai&amp;rft.aufirst=Masahiro&amp;rft_id=http%3A%2F%2Fwww.smashbros.com%2Fwii%2Fen_us%2Fitems%2Fitem06.html&amp;rfr_id=info%3Asid%2Fen.wikipedia.org%3AAnimal+Crossing\" class=\"Z3988\"></span><link rel=\"mw-deduplicated-inline-style\" href=\"mw-data:TemplateStyles:r935243608\"/></span>\n",
      "</li>\n",
      "<li id=\"cite_note-smash_trophies-58\"><span class=\"mw-cite-backlink\"><b><a href=\"#cite_ref-smash_trophies_58-0\">^</a></b></span> <span class=\"reference-text\"><cite class=\"citation web\">Sakurai, Masahiro (April 8, 2008). <a rel=\"nofollow\" class=\"external text\" href=\"http://www.smashbros.com/wii/en_us/gamemode/various/various36_list.html\">\"Smash Bros. DOJO!! Trophy List\"</a>. <a href=\"/wiki/Nintendo\" title=\"Nintendo\">Nintendo</a><span class=\"reference-accessdate\">. Retrieved <span class=\"nowrap\">February 13,</span> 2017</span>.</cite><span title=\"ctx_ver=Z39.88-2004&amp;rft_val_fmt=info%3Aofi%2Ffmt%3Akev%3Amtx%3Abook&amp;rft.genre=unknown&amp;rft.btitle=Smash+Bros.+DOJO%21%21+Trophy+List&amp;rft.pub=Nintendo&amp;rft.date=2008-04-08&amp;rft.aulast=Sakurai&amp;rft.aufirst=Masahiro&amp;rft_id=http%3A%2F%2Fwww.smashbros.com%2Fwii%2Fen_us%2Fgamemode%2Fvarious%2Fvarious36_list.html&amp;rfr_id=info%3Asid%2Fen.wikipedia.org%3AAnimal+Crossing\" class=\"Z3988\"></span><link rel=\"mw-deduplicated-inline-style\" href=\"mw-data:TemplateStyles:r935243608\"/></span>\n",
      "</li>\n",
      "<li id=\"cite_note-59\"><span class=\"mw-cite-backlink\"><b><a href=\"#cite_ref-59\">^</a></b></span> <span class=\"reference-text\"><cite class=\"citation web\">North, Dale (October 20, 2008). <a rel=\"nofollow\" class=\"external text\" href=\"https://www.destructoid.com/here-s-the-rest-of-the-wii-music-tracklist-108429.phtml\">\"Here's the rest of the Wii Music tracklist\"</a>. <i><a href=\"/wiki/Destructoid\" title=\"Destructoid\">Destructoid</a></i><span class=\"reference-accessdate\">. Retrieved <span class=\"nowrap\">February 13,</span> 2017</span>.</cite><span title=\"ctx_ver=Z39.88-2004&amp;rft_val_fmt=info%3Aofi%2Ffmt%3Akev%3Amtx%3Ajournal&amp;rft.genre=unknown&amp;rft.jtitle=Destructoid&amp;rft.atitle=Here%27s+the+rest+of+the+Wii+Music+tracklist&amp;rft.date=2008-10-20&amp;rft.aulast=North&amp;rft.aufirst=Dale&amp;rft_id=https%3A%2F%2Fwww.destructoid.com%2Fhere-s-the-rest-of-the-wii-music-tracklist-108429.phtml&amp;rfr_id=info%3Asid%2Fen.wikipedia.org%3AAnimal+Crossing\" class=\"Z3988\"></span><link rel=\"mw-deduplicated-inline-style\" href=\"mw-data:TemplateStyles:r935243608\"/></span>\n",
      "</li>\n",
      "<li id=\"cite_note-60\"><span class=\"mw-cite-backlink\"><b><a href=\"#cite_ref-60\">^</a></b></span> <span class=\"reference-text\"><cite class=\"citation web\">Petit, Carolyn (November 18, 2012). <a rel=\"nofollow\" class=\"external text\" href=\"https://www.cnet.com/uk/products/nintendo-land-wii-u/review/2/\">\"Nintendo Land (Wii U) review\"</a>. <i><a href=\"/wiki/CNET\" title=\"CNET\">CNET</a></i>. <a href=\"/wiki/CBS_Interactive\" title=\"CBS Interactive\">CBS Interactive</a><span class=\"reference-accessdate\">. Retrieved <span class=\"nowrap\">February 13,</span> 2017</span>.</cite><span title=\"ctx_ver=Z39.88-2004&amp;rft_val_fmt=info%3Aofi%2Ffmt%3Akev%3Amtx%3Ajournal&amp;rft.genre=unknown&amp;rft.jtitle=CNET&amp;rft.atitle=Nintendo+Land+%28Wii+U%29+review&amp;rft.date=2012-11-18&amp;rft.aulast=Petit&amp;rft.aufirst=Carolyn&amp;rft_id=https%3A%2F%2Fwww.cnet.com%2Fuk%2Fproducts%2Fnintendo-land-wii-u%2Freview%2F2%2F&amp;rfr_id=info%3Asid%2Fen.wikipedia.org%3AAnimal+Crossing\" class=\"Z3988\"></span><link rel=\"mw-deduplicated-inline-style\" href=\"mw-data:TemplateStyles:r935243608\"/></span>\n",
      "</li>\n",
      "<li id=\"cite_note-61\"><span class=\"mw-cite-backlink\"><b><a href=\"#cite_ref-61\">^</a></b></span> <span class=\"reference-text\"><cite class=\"citation web\">Torres, Timothy (September 13, 2014). <a rel=\"nofollow\" class=\"external text\" href=\"https://www.pcmag.com/article2/0,2817,2468841,00.asp\">\"How to Beast With Villager, Mega Man in Super Smash Bros. 3DS Demo\"</a>. <i><a href=\"/wiki/PC_Magazine\" title=\"PC Magazine\">PC Magazine</a></i>. <a href=\"/wiki/Ziff_Davis\" title=\"Ziff Davis\">Ziff Davis</a><span class=\"reference-accessdate\">. Retrieved <span class=\"nowrap\">February 13,</span> 2017</span>.</cite><span title=\"ctx_ver=Z39.88-2004&amp;rft_val_fmt=info%3Aofi%2Ffmt%3Akev%3Amtx%3Ajournal&amp;rft.genre=unknown&amp;rft.jtitle=PC+Magazine&amp;rft.atitle=How+to+Beast+With+Villager%2C+Mega+Man+in+Super+Smash+Bros.+3DS+Demo&amp;rft.date=2014-09-13&amp;rft.aulast=Torres&amp;rft.aufirst=Timothy&amp;rft_id=https%3A%2F%2Fwww.pcmag.com%2Farticle2%2F0%2C2817%2C2468841%2C00.asp&amp;rfr_id=info%3Asid%2Fen.wikipedia.org%3AAnimal+Crossing\" class=\"Z3988\"></span><link rel=\"mw-deduplicated-inline-style\" href=\"mw-data:TemplateStyles:r935243608\"/></span>\n",
      "</li>\n",
      "<li id=\"cite_note-62\"><span class=\"mw-cite-backlink\"><b><a href=\"#cite_ref-62\">^</a></b></span> <span class=\"reference-text\"><cite class=\"citation web\"><a rel=\"nofollow\" class=\"external text\" href=\"http://www.smashbros.com/wiiu-3ds/us/howto/entry6.html\">\"Assist Trophies\"</a>. <i><a href=\"/wiki/Nintendo\" title=\"Nintendo\">Nintendo</a></i><span class=\"reference-accessdate\">. Retrieved <span class=\"nowrap\">February 13,</span> 2017</span>.</cite><span title=\"ctx_ver=Z39.88-2004&amp;rft_val_fmt=info%3Aofi%2Ffmt%3Akev%3Amtx%3Ajournal&amp;rft.genre=unknown&amp;rft.jtitle=Nintendo&amp;rft.atitle=Assist+Trophies&amp;rft_id=http%3A%2F%2Fwww.smashbros.com%2Fwiiu-3ds%2Fus%2Fhowto%2Fentry6.html&amp;rfr_id=info%3Asid%2Fen.wikipedia.org%3AAnimal+Crossing\" class=\"Z3988\"></span><link rel=\"mw-deduplicated-inline-style\" href=\"mw-data:TemplateStyles:r935243608\"/></span>\n",
      "</li>\n",
      "<li id=\"cite_note-63\"><span class=\"mw-cite-backlink\"><b><a href=\"#cite_ref-63\">^</a></b></span> <span class=\"reference-text\"><cite class=\"citation web\"><a rel=\"nofollow\" class=\"external text\" href=\"https://comicbook.com/2018/09/13/super-smash-bros-ultimate-isabelle-animal-crossing/\">\"<span class=\"cs1-kern-left\">'</span>Animal Crossing' Favorite Isabelle Joins 'Super Smash Bros. Ultimate' Roster\"</a>. <i>Comicbook.com</i>.</cite><span title=\"ctx_ver=Z39.88-2004&amp;rft_val_fmt=info%3Aofi%2Ffmt%3Akev%3Amtx%3Ajournal&amp;rft.genre=unknown&amp;rft.jtitle=Comicbook.com&amp;rft.atitle=%27Animal+Crossing%27+Favorite+Isabelle+Joins+%27Super+Smash+Bros.+Ultimate%27+Roster&amp;rft_id=https%3A%2F%2Fcomicbook.com%2F2018%2F09%2F13%2Fsuper-smash-bros-ultimate-isabelle-animal-crossing%2F&amp;rfr_id=info%3Asid%2Fen.wikipedia.org%3AAnimal+Crossing\" class=\"Z3988\"></span><link rel=\"mw-deduplicated-inline-style\" href=\"mw-data:TemplateStyles:r935243608\"/></span>\n",
      "</li>\n",
      "<li id=\"cite_note-64\"><span class=\"mw-cite-backlink\"><b><a href=\"#cite_ref-64\">^</a></b></span> <span class=\"reference-text\"><cite class=\"citation web\"><a rel=\"nofollow\" class=\"external text\" href=\"http://www.smashbros.com/wiiu-3ds/us/howto/entry4.html\">\"Stages 1\"</a>. <i><a href=\"/wiki/Nintendo\" title=\"Nintendo\">Nintendo</a></i><span class=\"reference-accessdate\">. Retrieved <span class=\"nowrap\">February 13,</span> 2017</span>.</cite><span title=\"ctx_ver=Z39.88-2004&amp;rft_val_fmt=info%3Aofi%2Ffmt%3Akev%3Amtx%3Ajournal&amp;rft.genre=unknown&amp;rft.jtitle=Nintendo&amp;rft.atitle=Stages+1&amp;rft_id=http%3A%2F%2Fwww.smashbros.com%2Fwiiu-3ds%2Fus%2Fhowto%2Fentry4.html&amp;rfr_id=info%3Asid%2Fen.wikipedia.org%3AAnimal+Crossing\" class=\"Z3988\"></span><link rel=\"mw-deduplicated-inline-style\" href=\"mw-data:TemplateStyles:r935243608\"/></span>\n",
      "</li>\n",
      "<li id=\"cite_note-65\"><span class=\"mw-cite-backlink\"><b><a href=\"#cite_ref-65\">^</a></b></span> <span class=\"reference-text\"><cite class=\"citation web\">Bhat, Aditya (October 22, 2014). <a rel=\"nofollow\" class=\"external text\" href=\"http://www.ibtimes.co.in/super-smash-bros-4-unlock-guide-characters-stages-how-wii-u-3ds-connect-10-million-us-sales-614833\">\"Super Smash Bros 4: Unlock Guide -- Characters and Stages; How Wii U and 3DS Connect; 10 Million US Sales\"</a>. <i><a href=\"/wiki/International_Business_Times\" title=\"International Business Times\">International Business Times</a></i>. <a href=\"/wiki/IBT_Media\" title=\"IBT Media\">IBT Media</a><span class=\"reference-accessdate\">. Retrieved <span class=\"nowrap\">February 13,</span> 2017</span>.</cite><span title=\"ctx_ver=Z39.88-2004&amp;rft_val_fmt=info%3Aofi%2Ffmt%3Akev%3Amtx%3Ajournal&amp;rft.genre=unknown&amp;rft.jtitle=International+Business+Times&amp;rft.atitle=Super+Smash+Bros+4%3A+Unlock+Guide+--+Characters+and+Stages%3B+How+Wii+U+and+3DS+Connect%3B+10+Million+US+Sales&amp;rft.date=2014-10-22&amp;rft.aulast=Bhat&amp;rft.aufirst=Aditya&amp;rft_id=http%3A%2F%2Fwww.ibtimes.co.in%2Fsuper-smash-bros-4-unlock-guide-characters-stages-how-wii-u-3ds-connect-10-million-us-sales-614833&amp;rfr_id=info%3Asid%2Fen.wikipedia.org%3AAnimal+Crossing\" class=\"Z3988\"></span><link rel=\"mw-deduplicated-inline-style\" href=\"mw-data:TemplateStyles:r935243608\"/></span>\n",
      "</li>\n",
      "<li id=\"cite_note-Franchises_coming_to_MK8-66\"><span class=\"mw-cite-backlink\"><b><a href=\"#cite_ref-Franchises_coming_to_MK8_66-0\">^</a></b></span> <span class=\"reference-text\"><cite class=\"citation web\">Plunkett, Luke (August 26, 2014). <a rel=\"nofollow\" class=\"external text\" href=\"http://kotaku.com/zelda-f-zero-coming-to-mario-kart-8-1627150730\">\"Zelda, Animal Crossing Coming to Mario Kart 8\"</a>. Kotaku<span class=\"reference-accessdate\">. Retrieved <span class=\"nowrap\">February 13,</span> 2017</span>.</cite><span title=\"ctx_ver=Z39.88-2004&amp;rft_val_fmt=info%3Aofi%2Ffmt%3Akev%3Amtx%3Abook&amp;rft.genre=unknown&amp;rft.btitle=Zelda%2C+Animal+Crossing+Coming+to+Mario+Kart+8&amp;rft.pub=Kotaku&amp;rft.date=2014-08-26&amp;rft.aulast=Plunkett&amp;rft.aufirst=Luke&amp;rft_id=http%3A%2F%2Fkotaku.com%2Fzelda-f-zero-coming-to-mario-kart-8-1627150730&amp;rfr_id=info%3Asid%2Fen.wikipedia.org%3AAnimal+Crossing\" class=\"Z3988\"></span><link rel=\"mw-deduplicated-inline-style\" href=\"mw-data:TemplateStyles:r935243608\"/></span>\n",
      "</li>\n",
      "<li id=\"cite_note-67\"><span class=\"mw-cite-backlink\"><b><a href=\"#cite_ref-67\">^</a></b></span> <span class=\"reference-text\"><cite class=\"citation web\"><a rel=\"nofollow\" class=\"external text\" href=\"http://www.nintendolife.com/news/2015/06/monster_hunter_4_ultimate_june_dlc_brings_animal_crossing_devil_may_cry_and_awesome_designs\">\"Monster Hunter 4 Ultimate June DLC Brings Animal Crossing, Devil May Cry and Awesome Designs\"</a>. <i>Nintendo Life</i><span class=\"reference-accessdate\">. Retrieved <span class=\"nowrap\">February 13,</span> 2017</span>.</cite><span title=\"ctx_ver=Z39.88-2004&amp;rft_val_fmt=info%3Aofi%2Ffmt%3Akev%3Amtx%3Ajournal&amp;rft.genre=unknown&amp;rft.jtitle=Nintendo+Life&amp;rft.atitle=Monster+Hunter+4+Ultimate+June+DLC+Brings+Animal+Crossing%2C+Devil+May+Cry+and+Awesome+Designs&amp;rft_id=http%3A%2F%2Fwww.nintendolife.com%2Fnews%2F2015%2F06%2Fmonster_hunter_4_ultimate_june_dlc_brings_animal_crossing_devil_may_cry_and_awesome_designs&amp;rfr_id=info%3Asid%2Fen.wikipedia.org%3AAnimal+Crossing\" class=\"Z3988\"></span><link rel=\"mw-deduplicated-inline-style\" href=\"mw-data:TemplateStyles:r935243608\"/></span>\n",
      "</li>\n",
      "</ol></div></div>\n",
      "<h2><span class=\"mw-headline\" id=\"External_links\">External links</span><span class=\"mw-editsection\"><span class=\"mw-editsection-bracket\">[</span><a href=\"/w/index.php?title=Animal_Crossing&amp;action=edit&amp;section=22\" title=\"Edit section: External links\">edit</a><span class=\"mw-editsection-bracket\">]</span></span></h2>\n",
      "<ul><li><span class=\"official-website\"><span class=\"url\"><a rel=\"nofollow\" class=\"external text\" href=\"http://www.animal-crossing.com/\">Official website</a></span></span></li></ul>\n",
      "<div role=\"navigation\" class=\"navbox\" aria-labelledby=\"Animal_Crossing\" style=\"padding:3px\"><table class=\"nowraplinks mw-collapsible autocollapse navbox-inner\" style=\"border-spacing:0;background:transparent;color:inherit\"><tbody><tr><th scope=\"col\" class=\"navbox-title\" colspan=\"2\"><div class=\"plainlinks hlist navbar mini\"><ul><li class=\"nv-view\"><a href=\"/wiki/Template:Animal_Crossing\" title=\"Template:Animal Crossing\"><abbr title=\"View this template\" style=\";;background:none transparent;border:none;-moz-box-shadow:none;-webkit-box-shadow:none;box-shadow:none; padding:0;\">v</abbr></a></li><li class=\"nv-talk\"><a href=\"/wiki/Template_talk:Animal_Crossing\" title=\"Template talk:Animal Crossing\"><abbr title=\"Discuss this template\" style=\";;background:none transparent;border:none;-moz-box-shadow:none;-webkit-box-shadow:none;box-shadow:none; padding:0;\">t</abbr></a></li><li class=\"nv-edit\"><a class=\"external text\" href=\"https://en.wikipedia.org/w/index.php?title=Template:Animal_Crossing&amp;action=edit\"><abbr title=\"Edit this template\" style=\";;background:none transparent;border:none;-moz-box-shadow:none;-webkit-box-shadow:none;box-shadow:none; padding:0;\">e</abbr></a></li></ul></div><div id=\"Animal_Crossing\" style=\"font-size:114%;margin:0 4em\"><i><a class=\"mw-selflink selflink\">Animal Crossing</a></i></div></th></tr><tr><th scope=\"row\" class=\"navbox-group\" style=\"width:1%\"><a href=\"/wiki/List_of_Animal_Crossing_media\" title=\"List of Animal Crossing media\">Games</a></th><td class=\"navbox-list navbox-odd hlist\" style=\"text-align:left;border-left-width:2px;border-left-style:solid;width:100%;padding:0px\"><div style=\"padding:0em 0.25em\"></div><table class=\"nowraplinks navbox-subgroup\" style=\"border-spacing:0\"><tbody><tr><th scope=\"row\" class=\"navbox-group\" style=\"width:1%\">Main series</th><td class=\"navbox-list navbox-odd\" style=\"text-align:left;border-left-width:2px;border-left-style:solid;width:100%;padding:0px\"><div style=\"padding:0em 0.25em\">\n",
      "<ul><li><i><a href=\"/wiki/Animal_Crossing_(video_game)\" title=\"Animal Crossing (video game)\">Animal Crossing</a></i></li>\n",
      "<li><i><a href=\"/wiki/Animal_Crossing:_Wild_World\" title=\"Animal Crossing: Wild World\">Wild World</a></i></li>\n",
      "<li><i><a href=\"/wiki/Animal_Crossing:_City_Folk\" title=\"Animal Crossing: City Folk\">City Folk</a></i></li>\n",
      "<li><i><a href=\"/wiki/Animal_Crossing:_New_Leaf\" title=\"Animal Crossing: New Leaf\">New Leaf</a></i></li>\n",
      "<li><i><a href=\"/wiki/Animal_Crossing:_New_Horizons\" title=\"Animal Crossing: New Horizons\">New Horizons</a></i></li></ul>\n",
      "</div></td></tr><tr><th scope=\"row\" class=\"navbox-group\" style=\"width:1%\">Spin-off titles</th><td class=\"navbox-list navbox-even\" style=\"text-align:left;border-left-width:2px;border-left-style:solid;width:100%;padding:0px\"><div style=\"padding:0em 0.25em\">\n",
      "<ul><li><i><a href=\"/wiki/Animal_Crossing_Plaza\" title=\"Animal Crossing Plaza\">Plaza</a></i></li>\n",
      "<li><i><a href=\"/wiki/Animal_Crossing:_Happy_Home_Designer\" title=\"Animal Crossing: Happy Home Designer\">Happy Home Designer</a></i></li>\n",
      "<li><i><a href=\"/wiki/Animal_Crossing:_Amiibo_Festival\" title=\"Animal Crossing: Amiibo Festival\">Amiibo Festival</a></i></li>\n",
      "<li><i><a href=\"/wiki/Animal_Crossing:_Pocket_Camp\" title=\"Animal Crossing: Pocket Camp\">Pocket Camp</a></i></li></ul>\n",
      "</div></td></tr><tr><th scope=\"row\" class=\"navbox-group\" style=\"width:1%\">Accessories</th><td class=\"navbox-list navbox-odd\" style=\"text-align:left;border-left-width:2px;border-left-style:solid;width:100%;padding:0px\"><div style=\"padding:0em 0.25em\">\n",
      "<ul><li><a href=\"/wiki/Amiibo#List_of_Animal_Crossing_Amiibo_cards\" title=\"Amiibo\">Amiibo cards</a></li>\n",
      "<li><a href=\"/wiki/Nintendo_e-Reader#Animal_Crossing-e\" title=\"Nintendo e-Reader\">e-Reader cards</a></li></ul>\n",
      "</div></td></tr></tbody></table><div></div></td></tr><tr><th scope=\"row\" class=\"navbox-group\" style=\"width:1%\">Characters</th><td class=\"navbox-list navbox-even hlist\" style=\"text-align:left;border-left-width:2px;border-left-style:solid;width:100%;padding:0px\"><div style=\"padding:0em 0.25em\">\n",
      "<ul><li><a href=\"/wiki/Isabelle_(Animal_Crossing)\" title=\"Isabelle (Animal Crossing)\">Isabelle</a></li>\n",
      "<li><a href=\"/wiki/Mr._Resetti\" title=\"Mr. Resetti\">Mr. Resetti</a></li>\n",
      "<li><a href=\"/wiki/Tom_Nook\" title=\"Tom Nook\">Tom Nook</a></li>\n",
      "<li><a href=\"/wiki/K.K._Slider\" title=\"K.K. Slider\">K.K. Slider</a></li></ul>\n",
      "</div></td></tr><tr><th scope=\"row\" class=\"navbox-group\" style=\"width:1%\">People</th><td class=\"navbox-list navbox-odd hlist\" style=\"text-align:left;border-left-width:2px;border-left-style:solid;width:100%;padding:0px\"><div style=\"padding:0em 0.25em\">\n",
      "<ul><li><a href=\"/wiki/Katsuya_Eguchi\" title=\"Katsuya Eguchi\">Katsuya Eguchi</a></li>\n",
      "<li><a href=\"/wiki/Aya_Kyogoku\" title=\"Aya Kyogoku\">Aya Kyogoku</a></li>\n",
      "<li><a href=\"/wiki/Hisashi_Nogami\" title=\"Hisashi Nogami\">Hisashi Nogami</a></li>\n",
      "<li><a href=\"/wiki/Takashi_Tezuka\" title=\"Takashi Tezuka\">Takashi Tezuka</a></li>\n",
      "<li><a href=\"/wiki/Kazumi_Totaka\" title=\"Kazumi Totaka\">Kazumi Totaka</a></li></ul>\n",
      "</div></td></tr><tr><th scope=\"row\" class=\"navbox-group\" style=\"width:1%\">Other media</th><td class=\"navbox-list navbox-even hlist\" style=\"text-align:left;border-left-width:2px;border-left-style:solid;width:100%;padding:0px\"><div style=\"padding:0em 0.25em\">\n",
      "<ul><li><a href=\"/wiki/D%C5%8Dbutsu_no_Mori_(film)\" title=\"Dōbutsu no Mori (film)\">Film</a></li></ul>\n",
      "</div></td></tr><tr><th scope=\"row\" class=\"navbox-group\" style=\"width:1%\">Related</th><td class=\"navbox-list navbox-odd hlist\" style=\"text-align:left;border-left-width:2px;border-left-style:solid;width:100%;padding:0px\"><div style=\"padding:0em 0.25em\">\n",
      "<ul><li><i><a href=\"/wiki/Nintendo_Land\" title=\"Nintendo Land\">Nintendo Land</a></i></li>\n",
      "<li><i><a href=\"/wiki/Mario_Kart_8\" title=\"Mario Kart 8\">Mario Kart 8</a></i></li>\n",
      "<li><i><a href=\"/wiki/Super_Smash_Bros.\" title=\"Super Smash Bros.\">Super Smash Bros.</a></i>\n",
      "<ul><li><a href=\"/wiki/Super_Smash_Bros._for_Nintendo_3DS_and_Wii_U\" title=\"Super Smash Bros. for Nintendo 3DS and Wii U\"><i>for Nintendo 3DS</i> and <i>Wii U</i></a></li>\n",
      "<li><i><a href=\"/wiki/Super_Smash_Bros._Ultimate\" title=\"Super Smash Bros. Ultimate\">Ultimate</a></i></li></ul></li></ul>\n",
      "</div></td></tr></tbody></table></div>\n",
      "<div role=\"navigation\" class=\"navbox\" aria-labelledby=\"Nintendo_franchises\" style=\"padding:3px\"><table class=\"nowraplinks mw-collapsible autocollapse navbox-inner\" style=\"border-spacing:0;background:transparent;color:inherit\"><tbody><tr><th scope=\"col\" class=\"navbox-title\" colspan=\"2\"><div class=\"plainlinks hlist navbar mini\"><ul><li class=\"nv-view\"><a href=\"/wiki/Template:Nintendo_franchises\" title=\"Template:Nintendo franchises\"><abbr title=\"View this template\" style=\";;background:none transparent;border:none;-moz-box-shadow:none;-webkit-box-shadow:none;box-shadow:none; padding:0;\">v</abbr></a></li><li class=\"nv-talk\"><a href=\"/wiki/Template_talk:Nintendo_franchises\" title=\"Template talk:Nintendo franchises\"><abbr title=\"Discuss this template\" style=\";;background:none transparent;border:none;-moz-box-shadow:none;-webkit-box-shadow:none;box-shadow:none; padding:0;\">t</abbr></a></li><li class=\"nv-edit\"><a class=\"external text\" href=\"https://en.wikipedia.org/w/index.php?title=Template:Nintendo_franchises&amp;action=edit\"><abbr title=\"Edit this template\" style=\";;background:none transparent;border:none;-moz-box-shadow:none;-webkit-box-shadow:none;box-shadow:none; padding:0;\">e</abbr></a></li></ul></div><div id=\"Nintendo_franchises\" style=\"font-size:114%;margin:0 4em\"><a href=\"/wiki/Nintendo\" title=\"Nintendo\">Nintendo</a> franchises</div></th></tr><tr><th scope=\"row\" class=\"navbox-group\" style=\"width:1%\"><i><a href=\"/wiki/Mario_(franchise)\" title=\"Mario (franchise)\">Mario</a></i></th><td class=\"navbox-list navbox-odd hlist\" style=\"text-align:left;border-left-width:2px;border-left-style:solid;width:100%;padding:0px\"><div style=\"padding:0em 0.25em\">\n",
      "<ul><li><i><a href=\"/wiki/Super_Mario\" title=\"Super Mario\">Super Mario</a></i></li>\n",
      "<li><i><a href=\"/wiki/Mario_Kart\" title=\"Mario Kart\">Mario Kart</a></i></li>\n",
      "<li><i><a href=\"/wiki/Mario_Party\" title=\"Mario Party\">Mario Party</a></i></li>\n",
      "<li><i><a href=\"/wiki/Dr._Mario_(series)\" class=\"mw-redirect\" title=\"Dr. Mario (series)\">Dr. Mario</a></i></li>\n",
      "<li><i><a href=\"/wiki/Donkey_Kong\" title=\"Donkey Kong\">Donkey Kong</a></i></li>\n",
      "<li><i><a href=\"/wiki/List_of_Luigi_video_games\" title=\"List of Luigi video games\">Luigi</a></i></li>\n",
      "<li><i><a href=\"/wiki/Wario_(series)\" title=\"Wario (series)\">Wario</a></i></li>\n",
      "<li><i><a href=\"/wiki/Yoshi_(series)\" class=\"mw-redirect\" title=\"Yoshi (series)\">Yoshi</a></i></li></ul>\n",
      "</div></td></tr><tr><th scope=\"row\" class=\"navbox-group\" style=\"width:1%\">Other</th><td class=\"navbox-list navbox-even hlist\" style=\"text-align:left;border-left-width:2px;border-left-style:solid;width:100%;padding:0px\"><div style=\"padding:0em 0.25em\">\n",
      "<ul><li><i><a class=\"mw-selflink selflink\">Animal Crossing</a></i></li>\n",
      "<li><i><a href=\"/wiki/Art_Style\" title=\"Art Style\">Art Style</a></i></li>\n",
      "<li><i><a href=\"/wiki/Bit_Generations\" title=\"Bit Generations\">Bit Generations</a></i></li>\n",
      "<li><i><a href=\"/wiki/Brain_Age\" title=\"Brain Age\">Brain Age</a></i></li>\n",
      "<li><i><a href=\"/wiki/Chibi-Robo!\" title=\"Chibi-Robo!\">Chibi-Robo!</a></i></li>\n",
      "<li><i><a href=\"/wiki/Cruis%27n\" title=\"Cruis&#39;n\">Cruis'n</a></i></li>\n",
      "<li><i><a href=\"/wiki/Custom_Robo\" title=\"Custom Robo\">Custom Robo</a></i></li>\n",
      "<li><i><a href=\"/wiki/F-Zero\" title=\"F-Zero\">F-Zero</a></i></li>\n",
      "<li><i><a href=\"/wiki/Fire_Emblem\" title=\"Fire Emblem\">Fire Emblem</a></i></li>\n",
      "<li><i><a href=\"/wiki/Golden_Sun\" title=\"Golden Sun\">Golden Sun</a></i></li>\n",
      "<li><i><a href=\"/wiki/Kid_Icarus_(series)\" title=\"Kid Icarus (series)\">Kid Icarus</a></i></li>\n",
      "<li><i><a href=\"/wiki/Kirby_(series)\" title=\"Kirby (series)\">Kirby</a></i></li>\n",
      "<li><i><a href=\"/wiki/The_Legendary_Starfy\" title=\"The Legendary Starfy\">The Legendary Starfy</a></i></li>\n",
      "<li><i><a href=\"/wiki/The_Legend_of_Zelda\" title=\"The Legend of Zelda\">The Legend of Zelda</a></i></li>\n",
      "<li><i><a href=\"/wiki/Metroid\" title=\"Metroid\">Metroid</a></i></li>\n",
      "<li><i><a href=\"/wiki/Mother_(video_game_series)\" title=\"Mother (video game series)\">Mother</a></i></li>\n",
      "<li><i><a href=\"/wiki/Pikmin\" title=\"Pikmin\">Pikmin</a></i></li>\n",
      "<li><i><a href=\"/wiki/Pilotwings\" title=\"Pilotwings\">Pilotwings</a></i></li>\n",
      "<li><i><a href=\"/wiki/Pok%C3%A9mon_(video_game_series)\" title=\"Pokémon (video game series)\">Pokémon</a></i></li>\n",
      "<li><i><a href=\"/wiki/Punch-Out!!\" title=\"Punch-Out!!\">Punch-Out!!</a></i></li>\n",
      "<li><i><a href=\"/wiki/Puzzle_League\" title=\"Puzzle League\">Puzzle League</a></i></li>\n",
      "<li><i><a href=\"/wiki/Splatoon_(series)\" title=\"Splatoon (series)\">Splatoon</a></i></li>\n",
      "<li><i><a href=\"/wiki/Star_Fox\" title=\"Star Fox\">Star Fox</a></i></li>\n",
      "<li><i><a href=\"/wiki/Super_Smash_Bros.\" title=\"Super Smash Bros.\">Super Smash Bros.</a></i></li>\n",
      "<li><i><a href=\"/wiki/Touch!_Generations\" title=\"Touch! Generations\">Touch! Generations</a></i></li>\n",
      "<li><i><a href=\"/wiki/Wars_(series)\" title=\"Wars (series)\">Wars</a></i></li>\n",
      "<li><i><a href=\"/wiki/Wii_(video_game_series)\" title=\"Wii (video game series)\">Wii</a></i></li>\n",
      "<li><i><a href=\"/wiki/Xenoblade_Chronicles\" title=\"Xenoblade Chronicles\">Xenoblade Chronicles</a></i></li></ul>\n",
      "</div></td></tr></tbody></table></div>\n",
      "<div role=\"navigation\" class=\"navbox authority-control\" aria-labelledby=\"Authority_control_frameless_&amp;#124;text-top_&amp;#124;10px_&amp;#124;alt=Edit_this_at_Wikidata_&amp;#124;link=https&amp;#58;//www.wikidata.org/wiki/Q1139803&amp;#124;Edit_this_at_Wikidata\" style=\"padding:3px\"><table class=\"nowraplinks hlist navbox-inner\" style=\"border-spacing:0;background:transparent;color:inherit\"><tbody><tr><th id=\"Authority_control_frameless_&amp;#124;text-top_&amp;#124;10px_&amp;#124;alt=Edit_this_at_Wikidata_&amp;#124;link=https&amp;#58;//www.wikidata.org/wiki/Q1139803&amp;#124;Edit_this_at_Wikidata\" scope=\"row\" class=\"navbox-group\" style=\"width:1%\"><a href=\"/wiki/Help:Authority_control\" title=\"Help:Authority control\">Authority control</a> <a href=\"https://www.wikidata.org/wiki/Q1139803\" title=\"Edit this at Wikidata\"><img alt=\"Edit this at Wikidata\" src=\"//upload.wikimedia.org/wikipedia/en/thumb/8/8a/OOjs_UI_icon_edit-ltr-progressive.svg/10px-OOjs_UI_icon_edit-ltr-progressive.svg.png\" decoding=\"async\" width=\"10\" height=\"10\" style=\"vertical-align: text-top\" srcset=\"//upload.wikimedia.org/wikipedia/en/thumb/8/8a/OOjs_UI_icon_edit-ltr-progressive.svg/15px-OOjs_UI_icon_edit-ltr-progressive.svg.png 1.5x, //upload.wikimedia.org/wikipedia/en/thumb/8/8a/OOjs_UI_icon_edit-ltr-progressive.svg/20px-OOjs_UI_icon_edit-ltr-progressive.svg.png 2x\" data-file-width=\"20\" data-file-height=\"20\" /></a></th><td class=\"navbox-list navbox-odd\" style=\"text-align:left;border-left-width:2px;border-left-style:solid;width:100%;padding:0px\"><div style=\"padding:0em 0.25em\">\n",
      "<ul><li><span class=\"nowrap\"><a href=\"/wiki/Integrated_Authority_File\" title=\"Integrated Authority File\">GND</a>: <span class=\"uid\"><a rel=\"nofollow\" class=\"external text\" href=\"https://d-nb.info/gnd/7535154-7\">7535154-7</a></span></span></li></ul>\n",
      "</div></td></tr></tbody></table></div></div>\n"
     ]
    }
   ],
   "source": [
    "# wiki.page().html() to get full article page in html\n",
    "print(wiki.page('Animal Crossing').html())"
   ]
  },
  {
   "cell_type": "code",
   "execution_count": 35,
   "metadata": {},
   "outputs": [
    {
     "name": "stdout",
     "output_type": "stream",
     "text": [
      "['Mercury (element)', 'Mercury (mythology)', 'Mercury (planet)', 'Mercury (Marvel Comics)', 'Makkari (comics)', 'Metal Men', \"Cerebro's X-Men\", 'an Amalgam Comics character', 'a character in the RWBY web series', 'Young Adult', 'Mercury (film)', 'Media Resource Centre', 'Mercury (2005 novel)', 'Mercury (2016 novel)', 'Mercury (magazine)', 'The American Mercury', 'Mercury (newspaper)', 'Anna Kavan', 'Mercury (Longview album)', 'Mercury (American Music Club album)', 'Mercury (Madder Mortem album)', '\"Mercury\" (song)', 'Failer', 'Recovering the Satellites', 'Planetarium', 'Mercury Records', 'Mercury Prize', 'The Planets', 'Heart Hertfordshire', 'Mercury FM', 'Mercury (TV series)', \"Archer Maclean's Mercury\", 'Mercury (toy manufacturer)', 'Mercury Communications', 'Mercury Drug', 'Mercury Energy', 'Mercury Insurance Group', 'Mercury Interactive', 'Mercury Marine', 'Mercury Systems', 'Shuttle America', 'Mercury (name)', 'Daniela Mercury', 'Freddie Mercury', 'Mercury Morris', 'List of places in Alabama', 'Mercury Bay', 'Mercury Boulevard', 'Mercury, Nevada', 'Mercury, Savoie', 'Mercury, Texas', 'The Mercury Mall', 'Mercury (plant)', 'Annual mercury', 'Blitum bonus-henricus', 'Edmonton Mercurys', 'Fujita Soccer Club Mercury', 'Memphis Mercury', 'Phoenix Mercury', 'Toledo Mercurys', 'Ferranti Mercury', 'Mercury (programming language)', 'Mercury (metadata search system)', 'Mercury Mail Transport System', 'Mercury Browser', 'Mercury (satellite)', 'Project Mercury', 'Mercury (cipher machine)', 'Blackburn Mercury', 'Boeing E-6 Mercury', 'Bristol Mercury', 'Miles Mercury', 'Mercury (automobile)', 'Mercury (cyclecar)', 'Mercury (train)', 'HMS Mercury', 'USS Mercury', 'Russian brig Mercury', 'Mercury (pigeon)', 'Operation Mercury', 'All pages with titles beginning with Mercury ', 'All pages with titles containing Mercury', 'Mercur (disambiguation)', 'Mercure (disambiguation)', 'Mercurio (disambiguation)', 'Mercurius (disambiguation)', 'Mercury 1 (disambiguation)', 'Mercury 2 (disambiguation)', 'Mercury 3 (disambiguation)', 'Mercury 4 (disambiguation)', 'Mercury 5 (disambiguation)', 'Mercury 6 (disambiguation)', 'Mercury 7 (disambiguation)', 'Mercury 8 (disambiguation)', 'Mercury City (disambiguation)', 'Mercury FM (disambiguation)', 'Mercury House (disambiguation)', 'Mercury mission (disambiguation)', 'Mercury program (disambiguation)', 'Mercury project (disambiguation)', 'Merkur (disambiguation)', 'Hg (disambiguation)', 'Isotopes of mercury']\n"
     ]
    }
   ],
   "source": [
    "try:\n",
    "    print(wiki.summary('Mercury'))\n",
    "except wiki.exceptions.DisambiguationError as e:\n",
    "    print(e.options)"
   ]
  },
  {
   "cell_type": "code",
   "execution_count": null,
   "metadata": {},
   "outputs": [],
   "source": []
  }
 ],
 "metadata": {
  "kernelspec": {
   "display_name": "Python 3",
   "language": "python",
   "name": "python3"
  },
  "language_info": {
   "codemirror_mode": {
    "name": "ipython",
    "version": 3
   },
   "file_extension": ".py",
   "mimetype": "text/x-python",
   "name": "python",
   "nbconvert_exporter": "python",
   "pygments_lexer": "ipython3",
   "version": "3.7.3"
  }
 },
 "nbformat": 4,
 "nbformat_minor": 2
}
