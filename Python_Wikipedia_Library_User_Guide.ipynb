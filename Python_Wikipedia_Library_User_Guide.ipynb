{
 "cells": [
  {
   "cell_type": "markdown",
   "metadata": {},
   "source": [
    "# Python Wikipedia Library User Guide"
   ]
  },
  {
   "cell_type": "markdown",
   "metadata": {},
   "source": [
    "## Deepak Sithu"
   ]
  },
  {
   "cell_type": "markdown",
   "metadata": {},
   "source": [
    "## Table of Contents\n",
    "- [Overview](#overview)\n",
    "- [Initial Exploration](#exploration)\n",
    "- [Data Wrangling](#wrangling)\n",
    "- [Data Cleaning](#cleaning)\n",
    "- [Analysis](#analysis)\n",
    "- [Conclusion](#conclusion)"
   ]
  },
  {
   "cell_type": "markdown",
   "metadata": {},
   "source": [
    "## Overview <a class=\"anchor\" id=\"overview\"></a>"
   ]
  },
  {
   "cell_type": "code",
   "execution_count": 1,
   "metadata": {},
   "outputs": [],
   "source": [
    "# import libraries\n",
    "import wikipedia as wiki"
   ]
  },
  {
   "cell_type": "code",
   "execution_count": 2,
   "metadata": {},
   "outputs": [
    {
     "name": "stdout",
     "output_type": "stream",
     "text": [
      "['Bill', 'The Bill', 'Bill Gates', 'Bill Clinton', 'Bill Simmons', 'Ill Bill', 'Bill Rieflin', 'Bill Moyers', 'Bill Hicks', 'Buffalo Bill']\n"
     ]
    }
   ],
   "source": [
    "# .search() method finds article titles containing a term\n",
    "print(wiki.search(\"Bill\"))"
   ]
  },
  {
   "cell_type": "code",
   "execution_count": 3,
   "metadata": {},
   "outputs": [
    {
     "name": "stdout",
     "output_type": "stream",
     "text": [
      "['Bill', 'The Bill']\n"
     ]
    }
   ],
   "source": [
    "# limit results of search\n",
    "print(wiki.search(\"Bill\", results = 2))"
   ]
  },
  {
   "cell_type": "code",
   "execution_count": 4,
   "metadata": {},
   "outputs": [
    {
     "name": "stdout",
     "output_type": "stream",
     "text": [
      "['Bill', 'The Bill', 'Bill Gates', 'Bill Clinton', 'Bill Simmons', 'Ill Bill', 'Bill Finger', 'Bill Nye', 'Bill Skarsgård', 'Bill Rieflin', 'Bill Blass', 'Bill Moyers', 'Bill Hicks', 'Buffalo Bill', 'Bill Doolin', 'Bill Fitch', 'Bill Wurtz', 'Appropriation bill', 'Bill of materials', 'Bill Wyman', 'Bill Shankly', 'Bill Bryson', 'Bill Cassidy', 'Bill Withers', 'Bill Bidwill', 'Bill Dundee', 'Bill Maher', 'Bill Hemmer', 'Bills, Bills, Bills', 'Bill Shorten', 'Bill of lading', 'Bill Plympton', 'Bill Monroe', 'Bill Oddie', 'Bill Fagerbakke', 'Bill Tilden', 'Heartbeat bill', 'Bill Haley', 'Bill Parcells', 'Bill of rights', 'Bill (weapon)', 'Bill James', 'Mr. Bill', 'Bill Engvall', 'Little Bill', 'Kill Bill: Volume 1', 'Bill Murray', 'Bill Kurtis', 'Bill Frist', 'Bill English', 'Bill W.', 'Bill Condon', 'Bill Laimbeer', 'Bill Kristol', 'Bill Ryan', 'Bill Medley', 'Bill Cosby', 'Bill Nelson', 'Bill Robinson', 'Private bill', 'Buffalo Bills', 'Bill Burr', 'Bill Payne', 'Bill Mumy', 'Bill Haywood', 'Bill Melendez', 'Bill Kreutzmann', 'Bill Nighy', 'Bill Belichick', 'Bathroom bill', 'Bill Cash', 'Bill Cowher', 'Bill Walton', 'Bill Kazmaier', 'Bill Weld', 'Bill Watterson', 'Bill Evans', 'Bill Mazeroski', 'Bill Marriott', 'Bill Mitchell', 'Bill Watts', 'Bill Bradley', 'Bill Paxton', 'Money bill', 'Bill Willingham', 'Bill Ayers', 'Bill Hader', 'Bill Pickett', 'Bill Frisell', 'Bill Schuette', 'Bill Oakley', 'Bill Sharman', 'Bill Pascrell', 'Bill Sikes', 'Bill of attainder', 'Bill Cartwright', 'Pecos Bill', 'Bill Self', 'Bill Moseley', 'Max Bill']\n"
     ]
    }
   ],
   "source": [
    "# increase results of search\n",
    "print(wiki.search(\"Bill\", results = 100))"
   ]
  },
  {
   "cell_type": "code",
   "execution_count": 5,
   "metadata": {},
   "outputs": [
    {
     "name": "stdout",
     "output_type": "stream",
     "text": [
      "buffalo bills\n"
     ]
    }
   ],
   "source": [
    "# .suggest() method finds article titles similar to term\n",
    "print(wiki.suggest('buffal bill'))"
   ]
  },
  {
   "cell_type": "code",
   "execution_count": 6,
   "metadata": {},
   "outputs": [
    {
     "name": "stdout",
     "output_type": "stream",
     "text": [
      "Kill Bill: Volume 1 is a 2003 American martial arts film written and directed by Quentin Tarantino. It stars Uma Thurman as the Bride, who swears revenge on a team of assassins (Lucy Liu, Michael Madsen, Daryl Hannah, and Vivica A. Fox) and their leader, Bill (David Carradine), after they try to kill her and her unborn child. Her journey takes her to Tokyo, where she battles the yakuza.\n",
      "Tarantino conceived Kill Bill as an homage to grindhouse cinema, including martial arts films, samurai cinema, blaxploitation films, and spaghetti Westerns. It features an anime sequence by Production I.G. It is the first of two Kill Bill films made in a single production; the films were originally set for a single release, but the film, with a runtime of over four hours, was divided in two. Volume 1 became Tarantino's highest-grossing film up to that point, earning over $180 million at the box office. Kill Bill: Volume 2 was released the next year, on April 16, 2004.\n"
     ]
    }
   ],
   "source": [
    "# .summary() method shows summary of requested article\n",
    "print(wiki.summary('Kill Bill'))"
   ]
  },
  {
   "cell_type": "code",
   "execution_count": 7,
   "metadata": {},
   "outputs": [
    {
     "name": "stdout",
     "output_type": "stream",
     "text": [
      "Eldrick Tont \"Tiger\" Woods (born December 30, 1975) is an American professional golfer. He is tied for first in PGA Tour wins and ranks second in men's major championships and also holds numerous golf records. Woods is widely regarded as one of the greatest golfers, and one of the most famous athletes of all time.\n"
     ]
    }
   ],
   "source": [
    "# limit summary by number of sentences\n",
    "print(wiki.summary('Tiger Woods', sentences = 3))"
   ]
  },
  {
   "cell_type": "code",
   "execution_count": 8,
   "metadata": {},
   "outputs": [
    {
     "name": "stderr",
     "output_type": "stream",
     "text": [
      "C:\\Users\\deepak\\Anaconda3\\lib\\site-packages\\wikipedia\\wikipedia.py:389: UserWarning: No parser was explicitly specified, so I'm using the best available HTML parser for this system (\"lxml\"). This usually isn't a problem, but if you run this code on another system, or in a different virtual environment, it may use a different parser and behave differently.\n",
      "\n",
      "The code that caused this warning is on line 389 of the file C:\\Users\\deepak\\Anaconda3\\lib\\site-packages\\wikipedia\\wikipedia.py. To get rid of this warning, pass the additional argument 'features=\"lxml\"' to the BeautifulSoup constructor.\n",
      "\n",
      "  lis = BeautifulSoup(html).find_all('li')\n"
     ]
    },
    {
     "ename": "DisambiguationError",
     "evalue": "\"Key\" may refer to: \nKey (cryptography)\nKey (lock)\nKey (map)\ntypewriter\ntest\nCay\nKey, Alabama\nKey, Ohio\nKey, West Virginia\nKeys, Oklahoma\nFlorida Keys\nKey, Iran\nKey Island\nKey (music)\nKey (instrument)\nkeyboard instruments\nKey (Meredith Monk album)\nKey (Son, Ambulance album)\nMaid in Japan\nKey (comics)\nThe Key (Elfgren and Strandberg novel)\nKey the Metal Idol\nKirby's Epic Yarn\n\"The Keys\" (Seinfeld)\nKey (entertainer)\nKey (surname)\nKeys (surname)\nKey (basketball)\nFrederick Keys\nKey (computing)\nKey (engineering)\nKeY\nKeynote\nTelegraph key\nKey (company)\ntruce term\nAmazon\nHouse of Keys\nSamara (fruit)\nAll pages with titles beginning with Key \nAll pages with titles containing Key\nKeay\nKeyes (disambiguation)\nKeying (disambiguation)\nQuay (disambiguation)\nQi (disambiguation)\nThe Key (disambiguation)\nThe Keys (disambiguation)",
     "output_type": "error",
     "traceback": [
      "\u001b[1;31m---------------------------------------------------------------------------\u001b[0m",
      "\u001b[1;31mDisambiguationError\u001b[0m                       Traceback (most recent call last)",
      "\u001b[1;32m<ipython-input-8-04637919c079>\u001b[0m in \u001b[0;36m<module>\u001b[1;34m\u001b[0m\n\u001b[0;32m      2\u001b[0m \u001b[1;31m# requested page doesn't exist or,\u001b[0m\u001b[1;33m\u001b[0m\u001b[1;33m\u001b[0m\u001b[1;33m\u001b[0m\u001b[0m\n\u001b[0;32m      3\u001b[0m \u001b[1;31m# request is disambiguous\u001b[0m\u001b[1;33m\u001b[0m\u001b[1;33m\u001b[0m\u001b[1;33m\u001b[0m\u001b[0m\n\u001b[1;32m----> 4\u001b[1;33m \u001b[0mprint\u001b[0m\u001b[1;33m(\u001b[0m\u001b[0mwiki\u001b[0m\u001b[1;33m.\u001b[0m\u001b[0msummary\u001b[0m\u001b[1;33m(\u001b[0m\u001b[1;34m'key'\u001b[0m\u001b[1;33m)\u001b[0m\u001b[1;33m)\u001b[0m\u001b[1;33m\u001b[0m\u001b[1;33m\u001b[0m\u001b[0m\n\u001b[0m",
      "\u001b[1;32m~\\Anaconda3\\lib\\site-packages\\wikipedia\\util.py\u001b[0m in \u001b[0;36m__call__\u001b[1;34m(self, *args, **kwargs)\u001b[0m\n\u001b[0;32m     26\u001b[0m       \u001b[0mret\u001b[0m \u001b[1;33m=\u001b[0m \u001b[0mself\u001b[0m\u001b[1;33m.\u001b[0m\u001b[0m_cache\u001b[0m\u001b[1;33m[\u001b[0m\u001b[0mkey\u001b[0m\u001b[1;33m]\u001b[0m\u001b[1;33m\u001b[0m\u001b[1;33m\u001b[0m\u001b[0m\n\u001b[0;32m     27\u001b[0m     \u001b[1;32melse\u001b[0m\u001b[1;33m:\u001b[0m\u001b[1;33m\u001b[0m\u001b[1;33m\u001b[0m\u001b[0m\n\u001b[1;32m---> 28\u001b[1;33m       \u001b[0mret\u001b[0m \u001b[1;33m=\u001b[0m \u001b[0mself\u001b[0m\u001b[1;33m.\u001b[0m\u001b[0m_cache\u001b[0m\u001b[1;33m[\u001b[0m\u001b[0mkey\u001b[0m\u001b[1;33m]\u001b[0m \u001b[1;33m=\u001b[0m \u001b[0mself\u001b[0m\u001b[1;33m.\u001b[0m\u001b[0mfn\u001b[0m\u001b[1;33m(\u001b[0m\u001b[1;33m*\u001b[0m\u001b[0margs\u001b[0m\u001b[1;33m,\u001b[0m \u001b[1;33m**\u001b[0m\u001b[0mkwargs\u001b[0m\u001b[1;33m)\u001b[0m\u001b[1;33m\u001b[0m\u001b[1;33m\u001b[0m\u001b[0m\n\u001b[0m\u001b[0;32m     29\u001b[0m \u001b[1;33m\u001b[0m\u001b[0m\n\u001b[0;32m     30\u001b[0m     \u001b[1;32mreturn\u001b[0m \u001b[0mret\u001b[0m\u001b[1;33m\u001b[0m\u001b[1;33m\u001b[0m\u001b[0m\n",
      "\u001b[1;32m~\\Anaconda3\\lib\\site-packages\\wikipedia\\wikipedia.py\u001b[0m in \u001b[0;36msummary\u001b[1;34m(title, sentences, chars, auto_suggest, redirect)\u001b[0m\n\u001b[0;32m    229\u001b[0m   \u001b[1;31m# use auto_suggest and redirect to get the correct article\u001b[0m\u001b[1;33m\u001b[0m\u001b[1;33m\u001b[0m\u001b[1;33m\u001b[0m\u001b[0m\n\u001b[0;32m    230\u001b[0m   \u001b[1;31m# also, use page's error checking to raise DisambiguationError if necessary\u001b[0m\u001b[1;33m\u001b[0m\u001b[1;33m\u001b[0m\u001b[1;33m\u001b[0m\u001b[0m\n\u001b[1;32m--> 231\u001b[1;33m   \u001b[0mpage_info\u001b[0m \u001b[1;33m=\u001b[0m \u001b[0mpage\u001b[0m\u001b[1;33m(\u001b[0m\u001b[0mtitle\u001b[0m\u001b[1;33m,\u001b[0m \u001b[0mauto_suggest\u001b[0m\u001b[1;33m=\u001b[0m\u001b[0mauto_suggest\u001b[0m\u001b[1;33m,\u001b[0m \u001b[0mredirect\u001b[0m\u001b[1;33m=\u001b[0m\u001b[0mredirect\u001b[0m\u001b[1;33m)\u001b[0m\u001b[1;33m\u001b[0m\u001b[1;33m\u001b[0m\u001b[0m\n\u001b[0m\u001b[0;32m    232\u001b[0m   \u001b[0mtitle\u001b[0m \u001b[1;33m=\u001b[0m \u001b[0mpage_info\u001b[0m\u001b[1;33m.\u001b[0m\u001b[0mtitle\u001b[0m\u001b[1;33m\u001b[0m\u001b[1;33m\u001b[0m\u001b[0m\n\u001b[0;32m    233\u001b[0m   \u001b[0mpageid\u001b[0m \u001b[1;33m=\u001b[0m \u001b[0mpage_info\u001b[0m\u001b[1;33m.\u001b[0m\u001b[0mpageid\u001b[0m\u001b[1;33m\u001b[0m\u001b[1;33m\u001b[0m\u001b[0m\n",
      "\u001b[1;32m~\\Anaconda3\\lib\\site-packages\\wikipedia\\wikipedia.py\u001b[0m in \u001b[0;36mpage\u001b[1;34m(title, pageid, auto_suggest, redirect, preload)\u001b[0m\n\u001b[0;32m    274\u001b[0m         \u001b[1;31m# if there is no suggestion or search results, the page doesn't exist\u001b[0m\u001b[1;33m\u001b[0m\u001b[1;33m\u001b[0m\u001b[1;33m\u001b[0m\u001b[0m\n\u001b[0;32m    275\u001b[0m         \u001b[1;32mraise\u001b[0m \u001b[0mPageError\u001b[0m\u001b[1;33m(\u001b[0m\u001b[0mtitle\u001b[0m\u001b[1;33m)\u001b[0m\u001b[1;33m\u001b[0m\u001b[1;33m\u001b[0m\u001b[0m\n\u001b[1;32m--> 276\u001b[1;33m     \u001b[1;32mreturn\u001b[0m \u001b[0mWikipediaPage\u001b[0m\u001b[1;33m(\u001b[0m\u001b[0mtitle\u001b[0m\u001b[1;33m,\u001b[0m \u001b[0mredirect\u001b[0m\u001b[1;33m=\u001b[0m\u001b[0mredirect\u001b[0m\u001b[1;33m,\u001b[0m \u001b[0mpreload\u001b[0m\u001b[1;33m=\u001b[0m\u001b[0mpreload\u001b[0m\u001b[1;33m)\u001b[0m\u001b[1;33m\u001b[0m\u001b[1;33m\u001b[0m\u001b[0m\n\u001b[0m\u001b[0;32m    277\u001b[0m   \u001b[1;32melif\u001b[0m \u001b[0mpageid\u001b[0m \u001b[1;32mis\u001b[0m \u001b[1;32mnot\u001b[0m \u001b[1;32mNone\u001b[0m\u001b[1;33m:\u001b[0m\u001b[1;33m\u001b[0m\u001b[1;33m\u001b[0m\u001b[0m\n\u001b[0;32m    278\u001b[0m     \u001b[1;32mreturn\u001b[0m \u001b[0mWikipediaPage\u001b[0m\u001b[1;33m(\u001b[0m\u001b[0mpageid\u001b[0m\u001b[1;33m=\u001b[0m\u001b[0mpageid\u001b[0m\u001b[1;33m,\u001b[0m \u001b[0mpreload\u001b[0m\u001b[1;33m=\u001b[0m\u001b[0mpreload\u001b[0m\u001b[1;33m)\u001b[0m\u001b[1;33m\u001b[0m\u001b[1;33m\u001b[0m\u001b[0m\n",
      "\u001b[1;32m~\\Anaconda3\\lib\\site-packages\\wikipedia\\wikipedia.py\u001b[0m in \u001b[0;36m__init__\u001b[1;34m(self, title, pageid, redirect, preload, original_title)\u001b[0m\n\u001b[0;32m    297\u001b[0m       \u001b[1;32mraise\u001b[0m \u001b[0mValueError\u001b[0m\u001b[1;33m(\u001b[0m\u001b[1;34m\"Either a title or a pageid must be specified\"\u001b[0m\u001b[1;33m)\u001b[0m\u001b[1;33m\u001b[0m\u001b[1;33m\u001b[0m\u001b[0m\n\u001b[0;32m    298\u001b[0m \u001b[1;33m\u001b[0m\u001b[0m\n\u001b[1;32m--> 299\u001b[1;33m     \u001b[0mself\u001b[0m\u001b[1;33m.\u001b[0m\u001b[0m__load\u001b[0m\u001b[1;33m(\u001b[0m\u001b[0mredirect\u001b[0m\u001b[1;33m=\u001b[0m\u001b[0mredirect\u001b[0m\u001b[1;33m,\u001b[0m \u001b[0mpreload\u001b[0m\u001b[1;33m=\u001b[0m\u001b[0mpreload\u001b[0m\u001b[1;33m)\u001b[0m\u001b[1;33m\u001b[0m\u001b[1;33m\u001b[0m\u001b[0m\n\u001b[0m\u001b[0;32m    300\u001b[0m \u001b[1;33m\u001b[0m\u001b[0m\n\u001b[0;32m    301\u001b[0m     \u001b[1;32mif\u001b[0m \u001b[0mpreload\u001b[0m\u001b[1;33m:\u001b[0m\u001b[1;33m\u001b[0m\u001b[1;33m\u001b[0m\u001b[0m\n",
      "\u001b[1;32m~\\Anaconda3\\lib\\site-packages\\wikipedia\\wikipedia.py\u001b[0m in \u001b[0;36m__load\u001b[1;34m(self, redirect, preload)\u001b[0m\n\u001b[0;32m    391\u001b[0m       \u001b[0mmay_refer_to\u001b[0m \u001b[1;33m=\u001b[0m \u001b[1;33m[\u001b[0m\u001b[0mli\u001b[0m\u001b[1;33m.\u001b[0m\u001b[0ma\u001b[0m\u001b[1;33m.\u001b[0m\u001b[0mget_text\u001b[0m\u001b[1;33m(\u001b[0m\u001b[1;33m)\u001b[0m \u001b[1;32mfor\u001b[0m \u001b[0mli\u001b[0m \u001b[1;32min\u001b[0m \u001b[0mfiltered_lis\u001b[0m \u001b[1;32mif\u001b[0m \u001b[0mli\u001b[0m\u001b[1;33m.\u001b[0m\u001b[0ma\u001b[0m\u001b[1;33m]\u001b[0m\u001b[1;33m\u001b[0m\u001b[1;33m\u001b[0m\u001b[0m\n\u001b[0;32m    392\u001b[0m \u001b[1;33m\u001b[0m\u001b[0m\n\u001b[1;32m--> 393\u001b[1;33m       \u001b[1;32mraise\u001b[0m \u001b[0mDisambiguationError\u001b[0m\u001b[1;33m(\u001b[0m\u001b[0mgetattr\u001b[0m\u001b[1;33m(\u001b[0m\u001b[0mself\u001b[0m\u001b[1;33m,\u001b[0m \u001b[1;34m'title'\u001b[0m\u001b[1;33m,\u001b[0m \u001b[0mpage\u001b[0m\u001b[1;33m[\u001b[0m\u001b[1;34m'title'\u001b[0m\u001b[1;33m]\u001b[0m\u001b[1;33m)\u001b[0m\u001b[1;33m,\u001b[0m \u001b[0mmay_refer_to\u001b[0m\u001b[1;33m)\u001b[0m\u001b[1;33m\u001b[0m\u001b[1;33m\u001b[0m\u001b[0m\n\u001b[0m\u001b[0;32m    394\u001b[0m \u001b[1;33m\u001b[0m\u001b[0m\n\u001b[0;32m    395\u001b[0m     \u001b[1;32melse\u001b[0m\u001b[1;33m:\u001b[0m\u001b[1;33m\u001b[0m\u001b[1;33m\u001b[0m\u001b[0m\n",
      "\u001b[1;31mDisambiguationError\u001b[0m: \"Key\" may refer to: \nKey (cryptography)\nKey (lock)\nKey (map)\ntypewriter\ntest\nCay\nKey, Alabama\nKey, Ohio\nKey, West Virginia\nKeys, Oklahoma\nFlorida Keys\nKey, Iran\nKey Island\nKey (music)\nKey (instrument)\nkeyboard instruments\nKey (Meredith Monk album)\nKey (Son, Ambulance album)\nMaid in Japan\nKey (comics)\nThe Key (Elfgren and Strandberg novel)\nKey the Metal Idol\nKirby's Epic Yarn\n\"The Keys\" (Seinfeld)\nKey (entertainer)\nKey (surname)\nKeys (surname)\nKey (basketball)\nFrederick Keys\nKey (computing)\nKey (engineering)\nKeY\nKeynote\nTelegraph key\nKey (company)\ntruce term\nAmazon\nHouse of Keys\nSamara (fruit)\nAll pages with titles beginning with Key \nAll pages with titles containing Key\nKeay\nKeyes (disambiguation)\nKeying (disambiguation)\nQuay (disambiguation)\nQi (disambiguation)\nThe Key (disambiguation)\nThe Keys (disambiguation)"
     ]
    }
   ],
   "source": [
    "# summary will raise 'DisambiguationError' if:\n",
    "# requested page doesn't exist or,\n",
    "# request is disambiguous\n",
    "print(wiki.summary('key'))"
   ]
  },
  {
   "cell_type": "code",
   "execution_count": 9,
   "metadata": {},
   "outputs": [
    {
     "name": "stdout",
     "output_type": "stream",
     "text": [
      "Public-key cryptography, or asymmetric cryptography, is a cryptographic system that uses pairs of keys: public keys which may be disseminated widely, and private keys which are known only to the owner. The generation of such keys depends on cryptographic algorithms based on mathematical problems to produce one-way functions. Effective security only requires keeping the private key private; the public key can be openly distributed without compromising security.In such a system, any person can encrypt a message using the receiver's public key, but that encrypted message can only be decrypted with the receiver's private key.\n",
      "Robust authentication is also possible. A sender can combine a message with a private key to create a short digital signature on the message.  Anyone with the sender's corresponding public key can combine the same message and the supposed digital signature associated with it to verify whether the signature was valid, i.e. made by the owner of the corresponding private key.Public key algorithms are fundamental security ingredients in modern cryptosystems, applications and protocols assuring the confidentiality, authenticity and non-repudiability of electronic communications and data storage. They underpin various Internet standards, such as  Transport Layer Security (TLS), S/MIME, PGP, and GPG. Some public key algorithms provide key distribution and secrecy (e.g., Diffie–Hellman key exchange), some provide digital signatures (e.g., Digital Signature Algorithm), and some provide both (e.g., RSA).\n",
      "\n",
      "\n"
     ]
    }
   ],
   "source": [
    "# to get summary of a specific 'key' article\n",
    "print(wiki.summary('key (cryptography)'))"
   ]
  },
  {
   "cell_type": "code",
   "execution_count": 10,
   "metadata": {},
   "outputs": [
    {
     "data": {
      "text/plain": [
       "<WikipediaPage 'Animal Crossing'>"
      ]
     },
     "execution_count": 10,
     "metadata": {},
     "output_type": "execute_result"
    }
   ],
   "source": [
    "# wiki.page() to create a WikipediaPage object\n",
    "# contains contents, categories, coordinates, images, links,\n",
    "# and other metadata from article page\n",
    "wiki.page('Animal Crossing')"
   ]
  },
  {
   "cell_type": "code",
   "execution_count": 11,
   "metadata": {},
   "outputs": [
    {
     "name": "stdout",
     "output_type": "stream",
     "text": [
      "Animal Crossing is a social simulation video game series developed and published by Nintendo and created by Katsuya Eguchi. In Animal Crossing, the player character is a human who lives in a village inhabited by various anthropomorphic animals, carrying out various activities such as fishing, bug catching, and fossil hunting. The series is notable for its open-ended gameplay and extensive use of the video game consoles' internal clock and calendar to simulate real passage of time.\n",
      "Five Animal Crossing games have been released worldwide, one each for the Nintendo 64/iQue Player (enhanced and reissued for the GameCube), Nintendo DS, Wii, Nintendo 3DS and Nintendo Switch. The series has been both critically and commercially successful and has sold over 30 million units worldwide. Three spin-off games have also been released: Animal Crossing: Happy Home Designer for Nintendo 3DS, Animal Crossing: Amiibo Festival for Wii U, and Animal Crossing: Pocket Camp for mobile devices.\n",
      "\n",
      "\n",
      "== Common elements ==\n",
      "\n",
      "\n",
      "=== Characters ===\n",
      "While the series features various villagers for each title, certain prominent characters return in each series installment. Tom Nook is a tanuki character who functions as both a shop owner and real estate broker, giving the player a loan for their house and allowing them to pay it back with no interest. Mr. Resetti is a mole character who appears from underground whenever players shut off the game without saving, berating them for circumventing one of the game's systems. Due to a new autosave function, he was \"laid off\" from his job in Animal Crossing: New Horizons, although he will be making a return in some form.K.K. Slider is a canine traveling musician based on series composer Kazumi Totaka, and plays on certain nights in the town's club. Afterwards, he gifts the player a free copy of the song played, saying that his music \"wants to be free\". This was seen by some fans as tacit support for music piracy, although Nintendo denied that it was intended as social commentary.\n",
      "\n",
      "\n",
      "=== Gameplay ===\n",
      "In the Animal Crossing games, the player assumes the role of a human character who moves into a rural village populated with anthropomorphic animals and lives there indefinitely. Gameplay is open-ended: players have no defined objectives, but are instead encouraged to spend their time in the village performing any number of activities, which include collecting items, planting plants or other items, and socializing with the village's residents. Animal Crossing games are played in real time, utilizing the video game console's internal clock and calendar. Thus, passage of time in the game world reflects that in reality, as well as the current season and time of day. Some in-game events, such as holidays or the growth of a tree, occur at certain times or require some duration of time to have passed.One notable feature of the Animal Crossing series is the high level of customization available, some of which affects the outcome of the game. The player character is both named and gendered by the real life player at the start of the game, and their appearance can be modified by buying or designing custom clothes and accessories or changing the hairstyle (introduced in Wild World). The player's house can also be furnished, decorated, and later expanded: the player can purchase and collect furniture and place it anywhere in the house, as well as change both the wallpaper and floor designs. While its terrain, building locations, and initial residents are randomly generated when the game is first begun (except in Animal Crossing: New Leaf, in which the player decides between four given towns, and Animal Crossing: New Horizons, in which the player similarly decides between four given islands), the village's name and anthem, as well as some of the residents' catchphrases, are also determined by the player.Collecting items is a major facet of Animal Crossing: the player can explore the village and gather objects, including fruit from trees, seashells, and discarded items. Nearly all objects can be sold for Bells, the in-game currency. Players collect objects to obtain more Bells, which can then be used to buy furniture and clothing, purchase home expansions, invest in stocks, and play games. A number of specialized tools are available for other activities such as fishing and insect collecting. Special items, such as fossils and paintings, may be donated to the village museum. The player can choose to socialize with the other animal residents by engaging in conversation, sending and receiving letters, bartering, or playing hide-and-seek. Residents may move in or out of the village depending on the player's actions.\n",
      "All installments of Animal Crossing allow some form of communication between players, both offline and online. A single village can house up to four human players, though only one can be exploring the village at any given time. The players can interact via written messages through the village post office or bulletin board. The GameCube iteration allowed players to travel to other villages by trading memory cards written with the game data, but all subsequent installments allow players to travel and interact online via Nintendo Wi-Fi Connection, although City Folk also allows the DS Suitcase to travel to others' towns.\n",
      "\n",
      "\n",
      "== Games ==\n",
      "\n",
      "\n",
      "=== Main series ===\n",
      "\n",
      "\n",
      "==== Animal Crossing (2001) ====\n",
      "\n",
      "Animal Crossing originally released in Japan for the Nintendo 64 in 2001. It was enhanced and released on the GameCube the same year. This version was localized and released in North America on September 16, 2002, Australia on October 17, 2003, and Europe on September 24, 2004. An extended version titled \"Dōbutsu no Mori e+\" was released on June 27, 2003 in Japan. The Nintendo 64 version of the game was released in China in 2006 for iQue Player.\n",
      "\n",
      "\n",
      "==== Animal Crossing: Wild World (2005) ====\n",
      "\n",
      "Animal Crossing: Wild World was released for the Nintendo DS in Japan on November 23, 2005, North America on December 5, 2005, Australia on December 8, 2005, and Europe on March 31, 2006. It was the first game in the series to use Nintendo Wi-Fi Connection. The game was later re-released on the Wii U Virtual Console on October 13, 2016, although its Wi-Fi multiplayer feature is unavailable due to the discontinuation of Nintendo Wi-Fi Connection.\n",
      "\n",
      "\n",
      "==== Animal Crossing: City Folk (2008) ====\n",
      "\n",
      "Animal Crossing: City Folk, known as Animal Crossing: Let's Go to the City in Europe and Oceania, was released for the Wii in  North America on November 16, 2008, Japan on November 20, 2008, Australia on December 4, 2008, and Europe on December 5, 2008. It was later released in South Korea in 2010. It was the first Wii game to utilize the Wii Speak, an accessory that allows players to talk to each other during online play.\n",
      "\n",
      "\n",
      "==== Animal Crossing: New Leaf (2012) ====\n",
      "\n",
      "Animal Crossing: New Leaf was announced at E3 2010. It was released for the Nintendo 3DS in Japan on November 8, 2012, North America on June 9, 2013, Europe on June 14, 2013, and Australia on June 15, 2013. For the first time in the series, players are appointed to the role of Mayor.\n",
      "In November 2016, a new update was released along with \"Welcome Amiibo\" in North America and Europe, adding several new locations, items and activities.\n",
      "\n",
      "\n",
      "==== Animal Crossing: New Horizons (2020) ====\n",
      "\n",
      "A game in the series for Nintendo Switch was announced in a Nintendo Direct in September 2018 known as Animal Crossing: New Horizons. Set on a deserted island, it was released on March 20, 2020.\n",
      "\n",
      "\n",
      "=== Spin-off games ===\n",
      "\n",
      "\n",
      "==== Animal Crossing: Happy Home Designer (2015) ====\n",
      "Animal Crossing: Happy Home Designer is a community simulation game for the Nintendo 3DS and the first spin-off of the Animal Crossing series. It was released in Japan on July 30, 2015, North America on September 25, 2015, Europe on October 2, 2015, and Australia on October 3, 2015. The game revolves around designing houses for villagers based on their requests. By scanning Amiibo cards, players can unlock the ability to design special characters' houses. The game has a score of 66 out of 100 on Metacritic, which signifies \"mixed or average reviews\".\n",
      "\n",
      "\n",
      "==== Animal Crossing: Amiibo Festival (2015) ====\n",
      "Animal Crossing: Amiibo Festival is a party game for the Wii U released in November 2015 that heavily utilizes Amiibo. It was met with unfavorable reviews from critics. It was developed by NDcube and Nintendo Entertainment Planning & Development.\n",
      "\n",
      "\n",
      "==== Animal Crossing: Pocket Camp (2017) ====\n",
      "\n",
      "In April 2016, Nintendo announced that an Animal Crossing mobile game, later named as Animal Crossing: Pocket Camp, would be released as a part of their mobile game lineup. The game was soft launched in Australia in October 2017, and released worldwide on November 21, 2017.\n",
      "\n",
      "\n",
      "=== Apps ===\n",
      "Animal Crossing Plaza, a WaraWara Plaza-like app for Wii U. Limited time promotion for Animal Crossing: New Leaf.\n",
      "Animal Crossing Clock, a Clock system app for Nintendo DSi and Nintendo 3DS.\n",
      "Animal Crossing Calculator, a Calculator app for Nintendo DSi and Nintendo 3DS.\n",
      "Photos with Animal Crossing, a Camera app for Nintendo 3DS allowing players to take photos with Animal Crossing characters.\n",
      "\n",
      "\n",
      "== Reception and legacy ==\n",
      "The Animal Crossing games have garnered positive response. The four main series games are among the best-selling video games for their respective consoles. Animal Crossing has sold 2.32 million copies; Wild World 11.75 million; City Folk 3.38 million; New Leaf 12.21 million, and Happy Home Designer 3.04 million. Amiibo Festival was a critical and commercial failure; in Japan it has only sold 26,325 copies. In total, the Animal Crossing franchise has sold over 30 million units.\n",
      "\n",
      "\n",
      "=== Female demographic ===\n",
      "Former president of Nintendo, Satoru Iwata noted that 56% of people who pre-ordered Animal Crossing: New Leaf were female, with many of them purchasing a Nintendo 3DS specifically for the game. He found the game's success with adult women between the ages of 19 to 24 to be particularly noteworthy.\n",
      "\n",
      "\n",
      "== Other media ==\n",
      "\n",
      "An anime film adaptation of Wild World, titled Dōbutsu no Mori, was released in Japan on December 16, 2006. The film was produced by OLM, Inc. and distributed by Toho. Dōbutsu no Mori earned ¥1.8 billion (approximately $19.2 million) in the box office.In the Wii game WarioWare: Smooth Moves, released in Japan in 2006 and Europe, North America and Australia in 2007, there is a minigame that is modeled after Animal Crossing: Wild World, under the same name. The player has to catch a fish using the same mechanics as the original game.\n",
      "The 2008 Wii game Super Smash Bros. Brawl features elements from Wild World. Most prominent is a stage based on the animal village, called \"Smashville\", which changes its scenery in accordance with the Wii system clock and features a number of songs remixed or extracted from the original game. Mr. Resetti and a pitfall seed, which appear in all Animal Crossing games, are available as an Assist Trophy and an item respectively. Brawl also features 24 collectible trophies based on Animal Crossing characters and items.Wii Music features two playable songs from Animal Crossing.The minigame \"Animal Crossing: Sweet Day\" in Nintendo Land is based on the Animal Crossing game series. The objective of the game is for the Wii Remote players (1-4), to gather large amounts of candy scattered around the area and store them in their head without getting caught by the Gatekeepers, who are controlled using the two Wii U GamePad analog sticks.A playable character called \"Villager\" represents the Animal Crossing series as a fighter in Super Smash Bros. for Nintendo 3DS and Wii U and Super Smash Bros. Ultimate. The character has both male and female forms, which are selected when choosing the character. His or her moves include the ability to catch other players in a net and firing Lloid the gyroid as a missile. Additionally, Isabelle from New Leaf appears as an Assist Trophy, and later appeared as a standalone fighter in Ultimate. Two new Animal Crossing stages appear in the games: \"Town & City\" from City Folk in the Wii U version, and \"Tortimer Island\" from New Leaf in the 3DS version. \"Smashville\" from Brawl returns in the Wii U version.Villager and Isabelle are playable characters in Mario Kart 8 via downloadable content, along with a racetrack based on Animal Crossing and a cup named after the series known as the \"Crossing Cup\". The two racers, along with the Animal Crossing track, were also included in the Nintendo Switch version of the game, Mario Kart 8 Deluxe along with a racing suit based on the series for the Mii. In June 2015, Isabelle and Mr. Resetti-themed cosmetics were added as costumes options for the player's \"Palico\" companion in Monster Hunter 4 Ultimate.\n",
      "\n",
      "\n",
      "== See also ==\n",
      "\n",
      "List of Animal Crossing media\n",
      "\n",
      "\n",
      "== Notes ==\n",
      "\n",
      "\n",
      "== References ==\n",
      "\n",
      "\n",
      "== External links ==\n",
      "Official website\n"
     ]
    }
   ],
   "source": [
    "# wiki.page().content to get all plain text of page\n",
    "# excludes images, tables, links, etc.\n",
    "print(wiki.page('Animal Crossing').content)"
   ]
  },
  {
   "cell_type": "code",
   "execution_count": 12,
   "metadata": {},
   "outputs": [
    {
     "name": "stdout",
     "output_type": "stream",
     "text": [
      "https://en.wikipedia.org/wiki/Animal_Crossing\n"
     ]
    }
   ],
   "source": [
    "# wiki.page().url to get page URL\n",
    "print(wiki.page('Animal Crossing').url)"
   ]
  },
  {
   "cell_type": "code",
   "execution_count": 13,
   "metadata": {},
   "outputs": [
    {
     "name": "stdout",
     "output_type": "stream",
     "text": [
      "['http://www.animal-crossing.com/', 'http://www.droidgamers.com/index.php/apps/7395-while-animal-crossing-may-never-see-a-mobile-game-there-could-be-companion-apps-on-the-way', 'http://www.gamesradar.com/e3-08-nintendo-press-conference/', 'http://gematsu.com/2015/05/animal-crossing-happy-home-designer-japanese-release-date-set', 'http://www.ign.com/articles/2002/05/30/animal-crossing', 'http://www.ign.com/articles/2002/09/05/animal-crossing-review', 'http://www.ign.com/articles/2005/12/06/animal-crossing-wild-world', 'http://www.ign.com/articles/2008/11/13/the-evolution-of-animal-crossing-2?page=2', 'http://www.ign.com/articles/2008/11/17/animal-crossing-city-folk-review', 'http://www.ign.com/articles/2010/06/15/e3-2010-animal-crossing-3ds-announced', 'http://www.ign.com/articles/2012/10/25/animal-crossing-3ds-has-a-new-name', 'http://www.ign.com/games/action-replay-ultimate-codes-animal-crossing/gcn-16562', 'http://www.ign.com/games/animal-crossing-3ds/3ds-77803', 'http://www.ign.com/games/animal-crossing-city-folk/wii-748892', 'http://www.ign.com/games/animal-crossing-wild-world/nds-682878', 'http://www.ign.com/games/doubutsu-no-mori/gcn-552545', 'http://www.ique.com/games/21041.htm', 'http://www.japan-gamecharts.com/gc.php', 'http://kotaku.com/no-retro-games-in-future-animal-crossings-with-one-poss-512085493', 'http://kotaku.com/zelda-f-zero-coming-to-mario-kart-8-1627150730', 'http://www.metacritic.com/game/3ds/animal-crossing-happy-home-designer', 'http://www.metacritic.com/game/3ds/animal-crossing-new-leaf', 'http://www.metacritic.com/game/ds/animal-crossing-wild-world', 'http://www.metacritic.com/game/gamecube/animal-crossing', 'http://www.metacritic.com/game/wii-u/animal-crossing-amiibo-festival/critic-reviews', 'http://www.metacritic.com/game/wii/animal-crossing-city-folk', 'http://www.nintendo-insider.com/2016/04/next-nintendo-apps-will-use-fire-emblem-animal-crossing-franchises/', 'http://nintendoeverything.com/photos-with-animal-crossing-nintendo-uk-summer-tour-2015-video/#disqus_thread', 'http://www.nintendolife.com/news/2013/05/profile_kazumi_totaka_the_man_behind_animal_crossings_kk_slider', 'http://www.nintendolife.com/news/2015/06/animal_crossing_director_talks_more_about_happy_home_designer_and_amiibo', 'http://www.nintendolife.com/news/2015/06/monster_hunter_4_ultimate_june_dlc_brings_animal_crossing_devil_may_cry_and_awesome_designs', 'http://www.nintendoworldreport.com/news/40828/animal-crossing-happy-home-designer-bundles-announced-for-uk-and-australia', 'http://www.siliconera.com/2013/01/08/satoru-iwata-on-animal-crossing-sales-56-of-players-are-female/', 'http://www.siliconera.com/2013/02/10/a-lot-of-women-bought-a-3ds-for-animal-crossing-new-leaf-in-japan/', 'http://www.smashbros.com/wii/en_us/gamemode/various/various36_list.html', 'http://www.smashbros.com/wii/en_us/items/assist/assist08.html', 'http://www.smashbros.com/wii/en_us/items/item06.html', 'http://www.smashbros.com/wii/en_us/music/music24_list.html', 'http://www.smashbros.com/wii/en_us/stages/stage06.html', 'http://www.smashbros.com/wiiu-3ds/us/howto/entry4.html', 'http://www.smashbros.com/wiiu-3ds/us/howto/entry6.html', 'http://www.the-magicbox.com/Chart-USPlatinum.shtml', 'http://www.mojenintendo.cz/animal-crossing-new-leaf-welcome-amiibocard/', 'http://www.ibtimes.co.in/super-smash-bros-4-unlock-guide-characters-stages-how-wii-u-3ds-connect-10-million-us-sales-614833', 'http://entertainment.rakuten.co.jp/movie/ranking/boxoffice/2007/', 'http://www.nintendo.co.kr/Wii/software/animal_crossing/main.php', 'http://www.4gamer.net/games/117/G011794/20151202067/', 'http://www.worldcat.org/issn/0362-4331', 'https://www.cnet.com/uk/products/nintendo-land-wii-u/review/2/', 'https://comicbook.com/2018/09/13/super-smash-bros-ultimate-isabelle-animal-crossing/', 'https://www.destructoid.com/here-s-the-rest-of-the-wii-music-tracklist-108429.phtml', 'https://mashable.com/2014/04/02/animal-crossing-gender-gaming/', 'https://www.metacritic.com/game/switch/animal-crossing-new-horizons', 'https://www.nytimes.com/2005/12/19/technology/social-commentary-or-just-a-dogs-opinion.html', 'https://www.pcmag.com/article2/0,2817,2468841,00.asp', 'https://www.polygon.com/e3/2019/6/11/18661310/nintendo-direct-e3-2019-animal-crossing-new-horizons-trailer-release-date', 'https://www.techradar.com/news/animal-crossing-on-nintendo-switch', 'https://www.vg247.com/2019/06/17/animal-crossing-new-horizons-autosave-resettis-job/', 'https://d-nb.info/gnd/7535154-7', 'https://www.nintendo.co.jp/ir/en/sales/software/3ds.html', 'https://www.nintendo.co.jp/ir/en/sales/software/ds.html', 'https://www.nintendo.co.jp/ir/pdf/2009/090508e.pdf#page=6', 'https://www.nintendo.co.jp/ir/pdf/2016/160427_4e.pdf', 'https://web.archive.org/web/20070723025415/http://www.japan-gamecharts.com/gc.php', 'https://web.archive.org/web/20121029165113/http://entertainment.rakuten.co.jp/movie/ranking/boxoffice/2007/', 'https://web.archive.org/web/20160304072130/http://www.droidgamers.com/index.php/apps/7395-while-animal-crossing-may-never-see-a-mobile-game-there-could-be-companion-apps-on-the-way', 'https://www.wikidata.org/wiki/Q1139803']\n"
     ]
    }
   ],
   "source": [
    "# wiki.page().references to get URLS to external links\n",
    "print(wiki.page('Animal Crossing').references)"
   ]
  },
  {
   "cell_type": "code",
   "execution_count": 14,
   "metadata": {},
   "outputs": [
    {
     "name": "stdout",
     "output_type": "stream",
     "text": [
      "Animal Crossing: New Leaf\n"
     ]
    }
   ],
   "source": [
    "# wiki.page().title to get title of page\n",
    "print(wiki.page('Animal Crossing New Leaf').title)"
   ]
  },
  {
   "cell_type": "code",
   "execution_count": 15,
   "metadata": {},
   "outputs": [
    {
     "name": "stdout",
     "output_type": "stream",
     "text": [
      "['2012 video games', 'Animal Crossing', 'Articles containing Japanese-language text', 'Articles using Infobox video game using locally defined parameters', 'Articles using Video game reviews template in single platform mode', 'Articles using Wikidata infoboxes with locally defined images', 'Articles with short description', 'CS1 Japanese-language sources (ja)', 'CS1 maint: archived copy as title', 'CS1 uses Japanese-language script (ja)', 'Life simulation games', 'Nintendo 3DS-only games', 'Nintendo 3DS eShop games', 'Nintendo 3DS games', 'Nintendo Entertainment Analysis and Development games', 'Nintendo Network games', 'Official website different in Wikidata and Wikipedia', 'Social simulation video games', 'Use mdy dates from February 2019', 'Video game sequels', 'Video games developed in Japan', 'Video games featuring protagonists of selectable gender', 'Video games that use Amiibo figurines', 'Video games with downloadable content', 'Webarchive template wayback links']\n"
     ]
    }
   ],
   "source": [
    "# wiki.page().categories to get list of categories of page\n",
    "print(wiki.page('Animal Crossing New Leaf').categories)"
   ]
  },
  {
   "cell_type": "code",
   "execution_count": 16,
   "metadata": {},
   "outputs": [
    {
     "name": "stdout",
     "output_type": "stream",
     "text": [
      "['7-Eleven', 'Alpacas', 'Amiibo', 'Animal Crossing', 'Animal Crossing: Amiibo Festival', 'Animal Crossing: City Folk', 'Animal Crossing: Happy Home Designer', 'Animal Crossing: New Horizons', 'Animal Crossing: Pocket Camp', 'Animal Crossing: Wild World', 'Animal Crossing (video game)', 'Animal Crossing Plaza', 'Anthropomorphic', 'Australasia', 'Autostereoscopy', 'Axolotl', 'Aya Kyogoku', 'Brain Age: Train Your Brain in Minutes a Day!', 'Club Nintendo', 'Computing platform', 'Dragon Quest VIII', 'Dōbutsu no Mori (film)', 'EB Games', 'Electronic Entertainment Expo 2010', 'Electronic Entertainment Expo 2011', 'Europe', 'Facebook', 'Famitsu', 'Final Fantasy VII', 'Final Fantasy VIII', 'Final Fantasy X', 'Final Fantasy XI', 'Final Fantasy XII', 'G4 (U.S. TV channel)', 'G4tv', 'Gamasutra', 'GameCube', 'GameSpot', 'Game (retailer)', 'Gravity Rush', 'Hello Kitty', 'Hisashi Nogami', 'IGN', 'Isabelle (Animal Crossing)', 'Japan', 'Japan Game Awards', 'Japanese language', \"JoJo's Bizarre Adventure: All Star Battle\", 'Joystiq', 'K.K. Slider', 'Katsuya Eguchi', 'Kazumi Totaka', 'Kotaku', 'Life simulation', 'List of Animal Crossing media', 'Mario Kart 8', 'Mario Kart Wii', 'Metacritic', 'Metal Gear Solid 4: Guns of the Patriots', 'Monster Hunter: World', 'Monster Hunter (video game)', 'Monster Hunter 4', 'Monster Hunter Freedom 2', 'Monster Hunter Freedom Unite', 'Monster Hunter Portable 3rd', 'Mr. Resetti', 'Multiplayer', 'New Super Mario Bros. Wii', \"New Year's Eve\", 'Nintendo', 'Nintendo 3DS', 'Nintendo Direct', 'Nintendo EAD', 'Nintendo Land', 'Nintendo Life', 'Nintendo Network', 'Nintendo Selects', 'Nintendo Space World', 'Nintendo eShop', 'Non-player character', 'North America', 'Official Nintendo Magazine', 'Phantasy Star Online', 'Polygon (website)', 'QR code', 'Review aggregator', 'Sakura Wars (video game)', 'Single-player', 'Sloth', 'Social simulation game', 'Splatoon', 'Style Savvy: Trendsetters', 'Super Smash Bros.', 'Super Smash Bros. Ultimate', 'Super Smash Bros. for Nintendo 3DS and Wii U', 'Taiko no Tatsujin', 'Takashi Tezuka', 'The Legend of Zelda', 'The Legend of Zelda: Breath of the Wild', 'The Legend of Zelda: Ocarina of Time', 'The Verge', 'The Wall Street Journal', 'Tom Nook', 'Toro Inoue', 'Tumblr', 'Twitter', 'UBM plc', 'Video game', 'Video game composer', 'Video game console', 'Video game creative director', 'Video game developer', 'Video game genre', 'Video game producer', 'Video game publisher', 'Video game writer', 'Wayback Machine', 'Wi-Fi', 'Wii', 'Wii Fit', 'Wii Sports', 'Wii U', 'Yo-kai Watch (video game)', 'Yo-kai Watch 2', 'YouTube']\n"
     ]
    }
   ],
   "source": [
    "# wiki.page().links to get alphabetical list of links within article page\n",
    "print(wiki.page('Animal Crossing New Leaf').links)"
   ]
  },
  {
   "cell_type": "code",
   "execution_count": 17,
   "metadata": {},
   "outputs": [
    {
     "name": "stdout",
     "output_type": "stream",
     "text": [
      "[]\n"
     ]
    }
   ],
   "source": [
    "# THIS MAY ONLY WORK IF YOU HAVE A KEY!!!!\n",
    "print(wiki.geosearch(38.9, 77.0))"
   ]
  },
  {
   "cell_type": "code",
   "execution_count": null,
   "metadata": {},
   "outputs": [],
   "source": [
    "print(wiki.page(37.787, -122.4))"
   ]
  }
 ],
 "metadata": {
  "kernelspec": {
   "display_name": "Python 3",
   "language": "python",
   "name": "python3"
  },
  "language_info": {
   "codemirror_mode": {
    "name": "ipython",
    "version": 3
   },
   "file_extension": ".py",
   "mimetype": "text/x-python",
   "name": "python",
   "nbconvert_exporter": "python",
   "pygments_lexer": "ipython3",
   "version": "3.7.3"
  }
 },
 "nbformat": 4,
 "nbformat_minor": 2
}
